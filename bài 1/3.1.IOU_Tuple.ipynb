{
  "cells": [
    {
      "cell_type": "code",
      "execution_count": 1,
      "metadata": {
        "colab": {
          "base_uri": "https://localhost:8080/"
        },
        "id": "DU0ehKETVu_w",
        "outputId": "8fd79eba-773e-4ad9-c21f-f0dc9936e84a"
      },
      "outputs": [
        {
          "name": "stdout",
          "output_type": "stream",
          "text": [
            "Mounted at /content/drive\n"
          ]
        }
      ],
      "source": [
        "from google.colab import drive\n",
        "drive.mount('/content/drive')"
      ]
    },
    {
      "cell_type": "code",
      "execution_count": 7,
      "metadata": {
        "id": "oEHgTBmBV4cb"
      },
      "outputs": [],
      "source": [
        "def computeIoU(boxA, boxB):\n",
        "\t# determine the (x, y)-coordinates of the intersection rectangle\n",
        "\txA = max(boxA[0], boxB[0])\n",
        "\tyA = max(boxA[1], boxB[1])\n",
        "\txB = min(boxA[2], boxB[2])\n",
        "\tyB = min(boxA[3], boxB[3])\n",
        "  \n",
        "\t# compute the area of intersection rectangle\n",
        "\tinterArea = max(0, xB - xA + 1) * max(0, yB - yA + 1)\n",
        "\t# compute the area of both the prediction and ground-truth\n",
        "\t# rectangles\n",
        "\tboxAArea = (boxA[2] - boxA[0] + 1) * (boxA[3] - boxA[1] + 1)\n",
        "\tboxBArea = (boxB[2] - boxB[0] + 1) * (boxB[3] - boxB[1] + 1)\n",
        "\t# compute the intersection over union by taking the intersection\n",
        "\t# area and dividing it by the sum of prediction + ground-truth\n",
        "\t# areas - the interesection area\n",
        "\tiou = interArea / float(boxAArea + boxBArea - interArea)\n",
        "\t# return the intersection over union value\n",
        "\treturn iou"
      ]
    },
    {
      "cell_type": "markdown",
      "metadata": {},
      "source": [
        "Hàm computeIoU tính toán chỉ số IoU (Intersection over Union) giữa hai hộp giới hạn (bounding box) trong bài toán nhận dạng vật thể. Dưới đây là mô tả chi tiết về cách hoạt động của hàm này:\n",
        "\n",
        "Đầu vào: Hai tham số đầu vào boxA và boxB đại diện cho hai bounding box. Mỗi bounding box được biểu diễn bằng một tuple chứa 4 giá trị: (x_min, y_min, x_max, y_max), trong đó (x_min, y_min) là tọa độ của góc trái dưới, (x_max, y_max) là tọa độ của góc phải trên của bounding box.\n",
        "Tính toán tọa độ của hộp giao nhau: Đầu tiên, hàm tính toán tọa độ của hộp giao nhau bằng cách chọn xA và yA là tọa độ lớn nhất (max) giữa boxA và boxB ở chiều ngang và chiều dọc. Tương tự, xB và yB là tọa độ nhỏ nhất (min) giữa boxA và boxB ở cả hai chiều.\n",
        "Tính toán diện tích hộp giao nhau: Diện tích hộp giao nhau được tính bằng cách sử dụng tọa độ xA, yA, xB, yB đã tính được từ bước trước và sử dụng công thức (xB - xA + 1) * (yB - yA + 1). Lưu ý rằng chúng ta cần thêm 1 vào mỗi kích thước để tính cả phần diện tích của hộp giao nhau.\n",
        "Tính toán diện tích của mỗi bounding box: Diện tích của mỗi bounding box được tính bằng cách sử dụng tọa độ của nó và công thức (x_max - x_min + 1) * (y_max - y_min + 1).\n",
        "Tính toán chỉ số IoU: Chỉ số IoU được tính bằng cách chia diện tích hộp giao nhau cho tổng diện tích của cả hai bounding box trừ đi diện tích hộp giao nhau.\n",
        "Trả về kết quả: Kết quả cuối cùng là giá trị của chỉ số IoU.\n",
        "Hàm computeIoU này cung cấp một phương pháp đơn giản và hiệu quả để đánh giá sự tương đồng giữa hai bounding box trong các bài toán nhận dạng vật thể."
      ]
    },
    {
      "cell_type": "code",
      "execution_count": 8,
      "metadata": {
        "colab": {
          "base_uri": "https://localhost:8080/"
        },
        "id": "I1ei5z6FV4CM",
        "outputId": "9ee2c646-3c93-4395-9b1c-366de4512106"
      },
      "outputs": [
        {
          "name": "stdout",
          "output_type": "stream",
          "text": [
            "0.20502092050209206\n"
          ]
        }
      ],
      "source": [
        "boxA = (0,0,5,5)\n",
        "boxB = (2.5,2.5,7.5,7.5)\n",
        "error = computeIoU(boxA,boxB)\n",
        "print(error)"
      ]
    },
    {
      "cell_type": "markdown",
      "metadata": {},
      "source": [
        "Trong ví dụ này, hai bounding box được đặc tả như sau:\n",
        "\n",
        "boxA: Góc trái dưới là (0, 0), góc phải trên là (5, 5).\n",
        "boxB: Góc trái dưới là (2.5, 2.5), góc phải trên là (7.5, 7.5).\n",
        "Vì vậy, bounding box boxA có chiều rộng và chiều cao là 5, trong khi bounding box boxB có chiều rộng và chiều cao là 5. Trong trường hợp này, hai bounding box có một phần diện tích giao nhau là 6.25 (vì giao nhau của chúng có kích thước là 2.5x2.5), và tổng diện tích của cả hai bounding box là 32.5.\n",
        "\n",
        "Kết quả cuối cùng của chỉ số IoU sẽ được tính bằng cách chia diện tích giao nhau cho tổng diện tích của cả hai bounding box trừ đi diện tích giao nhau"
      ]
    }
  ],
  "metadata": {
    "colab": {
      "provenance": []
    },
    "kernelspec": {
      "display_name": "Python 3",
      "name": "python3"
    },
    "language_info": {
      "name": "python"
    }
  },
  "nbformat": 4,
  "nbformat_minor": 0
}
