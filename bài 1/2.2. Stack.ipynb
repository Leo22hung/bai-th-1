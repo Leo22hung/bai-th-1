{
 "cells": [
  {
   "cell_type": "markdown",
   "id": "29ed87a1",
   "metadata": {},
   "source": [
    "## Using list"
   ]
  },
  {
   "cell_type": "code",
   "execution_count": 2,
   "id": "becb9038",
   "metadata": {},
   "outputs": [
    {
     "name": "stdout",
     "output_type": "stream",
     "text": [
      "[12, 8, 21]\n",
      "21\n",
      "8\n",
      "12\n"
     ]
    }
   ],
   "source": [
    "# Stack implementation using list\n",
    "\n",
    "# create an empty stack\n",
    "stack = []\n",
    "  \n",
    "# push elements to the end of the list\n",
    "stack.append(12)\n",
    "stack.append(8)\n",
    "stack.append(21)\n",
    "print(stack)\n",
    "  \n",
    "# get elements from the end of the list\n",
    "print(stack.pop(-1))\n",
    "print(stack.pop(-1))\n",
    "print(stack.pop(-1))"
   ]
  },
  {
   "cell_type": "markdown",
   "id": "1c48aa7a",
   "metadata": {},
   "source": [
    "Đoạn code  này triển khai một ngăn xếp bằng cách sử dụng một danh sách. Ban đầu, một danh sách trống được tạo ra để đại diện cho ngăn xếp. Sau đó, các phần tử được đẩy vào cuối danh sách bằng phương thức append(), mô phỏng việc đẩy phần tử vào đỉnh ngăn xếp. Cuối cùng, các phần tử được lấy ra từ cuối danh sách bằng phương thức pop() với chỉ mục -1, tương ứng với việc lấy phần tử trên cùng của ngăn xếp."
   ]
  },
  {
   "cell_type": "markdown",
   "id": "b1c84ef4",
   "metadata": {},
   "source": [
    "## Classes"
   ]
  },
  {
   "cell_type": "code",
   "execution_count": null,
   "id": "6b64969d",
   "metadata": {},
   "outputs": [],
   "source": [
    "# Stack implementation using a linked list\n",
    "\n",
    "# node class  \n",
    "class Node:\n",
    "    def __init__(self, value):\n",
    "        self.value = value\n",
    "        self.next = None"
   ]
  },
  {
   "cell_type": "markdown",
   "id": "9bf09508",
   "metadata": {},
   "source": [
    "Đoạn code này triển khai một cấu trúc dữ liệu ngăn xếp bằng cách sử dụng một danh sách liên kết đơn. Class Node đại diện cho mỗi phần tử trong ngăn xếp. Mỗi nút (node) chứa một giá trị và một tham chiếu đến nút tiếp theo trong danh sách.\n",
    "\n",
    "Phương thức __init__ được sử dụng để khởi tạo một nút mới với giá trị đã cho và tham chiếu tiếp theo ban đầu là None."
   ]
  },
  {
   "cell_type": "code",
   "execution_count": null,
   "id": "43c3618b",
   "metadata": {},
   "outputs": [],
   "source": [
    "class Stack:\n",
    "    # Initializing a stack\n",
    "    # Use a dummy node, which is easier for handling edge cases.\n",
    "    def __init__(self):\n",
    "        self.head = Node(\"head\")\n",
    "        self.size = 0\n",
    "        \n",
    "    # String representation of the stack\n",
    "    def __str__(self):\n",
    "        cur = self.head.next\n",
    "        out = \"\"\n",
    "        while cur:\n",
    "            out += str(cur.value) + \"->\"\n",
    "            cur = cur.next\n",
    "        return out[:-3]\n",
    "    \n",
    "    # Get the current size of the stack\n",
    "    def getSize(self):\n",
    "        return self.size\n",
    "    \n",
    "    # Check if the stack is empty\n",
    "    def isEmpty(self):\n",
    "        return self.size == 0\n",
    "    \n",
    "    # Get the top item of the stack\n",
    "    def peek(self):\n",
    "        # Sanitary check to see if we are peeking an empty stack.\n",
    "        if self.isEmpty():\n",
    "            raise Exception(\"Peeking from an empty stack\")\n",
    "        return self.head.next.value\n",
    "    \n",
    "    # Push a value into the stack.\n",
    "    def push(self, value):\n",
    "        node = Node(value)\n",
    "        node.next = self.head.next\n",
    "        self.head.next = node\n",
    "        self.size += 1\n",
    "        \n",
    "    # Remove a value from the stack and return.\n",
    "    def pop(self):\n",
    "        if self.isEmpty():\n",
    "            raise Exception(\"Popping from an empty stack\")\n",
    "        remove = self.head.next\n",
    "        self.head.next = self.head.next.next\n",
    "        self.size -= 1\n",
    "        return remove.value"
   ]
  },
  {
   "cell_type": "markdown",
   "id": "edf68538",
   "metadata": {},
   "source": [
    "Lớp Stack này triển khai một ngăn xếp bằng cách sử dụng danh sách liên kết đơn đã được định nghĩa trong lớp Node. Mỗi đối tượng Stack bao gồm một tham chiếu đến đầu danh sách liên kết (self.head) và một biến size để theo dõi kích thước của ngăn xếp.\n",
    "\n",
    "Phương thức __init__: Khởi tạo một ngăn xếp rỗng bằng cách tạo một nút đầu tiên với giá trị là \"head\" và size bằng 0.\n",
    "Phương thức __str__: Trả về biểu diễn chuỗi của ngăn xếp dưới dạng một chuỗi được nối từ các giá trị của các nút trong ngăn xếp.\n",
    "Phương thức getSize: Trả về kích thước hiện tại của ngăn xếp.\n",
    "Phương thức isEmpty: Kiểm tra xem ngăn xếp có rỗng không.\n",
    "Phương thức peek: Trả về giá trị của phần tử đầu tiên trong ngăn xếp mà không xóa nó khỏi ngăn xếp.\n",
    "Phương thức push: Thêm một phần tử vào đầu ngăn xếp.\n",
    "Phương thức pop: Loại bỏ và trả về phần tử ở đầu ngăn xếp."
   ]
  },
  {
   "cell_type": "code",
   "execution_count": null,
   "id": "cb03fb8d",
   "metadata": {},
   "outputs": [],
   "source": [
    "# Driver Code\n",
    "if __name__ == \"__main__\":\n",
    "    stack = Stack()\n",
    "    for i in range(1, 11):\n",
    "        stack.push(i)\n",
    "    print(f\"Stack: {stack}\")\n",
    "    \n",
    "    for _ in range(1, 6):\n",
    "        remove = stack.pop()\n",
    "        print(f\"Pop: {remove}\")\n",
    "    print(f\"Stack: {stack}\")"
   ]
  },
  {
   "cell_type": "markdown",
   "id": "fe0cb6cc",
   "metadata": {},
   "source": [
    "Đoạn code này kiểm tra việc triển khai của lớp Stack bằng cách tạo một đối tượng Stack, đẩy các số từ 1 đến 10 vào ngăn xếp, sau đó lần lượt loại bỏ 5 phần tử đầu tiên khỏi ngăn xếp và in ra giá trị của các phần tử đã loại bỏ cùng với trạng thái của ngăn xếp sau mỗi lần loại bỏ. Đoạn code này giúp chúng ta xác minh rằng ngăn xếp hoạt động như mong đợi."
   ]
  }
 ],
 "metadata": {
  "kernelspec": {
   "display_name": "Python 3 (ipykernel)",
   "language": "python",
   "name": "python3"
  },
  "language_info": {
   "codemirror_mode": {
    "name": "ipython",
    "version": 3
   },
   "file_extension": ".py",
   "mimetype": "text/x-python",
   "name": "python",
   "nbconvert_exporter": "python",
   "pygments_lexer": "ipython3",
   "version": "3.9.12"
  }
 },
 "nbformat": 4,
 "nbformat_minor": 5
}
