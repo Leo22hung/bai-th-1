{
 "cells": [
  {
   "cell_type": "markdown",
   "metadata": {},
   "source": [
    "## Using list"
   ]
  },
  {
   "cell_type": "code",
   "execution_count": 1,
   "metadata": {},
   "outputs": [
    {
     "name": "stdout",
     "output_type": "stream",
     "text": [
      "[5, 3, 7, 4, 2]\n"
     ]
    }
   ],
   "source": [
    "# Queue implementation using list\n",
    "  \n",
    "# Initializing a queue\n",
    "queue = []\n",
    "  \n",
    "# push elements to the end of the list\n",
    "queue.append(5)\n",
    "queue.append(3)\n",
    "queue.append(7)\n",
    "queue.append(4)\n",
    "queue.append(2)\n",
    "  \n",
    "# print the queue\n",
    "print(queue)"
   ]
  },
  {
   "cell_type": "markdown",
   "metadata": {},
   "source": [
    "Đoạn code này triển khai một hàng đợi bằng cách sử dụng một danh sách. Nó bắt đầu bằng cách khởi tạo một hàng đợi rỗng bằng cách tạo một danh sách trống. Sau đó, nó thêm các phần tử vào cuối danh sách bằng cách sử dụng phương thức append(). Cuối cùng, nó in ra hàng đợi sau khi đã thêm các phần tử vào đó."
   ]
  },
  {
   "cell_type": "code",
   "execution_count": 2,
   "metadata": {},
   "outputs": [
    {
     "name": "stdout",
     "output_type": "stream",
     "text": [
      "5\n",
      "3\n",
      "7\n",
      "[4, 2]\n"
     ]
    }
   ],
   "source": [
    "# get elements from the beginning\n",
    "print(queue.pop(0))\n",
    "print(queue.pop(0))\n",
    "print(queue.pop(0))\n",
    "  \n",
    "# print the queue\n",
    "print(queue)"
   ]
  },
  {
   "cell_type": "markdown",
   "metadata": {},
   "source": [
    "Sau khi thêm các phần tử vào cuối hàng đợi, đoạn code tiếp tục lấy các phần tử ra từ đầu hàng đợi bằng cách sử dụng phương thức pop(0). Sau mỗi lần lấy ra, phần tử đó sẽ được loại bỏ khỏi hàng đợi. Cuối cùng, nó in ra hàng đợi sau khi đã lấy ra một số phần tử từ đầu của nó."
   ]
  },
  {
   "cell_type": "markdown",
   "metadata": {},
   "source": [
    "## Classes"
   ]
  },
  {
   "cell_type": "code",
   "execution_count": 1,
   "metadata": {},
   "outputs": [],
   "source": [
    "# Class Queue to represent a queue\n",
    "class Queue:\n",
    "    # __init__ function\n",
    "    def __init__(self, capacity):\n",
    "        self.front = self.size = 0\n",
    "        self.rear = capacity -1\n",
    "        self.Q = [None]*capacity\n",
    "        self.capacity = capacity\n",
    "        \n",
    "    # Queue is full when size becomes\n",
    "    # equal to the capacity\n",
    "    def isFull(self):\n",
    "        return self.size == self.capacity\n",
    "     \n",
    "    # Queue is empty when size is 0\n",
    "    def isEmpty(self):\n",
    "        return self.size == 0\n",
    "    \n",
    "    # Function to add an item to the queue.\n",
    "    # It changes rear and size\n",
    "    def enQueue(self, item):\n",
    "        if self.isFull():\n",
    "            print(\"Full\")\n",
    "            return\n",
    "        self.rear = (self.rear + 1) % (self.capacity)\n",
    "        self.Q[self.rear] = item\n",
    "        self.size = self.size + 1\n",
    "        print(\"% s enqueued to queue\"  % str(item))\n",
    "        \n",
    "    # Function to remove an item from queue.\n",
    "    # It changes front and size\n",
    "    def deQueue(self):\n",
    "        if self.isEmpty():\n",
    "            print(\"Empty\")\n",
    "            return\n",
    "         \n",
    "        print(\"% s dequeued from queue\" % str(self.Q[self.front]))\n",
    "        self.front = (self.front + 1) % (self.capacity)\n",
    "        self.size = self.size -1\n",
    "         \n",
    "    # Function to get front of queue\n",
    "    def que_front(self):\n",
    "        if self.isEmpty():\n",
    "            print(\"Queue is empty\")\n",
    "            \n",
    "        print(\"Front item is\", self.Q[self.front])\n",
    "         \n",
    "    # Function to get rear of queue\n",
    "    def que_rear(self):\n",
    "        if self.isEmpty():\n",
    "            print(\"Queue is empty\")\n",
    "        print(\"Rear item is\",  self.Q[self.rear])"
   ]
  },
  {
   "cell_type": "markdown",
   "metadata": {},
   "source": [
    "Lớp Queue này triển khai một hàng đợi sử dụng mảng và các phương thức sau:\n",
    "\n",
    "__init__(self, capacity): Khởi tạo hàng đợi với dung lượng cho trước.\n",
    "isFull(self): Kiểm tra xem hàng đợi có đầy không.\n",
    "isEmpty(self): Kiểm tra xem hàng đợi có rỗng không.\n",
    "enQueue(self, item): Thêm một phần tử vào hàng đợi.\n",
    "deQueue(self): Loại bỏ một phần tử khỏi hàng đợi.\n",
    "que_front(self): Trả về phần tử ở phía trước của hàng đợi.\n",
    "que_rear(self): Trả về phần tử ở phía sau của hàng đợi.\n",
    "Mỗi lần phần tử được thêm vào hàng đợi, chỉ mục rear sẽ tăng lên. Mỗi lần một phần tử được lấy ra khỏi hàng đợi, chỉ mục front sẽ tăng lên. Chỉ mục này sẽ luôn trỏ đến phần tử tiếp theo cần được lấy ra. Để xử lý trường hợp khi front hoặc rear vượt quá kích thước của mảng, phương thức % (modulo) được sử dụng để lặp lại chỉ mục từ đầu khi cần thiết."
   ]
  },
  {
   "cell_type": "code",
   "execution_count": 2,
   "metadata": {},
   "outputs": [
    {
     "name": "stdout",
     "output_type": "stream",
     "text": [
      "10 enqueued to queue\n",
      "20 enqueued to queue\n",
      "30 enqueued to queue\n",
      "40 enqueued to queue\n",
      "10 dequeued from queue\n",
      "Front item is 20\n",
      "Rear item is 40\n"
     ]
    }
   ],
   "source": [
    "# Driver Code\n",
    "if __name__ == '__main__':\n",
    "    queue = Queue(30)\n",
    "    queue.enQueue(10)\n",
    "    queue.enQueue(20)\n",
    "    queue.enQueue(30)\n",
    "    queue.enQueue(40)\n",
    "    queue.deQueue()\n",
    "    queue.que_front()\n",
    "    queue.que_rear()"
   ]
  },
  {
   "cell_type": "markdown",
   "metadata": {},
   "source": [
    "Dòng cuối cùng khởi tạo một Queue với dung lượng 30, sau đó thực hiện các thao tác sau:\n",
    "\n",
    "enQueue(10): Thêm phần tử 10 vào hàng đợi.\n",
    "enQueue(20): Thêm phần tử 20 vào hàng đợi.\n",
    "enQueue(30): Thêm phần tử 30 vào hàng đợi.\n",
    "enQueue(40): Thêm phần tử 40 vào hàng đợi.\n",
    "deQueue(): Loại bỏ một phần tử từ hàng đợi.\n",
    "que_front(): In ra phần tử ở phía trước của hàng đợi.\n",
    "que_rear(): In ra phần tử ở phía sau của hàng đợi.\n",
    "Với các thao tác này, chúng ta thấy rằng phần tử đầu tiên được thêm vào hàng đợi là 10, sau đó là 20, 30, và cuối cùng là 40. Sau khi loại bỏ một phần tử, phần tử tiếp theo trong hàng đợi là 20. Phần tử cuối cùng trong hàng đợi là 40."
   ]
  }
 ],
 "metadata": {
  "kernelspec": {
   "display_name": "Python 3 (ipykernel)",
   "language": "python",
   "name": "python3"
  },
  "language_info": {
   "codemirror_mode": {
    "name": "ipython",
    "version": 3
   },
   "file_extension": ".py",
   "mimetype": "text/x-python",
   "name": "python",
   "nbconvert_exporter": "python",
   "pygments_lexer": "ipython3",
   "version": "3.9.12"
  }
 },
 "nbformat": 4,
 "nbformat_minor": 2
}
