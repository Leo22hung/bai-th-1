{
 "cells": [
  {
   "cell_type": "code",
   "execution_count": null,
   "metadata": {},
   "outputs": [],
   "source": [
    "# create a set\n",
    "animals = {\"cat\", \"dog\", \"tiger\"}\n",
    "\n",
    "print(type(animals))\n",
    "print(animals)"
   ]
  },
  {
   "cell_type": "markdown",
   "metadata": {},
   "source": [
    "tạo ra một tập hợp chứa các loài động vật gồm mèo (\"cat\"), chó (\"dog\"), và hổ (\"tiger\"). Để tạo tập hợp, ta sử dụng dấu ngoặc nhọn {} và liệt kê các phần tử của tập hợp, mỗi phần tử cách nhau bởi dấu phẩy.\n",
    "\n",
    "Sau đó, in ra kiểu dữ liệu của biến animals, và các phần tử của tập hợp đó. Điều này giúp xác nhận rằng animals là một tập hợp và hiển thị nội dung của nó."
   ]
  },
  {
   "cell_type": "code",
   "execution_count": null,
   "metadata": {},
   "outputs": [],
   "source": [
    "# create a set\n",
    "a_set = {\"cat\", 5, True, 40.0}\n",
    "\n",
    "print(type(a_set))\n",
    "print(a_set)"
   ]
  },
  {
   "cell_type": "markdown",
   "metadata": {},
   "source": [
    "tạo ra một tập hợp (set) có tên là a_set, chứa một loạt các phần tử khác nhau, bao gồm chuỗi \"cat\", số nguyên 5, giá trị boolean True, và số thực 40.0. Trong Python, tập hợp có thể chứa các loại dữ liệu khác nhau.\n",
    "\n",
    "Sau đó, mã in ra kiểu dữ liệu của biến a_set, và các phần tử của tập hợp đó. Điều này giúp xác nhận rằng a_set là một tập hợp và hiển thị nội dung của nó."
   ]
  },
  {
   "cell_type": "code",
   "execution_count": null,
   "metadata": {},
   "outputs": [],
   "source": [
    "# No duplication\n",
    "animals = {\"cat\", \"dog\", \"tiger\"}\n",
    "print(animals)\n",
    "\n",
    "animals.add(\"cat\")\n",
    "print(animals)"
   ]
  },
  {
   "cell_type": "markdown",
   "metadata": {},
   "source": [
    "thực hiện các thao tác liên quan đến việc thêm phần tử vào tập hợp animals. Ban đầu, tập hợp chứa các phần tử \"cat\", \"dog\", và \"tiger\".\n",
    "\n",
    "Sau đó, phần tử \"cat\" được thêm vào tập hợp bằng cách sử dụng phương thức add(). Tuy nhiên, vì tập hợp không chấp nhận các phần tử trùng lặp, khi thêm \"cat\" vào tập hợp lần thứ hai, phần tử này sẽ không được thêm vào một lần nữa. Do đó, kết quả in ra của hai lệnh print sẽ không có sự thay đổi."
   ]
  },
  {
   "cell_type": "code",
   "execution_count": null,
   "metadata": {},
   "outputs": [],
   "source": [
    "# copy\n",
    "animals = {\"cat\", \"dog\", \"tiger\"}\n",
    "print(\"Animals:\", animals)\n",
    "\n",
    "a_copy = animals.copy()\n",
    "print(\"Copy:\", a_copy)"
   ]
  },
  {
   "cell_type": "markdown",
   "metadata": {},
   "source": [
    "tạo ra một tập hợp animals chứa các phần tử \"cat\", \"dog\", và \"tiger\". Sau đó, nó tạo ra một bản sao của tập hợp này bằng cách sử dụng phương thức copy() và lưu vào biến a_copy.\n",
    "\n",
    "Kết quả in ra của hai lệnh print sẽ hiển thị nội dung của tập hợp gốc animals và bản sao a_copy. Cả hai tập hợp này sẽ chứa cùng các phần tử \"cat\", \"dog\", và \"tiger\". Điều này chứng tỏ rằng copy() tạo ra một bản sao độc lập của tập hợp gốc."
   ]
  },
  {
   "cell_type": "code",
   "execution_count": null,
   "metadata": {},
   "outputs": [],
   "source": [
    "# accessing items\n",
    "animals = {\"cat\", \"dog\", \"tiger\"}\n",
    "for animal in animals:\n",
    "    print(animal)"
   ]
  },
  {
   "cell_type": "markdown",
   "metadata": {},
   "source": [
    "code trên sử dụng một vòng lặp for để duyệt qua từng phần tử trong tập hợp animals. Trong mỗi lần lặp, giá trị của biến animal sẽ lấy giá trị của một phần tử trong tập hợp và được in ra màn hình.\n",
    "\n",
    "Kết quả sẽ là việc in ra các phần tử của tập hợp animals, mỗi phần tử trên một dòng riêng biệt."
   ]
  },
  {
   "cell_type": "code",
   "execution_count": null,
   "metadata": {},
   "outputs": [],
   "source": [
    "# not support indexing\n",
    "animals = {\"cat\", \"dog\", \"tiger\"}\n",
    "print(animals[1])"
   ]
  },
  {
   "cell_type": "markdown",
   "metadata": {},
   "source": [
    "code trên cố gắng truy cập phần tử thứ hai trong tập hợp animals bằng cách sử dụng chỉ mục [1]. Tuy nhiên, tập hợp trong Python không hỗ trợ truy cập phần tử bằng chỉ mục như danh sách hoặc tuple. Do đó, mã sẽ sinh ra lỗi TypeError vì tập hợp không hỗ trợ phép toán indexing."
   ]
  },
  {
   "cell_type": "code",
   "execution_count": null,
   "metadata": {},
   "outputs": [],
   "source": [
    "# add an item\n",
    "animals = {\"cat\", \"dog\", \"tiger\"}\n",
    "animals.add(\"bear\")\n",
    "print(animals)"
   ]
  },
  {
   "cell_type": "markdown",
   "metadata": {},
   "source": [
    "code trên thêm một phần tử mới \"bear\" vào tập hợp animals bằng cách sử dụng phương thức add(). Kết quả sau khi thêm sẽ là tập hợp animals chứa các phần tử \"cat\", \"dog\", \"tiger\", và \"bear\". Điều này cho thấy phương thức add() được sử dụng để thêm một phần tử mới vào tập hợp."
   ]
  },
  {
   "cell_type": "code",
   "execution_count": null,
   "metadata": {},
   "outputs": [],
   "source": [
    "# insert a set to another set\n",
    "animals = {\"cat\", \"dog\", \"tiger\"}\n",
    "animals.update({\"chicken\",\"Duck\"})\n",
    "print(animals)"
   ]
  },
  {
   "cell_type": "markdown",
   "metadata": {},
   "source": [
    "Mã trên sử dụng phương thức update() để thêm một tập hợp mới vào tập hợp animals. Trong trường hợp này, tập hợp mới được thêm vào chứa các phần tử \"chicken\" và \"Duck\".\n",
    "\n",
    "Kết quả sau khi cập nhật sẽ là tập hợp animals chứa các phần tử từ cả hai tập hợp gốc và tập hợp mới: \"cat\", \"dog\", \"tiger\", \"chicken\", và \"Duck\". Phương thức update() được sử dụng để thêm nhiều phần tử vào tập hợp từ một tập hợp khác."
   ]
  },
  {
   "cell_type": "code",
   "execution_count": null,
   "metadata": {},
   "outputs": [],
   "source": [
    "# join two sets\n",
    "set1 = {\"cat\", \"dog\"}\n",
    "set2 = {\"duck\", \"tiger\"}\n",
    "\n",
    "set3 = set1.union(set2)\n",
    "print(set3)"
   ]
  },
  {
   "cell_type": "markdown",
   "metadata": {},
   "source": [
    "code trên sử dụng phương thức union() để kết hợp hai tập hợp set1 và set2 thành một tập hợp mới set3. Phương thức union() trả về một tập hợp mới chứa tất cả các phần tử từ cả hai tập hợp gốc mà không có phần tử nào lặp lại.\n",
    "\n",
    "Kết quả in ra sẽ là tập hợp set3 chứa các phần tử từ cả set1 và set2: \"cat\", \"dog\", \"duck\", và \"tiger\". Điều này cho thấy phương thức union() được sử dụng để kết hợp các phần tử từ hai tập hợp mà không có phần tử nào lặp lại."
   ]
  },
  {
   "cell_type": "code",
   "execution_count": null,
   "metadata": {},
   "outputs": [],
   "source": [
    "# remove an item\n",
    "animals = {\"cat\", \"dog\", \"tiger\"}\n",
    "animals.remove(\"dog\")\n",
    "print(animals)"
   ]
  },
  {
   "cell_type": "markdown",
   "metadata": {},
   "source": [
    "code trên sử dụng phương thức remove() để loại bỏ một phần tử khỏi tập hợp animals. Trong trường hợp này, phần tử \"dog\" được loại bỏ khỏi tập hợp.\n",
    "\n",
    "Kết quả sau khi loại bỏ sẽ là tập hợp animals chỉ chứa các phần tử \"cat\" và \"tiger\". Điều này cho thấy phương thức remove() được sử dụng để loại bỏ một phần tử cụ thể khỏi tập hợp. Lưu ý rằng nếu phần tử không tồn tại trong tập hợp, phương thức remove() sẽ sinh ra một lỗi."
   ]
  },
  {
   "cell_type": "code",
   "execution_count": null,
   "metadata": {},
   "outputs": [],
   "source": [
    "# remove an item\n",
    "animals = {\"cat\", \"dog\", \"tiger\"}\n",
    "animals.discard(\"tiger\")\n",
    "print(animals)"
   ]
  },
  {
   "cell_type": "markdown",
   "metadata": {},
   "source": [
    "code trên sử dụng phương thức discard() để loại bỏ một phần tử khỏi tập hợp animals. Trong trường hợp này, phần tử \"tiger\" được loại bỏ khỏi tập hợp.\n",
    "\n",
    "Kết quả sau khi loại bỏ sẽ là tập hợp animals chỉ chứa các phần tử \"cat\" và \"dog\". Phương thức discard() giống như remove(), nhưng nó không sinh ra lỗi nếu phần tử không tồn tại trong tập hợp."
   ]
  },
  {
   "cell_type": "code",
   "execution_count": null,
   "metadata": {},
   "outputs": [],
   "source": [
    "# remove an item\n",
    "animals = {\"cat\", \"dog\", \"tiger\"}\n",
    "animals.remove(\"duck\")\n",
    "print(animals)"
   ]
  },
  {
   "cell_type": "markdown",
   "metadata": {},
   "source": [
    "Mã trên sử dụng phương thức remove() để loại bỏ một phần tử khỏi tập hợp animals. Tuy nhiên, trong trường hợp này, phần tử \"duck\" không tồn tại trong tập hợp, do đó một lỗi sẽ được sinh ra.\n",
    "\n",
    "Lỗi sẽ hiển thị như sau:\n",
    "\n",
    "KeyError: 'duck'\n",
    "\n",
    "Điều này xảy ra vì phương thức remove() yêu cầu phần tử cần loại bỏ phải tồn tại trong tập hợp, nếu không, nó sẽ sinh ra một lỗi. Để tránh lỗi khi không chắc chắn về sự tồn tại của phần tử, bạn có thể sử dụng phương thức discard() thay thế, vì nó sẽ không sinh ra lỗi khi loại bỏ một phần tử không tồn tại."
   ]
  },
  {
   "cell_type": "code",
   "execution_count": null,
   "metadata": {},
   "outputs": [],
   "source": [
    "# remove an item\n",
    "animals = {\"cat\", \"dog\", \"tiger\"}\n",
    "animals.discard(\"duck\")\n",
    "print(animals)"
   ]
  },
  {
   "cell_type": "markdown",
   "metadata": {},
   "source": [
    "code trên sử dụng phương thức discard() để loại bỏ một phần tử khỏi tập hợp animals. Trong trường hợp này, phần tử \"duck\" không tồn tại trong tập hợp, nhưng không có lỗi nào được sinh ra khi sử dụng phương thức discard().\n",
    "\n",
    "Kết quả sau khi loại bỏ sẽ là tập hợp animals vẫn giữ nguyên các phần tử \"cat\", \"dog\", và \"tiger\". Phương thức discard() được sử dụng khi bạn muốn loại bỏ một phần tử từ tập hợp mà không cần quan tâm đến việc phần tử đó có tồn tại trong tập hợp hay không."
   ]
  },
  {
   "cell_type": "code",
   "execution_count": null,
   "metadata": {},
   "outputs": [],
   "source": [
    "# create a set\n",
    "a_list = [1, 2, 3]\n",
    "a_set  = {\"cat\", a_list}\n",
    "print(a_set)"
   ]
  },
  {
   "cell_type": "code",
   "execution_count": null,
   "metadata": {},
   "outputs": [],
   "source": [
    "a_tuple = (1, 2, 3)\n",
    "a_set = {\"cat\", a_tuple}\n",
    "print(a_set)"
   ]
  },
  {
   "cell_type": "markdown",
   "metadata": {},
   "source": [
    "code trên tạo một tuple a_tuple chứa các số nguyên 1, 2 và 3. Sau đó, nó tạo một tập hợp a_set với hai phần tử: \"cat\" và tuple a_tuple.\n",
    "\n",
    "Kết quả khi in a_set sẽ là tập hợp chứa \"cat\" và tuple (1, 2, 3). Điều này thể hiện tính linh hoạt của tập hợp trong Python, nơi bạn có thể chứa các loại dữ liệu khác nhau như chuỗi, số nguyên, tuple, và nhiều hơn nữa."
   ]
  },
  {
   "cell_type": "code",
   "execution_count": null,
   "metadata": {},
   "outputs": [],
   "source": [
    "# difference \n",
    "\n",
    "set1 = {\"apple\", \"banana\", \"cherry\"}\n",
    "set2 = {\"pineapple\", \"apple\"}\n",
    "\n",
    "set3 = set1.difference(set2)\n",
    "\n",
    "print(set3)"
   ]
  },
  {
   "cell_type": "markdown",
   "metadata": {},
   "source": [
    "Trong đoạn code trên, set1 và set2 là hai tập hợp khác nhau. Bằng cách sử dụng phương thức difference(), chúng ta lấy sự khác biệt giữa set1 và set2, nghĩa là tất cả các phần tử mà có trong set1 nhưng không có trong set2.\n",
    "\n",
    "Kết quả sẽ là một tập hợp mới set3 chứa các phần tử của set1 mà không có trong set2. Trong trường hợp này, set3 sẽ chứa phần tử \"banana\" và \"cherry\"."
   ]
  },
  {
   "cell_type": "code",
   "execution_count": null,
   "metadata": {},
   "outputs": [],
   "source": [
    "# difference_update\n",
    "\n",
    "set1 = {\"apple\", \"banana\", \"cherry\"}\n",
    "set2 = {\"pineapple\", \"apple\"}\n",
    "\n",
    "set1.difference_update(set2)\n",
    "\n",
    "print(set1)"
   ]
  },
  {
   "cell_type": "markdown",
   "metadata": {},
   "source": [
    "Trong đoạn code trên, ta có hai tập hợp set1 và set2. Bằng cách sử dụng phương thức difference_update(), ta cập nhật set1 bằng cách loại bỏ tất cả các phần tử mà cũng có trong set2.\n",
    "\n",
    "Kết quả là set1 sẽ chỉ chứa các phần tử không có trong set2. Trong trường hợp này, phần tử \"apple\" có trong cả hai tập hợp, vì vậy nó sẽ bị loại bỏ khỏi set1. Do đó, kết quả in ra sẽ chỉ chứa \"banana\" và \"cherry\"."
   ]
  },
  {
   "cell_type": "code",
   "execution_count": null,
   "metadata": {},
   "outputs": [],
   "source": [
    "set1 = {\"apple\", \"banana\", \"cherry\"}\n",
    "set2 = {\"pineapple\", \"apple\"}\n",
    "\n",
    "print(id(set1))\n",
    "set1.difference_update(set2)\n",
    "\n",
    "print(set1)\n",
    "print(id(set1))"
   ]
  },
  {
   "cell_type": "markdown",
   "metadata": {},
   "source": [
    "Phương thức difference_update() cập nhật trực tiếp tập hợp gốc (set1) bằng cách loại bỏ tất cả các phần tử có trong tập hợp được chỉ định (set2). Điều này làm thay đổi trực tiếp set1 mà không tạo ra một tập hợp mới.\n",
    "\n",
    "Trong đoạn code trên, id(set1) cho biết địa chỉ bộ nhớ của set1 trước và sau khi cập nhật. Nếu id(set1) trước và sau là giống nhau, điều đó có nghĩa là tập hợp set1 đã được cập nhật mà không tạo ra một bản sao mới.\n",
    "\n",
    "Vì vậy, khi in id(set1) trước và sau khi gọi difference_update(),ta sẽ thấy cùng một địa chỉ bộ nhớ, cho thấy rằng set1 đã được cập nhật trực tiếp."
   ]
  },
  {
   "cell_type": "code",
   "execution_count": null,
   "metadata": {},
   "outputs": [],
   "source": [
    "# symmetric_difference\n",
    "\n",
    "set1 = {\"apple\", \"banana\", \"cherry\"}\n",
    "set2 = {\"pineapple\", \"apple\"}\n",
    "\n",
    "set3 = set1.symmetric_difference(set2)\n",
    "\n",
    "print(set3)"
   ]
  },
  {
   "cell_type": "markdown",
   "metadata": {},
   "source": [
    "Trong đoạn code trên, ta sử dụng phương thức symmetric_difference() để tạo một tập hợp mới set3 chứa tất cả các phần tử mà chỉ có một trong hai tập hợp set1 hoặc set2, nhưng không phải cả hai.\n",
    "\n",
    "Kết quả là set3 sẽ chứa tất cả các phần tử không thuộc cả hai tập hợp hoặc chỉ thuộc một trong chúng. Trong trường hợp này, kết quả sẽ là {\"banana\", \"pineapple\", \"cherry\"}. Phần tử \"apple\" xuất hiện trong cả hai tập hợp nên sẽ không được bao gồm trong kết quả."
   ]
  },
  {
   "cell_type": "code",
   "execution_count": null,
   "metadata": {},
   "outputs": [],
   "source": [
    "# symmetric_difference_update\n",
    "\n",
    "set1 = {\"apple\", \"banana\", \"cherry\"}\n",
    "set2 = {\"pineapple\", \"apple\"}\n",
    "\n",
    "set1.symmetric_difference_update(set2)\n",
    "\n",
    "print(set1)"
   ]
  },
  {
   "cell_type": "markdown",
   "metadata": {},
   "source": [
    "\n",
    "Phương thức symmetric_difference_update() cập nhật trực tiếp tập hợp gốc (set1) bằng cách loại bỏ tất cả các phần tử có trong cả hai tập hợp và thêm các phần tử không giống nhau của cả hai tập hợp.\n",
    "\n",
    "Trong trường hợp trên, set1 được cập nhật để chỉ chứa các phần tử mà chỉ xuất hiện trong một trong hai tập hợp, nhưng không phải cả hai. Điều này có nghĩa là các phần tử \"apple\" sẽ bị loại bỏ vì chúng xuất hiện trong cả hai tập hợp, và \"banana\", \"cherry\", \"pineapple\" sẽ được thêm vào set1.\n",
    "\n",
    "Kết quả sẽ là {\"banana\", \"pineapple\", \"cherry\"}."
   ]
  },
  {
   "cell_type": "code",
   "execution_count": null,
   "metadata": {},
   "outputs": [],
   "source": [
    "# AND (&)\n",
    "\n",
    "set1 = {1, 2, 3}\n",
    "set2 = {3, 4, 5}\n",
    "\n",
    "print(set1 & set2)"
   ]
  },
  {
   "cell_type": "markdown",
   "metadata": {},
   "source": [
    "Toán tử AND (&) giữ lại các phần tử chỉ xuất hiện trong cả hai tập hợp. Trong trường hợp của bạn, set1 và set2 chứa các phần tử 3, nên kết quả của phép AND sẽ là tập hợp chứa chỉ có phần tử 3, tức là {3}."
   ]
  },
  {
   "cell_type": "code",
   "execution_count": null,
   "metadata": {},
   "outputs": [],
   "source": [
    "# OR (|)\n",
    "\n",
    "set1 = {1, 2, 3}\n",
    "set2 = {3, 4, 5}\n",
    "\n",
    "print(set1 | set2)"
   ]
  },
  {
   "cell_type": "markdown",
   "metadata": {},
   "source": [
    "Toán tử OR (|) tạo ra một tập hợp mới chứa tất cả các phần tử từ cả hai tập hợp, loại bỏ các phần tử trùng lặp. Trong trường hợp này, kết quả của phép OR sẽ là tập hợp chứa tất cả các phần tử từ set1 và set2, bao gồm cả {1, 2, 3, 4, 5}."
   ]
  },
  {
   "cell_type": "code",
   "execution_count": null,
   "metadata": {},
   "outputs": [],
   "source": [
    "# XOR (^)\n",
    "\n",
    "set1 = {1, 2, 3}\n",
    "set2 = {3, 4, 5}\n",
    "\n",
    "print(set1 ^ set2)"
   ]
  },
  {
   "cell_type": "markdown",
   "metadata": {},
   "source": [
    "Toán tử XOR (^) tạo ra một tập hợp mới chứa các phần tử chỉ xuất hiện trong một trong hai tập hợp, nhưng không phải trong cả hai. Trong trường hợp này, kết quả của phép XOR sẽ là tập hợp chứa các phần tử chỉ có mặt trong set1 hoặc set2, nhưng không phải cả hai, tức là {1, 2, 4, 5}."
   ]
  },
  {
   "cell_type": "code",
   "execution_count": null,
   "metadata": {},
   "outputs": [],
   "source": [
    "# subtraction (-)\n",
    "\n",
    "set1 = {1, 2, 3}\n",
    "set2 = {3, 4, 5}\n",
    "\n",
    "print(set1 - set2)"
   ]
  },
  {
   "cell_type": "markdown",
   "metadata": {},
   "source": [
    "Toán tử subtraction (-) tạo ra một tập hợp mới chứa các phần tử chỉ xuất hiện trong set1 mà không có trong set2. Trong trường hợp này, kết quả của phép trừ sẽ là tập hợp chứa các phần tử chỉ có mặt trong set1 nhưng không có trong set2, tức là {1, 2}."
   ]
  },
  {
   "cell_type": "code",
   "execution_count": null,
   "metadata": {},
   "outputs": [],
   "source": [
    "# set comprehension\n",
    "\n",
    "aSet = {i*i for i in range(10)}\n",
    "print(aSet)"
   ]
  },
  {
   "cell_type": "markdown",
   "metadata": {},
   "source": [
    "Đoạn mã trên tạo ra một tập hợp mới (aSet) bằng cách sử dụng set comprehension. Trong set comprehension này, mỗi phần tử i trong phạm vi từ 0 đến 9 (kết quả của range(10)) được bình phương (i*i) và thêm vào tập hợp. Do đó, aSet sẽ chứa các số bình phương của các số từ 0 đến 9, tức là {0, 1, 4, 9, 16, 25, 36, 49, 64, 81}."
   ]
  },
  {
   "cell_type": "markdown",
   "metadata": {},
   "source": [
    "## Conversion"
   ]
  },
  {
   "cell_type": "code",
   "execution_count": null,
   "metadata": {},
   "outputs": [],
   "source": [
    "# convert from set to list\n",
    "aSet = {1, 2, 3, 4, 5}\n",
    "\n",
    "aList = list(aSet)\n",
    "print(aList)\n",
    "print(type(aList))"
   ]
  },
  {
   "cell_type": "markdown",
   "metadata": {},
   "source": [
    "\n",
    "Đoạn code trên chuyển đổi một tập hợp (aSet) thành một danh sách (aList) bằng cách sử dụng hàm list(). Kết quả là một danh sách chứa các phần tử từ tập hợp ban đầu, có thứ tự giống như khi chúng được thêm vào tập hợp, tức là [1, 2, 3, 4, 5]. Kiểu dữ liệu của aList sau khi chuyển đổi là list."
   ]
  },
  {
   "cell_type": "code",
   "execution_count": null,
   "metadata": {},
   "outputs": [],
   "source": [
    "# convert from set to tuple\n",
    "aSet = {1, 2, 3, 4, 5}\n",
    "\n",
    "aTuple = tuple(aSet)\n",
    "print(aTuple)\n",
    "print(type(aTuple))"
   ]
  },
  {
   "cell_type": "markdown",
   "metadata": {},
   "source": [
    "Đoạn code trên chuyển đổi một tập hợp (aSet) thành một tuple (aTuple) bằng cách sử dụng hàm tuple(). Kết quả là một tuple chứa các phần tử từ tập hợp ban đầu, có thứ tự giống như khi chúng được thêm vào tập hợp, tức là (1, 2, 3, 4, 5). Kiểu dữ liệu của aTuple sau khi chuyển đổi là tuple."
   ]
  },
  {
   "cell_type": "code",
   "execution_count": null,
   "metadata": {},
   "outputs": [],
   "source": [
    "# convert from list to set\n",
    "aList = [1, 2, 3, 2, 1]\n",
    "\n",
    "aSet = set(aList)\n",
    "print(aSet)\n",
    "print(type(aSet))"
   ]
  },
  {
   "cell_type": "markdown",
   "metadata": {},
   "source": [
    "Đoạn code trên chuyển đổi một danh sách (aList) thành một tập hợp (aSet) bằng cách sử dụng hàm set(). Kết quả là một tập hợp chứa các phần tử không trùng lặp từ danh sách ban đầu, tức là {1, 2, 3}. Kiểu dữ liệu của aSet sau khi chuyển đổi là set."
   ]
  },
  {
   "cell_type": "code",
   "execution_count": null,
   "metadata": {},
   "outputs": [],
   "source": [
    "# convert from tuple to set\n",
    "aTuple = (1, 2, 3, 2, 1)\n",
    "\n",
    "aSet = set(aTuple)\n",
    "print(aSet)\n",
    "print(type(aSet))"
   ]
  },
  {
   "cell_type": "markdown",
   "metadata": {},
   "source": [
    "Đoạn code trên chuyển đổi một bộ (aTuple) thành một tập hợp (aSet) bằng cách sử dụng hàm set(). Kết quả là một tập hợp chứa các phần tử không trùng lặp từ bộ ban đầu, tức là {1, 2, 3}. Kiểu dữ liệu của aSet sau khi chuyển đổi là set."
   ]
  },
  {
   "cell_type": "markdown",
   "metadata": {},
   "source": [
    "## Application"
   ]
  },
  {
   "cell_type": "code",
   "execution_count": 1,
   "metadata": {},
   "outputs": [
    {
     "name": "stdout",
     "output_type": "stream",
     "text": [
      "Python is a high-level, interpreted, general-purpose programming language. Its design philosophy emphasizes code readability with the use of significant indentation. Python is dynamically-typed and garbage-collected.  It supports multiple programming paradigms, including structured, object-oriented and functional programming.\n"
     ]
    }
   ],
   "source": [
    "# kết nối với file\n",
    "a_file = open('data.txt','r') \n",
    "\n",
    "# read content\n",
    "data = a_file.read()\n",
    "print(data)\n",
    "\n",
    "# Đóng kết nối với file\n",
    "a_file.close()"
   ]
  },
  {
   "cell_type": "markdown",
   "metadata": {},
   "source": [
    "Đoạn code trên mở tệp 'data.txt' ở chế độ chỉ đọc ('r'). Sau đó, nó đọc nội dung của tệp và in ra màn hình. Cuối cùng, nó đóng kết nối với tệp. Điều này cần thiết để giải phóng tài nguyên và tránh xảy ra lỗi khi mở quá nhiều kết nối tệp cùng một lúc."
   ]
  },
  {
   "cell_type": "code",
   "execution_count": 2,
   "metadata": {},
   "outputs": [
    {
     "name": "stdout",
     "output_type": "stream",
     "text": [
      "Python is a high-level, interpreted, general-purpose programming language Its design philosophy emphasizes code readability with the use of significant indentation Python is dynamically-typed and garbage-collected  It supports multiple programming paradigms, including structured, object-oriented and functional programming\n"
     ]
    }
   ],
   "source": [
    "data = data.replace('.', '')\n",
    "print(data)"
   ]
  },
  {
   "cell_type": "markdown",
   "metadata": {},
   "source": [
    "Đoạn code này loại bỏ tất cả các dấu chấm trong nội dung của biến data và in ra nội dung đã được chỉnh sửa."
   ]
  },
  {
   "cell_type": "code",
   "execution_count": 3,
   "metadata": {},
   "outputs": [
    {
     "name": "stdout",
     "output_type": "stream",
     "text": [
      "Python is a high-level interpreted general-purpose programming language Its design philosophy emphasizes code readability with the use of significant indentation Python is dynamically-typed and garbage-collected  It supports multiple programming paradigms including structured object-oriented and functional programming\n"
     ]
    }
   ],
   "source": [
    "data = data.replace(',', '')\n",
    "print(data)"
   ]
  },
  {
   "cell_type": "markdown",
   "metadata": {},
   "source": [
    "\n",
    "Đoạn code này loại bỏ tất cả các dấu phẩy trong nội dung của biến data và in ra nội dung đã được chỉnh sửa."
   ]
  },
  {
   "cell_type": "code",
   "execution_count": 4,
   "metadata": {},
   "outputs": [
    {
     "name": "stdout",
     "output_type": "stream",
     "text": [
      "Python is a high level interpreted general purpose programming language Its design philosophy emphasizes code readability with the use of significant indentation Python is dynamically typed and garbage collected  It supports multiple programming paradigms including structured object oriented and functional programming\n"
     ]
    }
   ],
   "source": [
    "data = data.replace('-', ' ')\n",
    "print(data)"
   ]
  },
  {
   "cell_type": "markdown",
   "metadata": {},
   "source": [
    "Đoạn code này thay thế tất cả các dấu gạch ngang bằng khoảng trắng trong nội dung của biến data và in ra nội dung đã được chỉnh sửa."
   ]
  },
  {
   "cell_type": "code",
   "execution_count": 5,
   "metadata": {},
   "outputs": [
    {
     "name": "stdout",
     "output_type": "stream",
     "text": [
      "python is a high level interpreted general purpose programming language its design philosophy emphasizes code readability with the use of significant indentation python is dynamically typed and garbage collected  it supports multiple programming paradigms including structured object oriented and functional programming\n"
     ]
    }
   ],
   "source": [
    "data = data.lower()\n",
    "print(data)"
   ]
  },
  {
   "cell_type": "markdown",
   "metadata": {},
   "source": [
    "Đoạn code này chuyển đổi tất cả các ký tự trong biến data thành chữ thường và in ra nội dung đã được chuyển đổi."
   ]
  },
  {
   "cell_type": "code",
   "execution_count": 6,
   "metadata": {},
   "outputs": [
    {
     "name": "stdout",
     "output_type": "stream",
     "text": [
      "['python', 'is', 'a', 'high', 'level', 'interpreted', 'general', 'purpose', 'programming', 'language', 'its', 'design', 'philosophy', 'emphasizes', 'code', 'readability', 'with', 'the', 'use', 'of', 'significant', 'indentation', 'python', 'is', 'dynamically', 'typed', 'and', 'garbage', 'collected', 'it', 'supports', 'multiple', 'programming', 'paradigms', 'including', 'structured', 'object', 'oriented', 'and', 'functional', 'programming']\n",
      "41\n"
     ]
    }
   ],
   "source": [
    "data = data.split()\n",
    "print(data)\n",
    "print(len(data))"
   ]
  },
  {
   "cell_type": "markdown",
   "metadata": {},
   "source": [
    "Đoạn code này chia chuỗi data thành một danh sách các từ, sử dụng khoảng trắng làm dấu phân cách, sau đó in danh sách này và độ dài của nó."
   ]
  },
  {
   "cell_type": "code",
   "execution_count": 7,
   "metadata": {},
   "outputs": [
    {
     "name": "stdout",
     "output_type": "stream",
     "text": [
      "{'its', 'indentation', 'collected', 'supports', 'is', 'programming', 'garbage', 'purpose', 'it', 'including', 'and', 'typed', 'interpreted', 'dynamically', 'multiple', 'python', 'functional', 'readability', 'general', 'with', 'philosophy', 'object', 'level', 'paradigms', 'design', 'a', 'the', 'oriented', 'emphasizes', 'high', 'significant', 'structured', 'language', 'code', 'use', 'of'}\n",
      "36\n"
     ]
    }
   ],
   "source": [
    "data = set(data)\n",
    "print(data)\n",
    "print(len(data))"
   ]
  },
  {
   "cell_type": "markdown",
   "metadata": {},
   "source": [
    "Đoạn code này chuyển danh sách data thành một tập hợp, loại bỏ các từ trùng lặp, sau đó in tập hợp này và độ dài của nó."
   ]
  },
  {
   "cell_type": "code",
   "execution_count": 8,
   "metadata": {},
   "outputs": [
    {
     "name": "stdout",
     "output_type": "stream",
     "text": [
      "0 its\n",
      "1 indentation\n",
      "2 collected\n",
      "3 supports\n",
      "4 is\n",
      "5 programming\n",
      "6 garbage\n",
      "7 purpose\n",
      "8 it\n",
      "9 including\n",
      "10 and\n",
      "11 typed\n",
      "12 interpreted\n",
      "13 dynamically\n",
      "14 multiple\n",
      "15 python\n",
      "16 functional\n",
      "17 readability\n",
      "18 general\n",
      "19 with\n",
      "20 philosophy\n",
      "21 object\n",
      "22 level\n",
      "23 paradigms\n",
      "24 design\n",
      "25 a\n",
      "26 the\n",
      "27 oriented\n",
      "28 emphasizes\n",
      "29 high\n",
      "30 significant\n",
      "31 structured\n",
      "32 language\n",
      "33 code\n",
      "34 use\n",
      "35 of\n"
     ]
    }
   ],
   "source": [
    "for index, value in enumerate(data):\n",
    "    print(index, value)"
   ]
  },
  {
   "cell_type": "markdown",
   "metadata": {},
   "source": [
    "Vòng lặp for này dùng để liệt kê các phần tử trong tập hợp data, in ra chỉ số và giá trị của mỗi phần tử."
   ]
  }
 ],
 "metadata": {
  "kernelspec": {
   "display_name": "Python 3 (ipykernel)",
   "language": "python",
   "name": "python3"
  },
  "language_info": {
   "codemirror_mode": {
    "name": "ipython",
    "version": 3
   },
   "file_extension": ".py",
   "mimetype": "text/x-python",
   "name": "python",
   "nbconvert_exporter": "python",
   "pygments_lexer": "ipython3",
   "version": "3.9.12"
  }
 },
 "nbformat": 4,
 "nbformat_minor": 2
}
