{
 "cells": [
  {
   "cell_type": "markdown",
   "metadata": {},
   "source": [
    "### Tuples"
   ]
  },
  {
   "cell_type": "markdown",
   "metadata": {},
   "source": [
    "#### Constructing tuples"
   ]
  },
  {
   "cell_type": "markdown",
   "metadata": {},
   "source": [
    "Để tạo một tuple, đặt các giá trị trong ngoặc:"
   ]
  },
  {
   "cell_type": "code",
   "execution_count": 3,
   "metadata": {},
   "outputs": [
    {
     "name": "stdout",
     "output_type": "stream",
     "text": [
      "1\n",
      "2\n",
      "3\n"
     ]
    }
   ],
   "source": [
    "t = (1, 2, 3)\n",
    "\n",
    "print(t[0])\n",
    "print(t[1])\n",
    "print(t[2])"
   ]
  },
  {
   "cell_type": "markdown",
   "metadata": {},
   "source": [
    "giải thích:\n",
    "Dòng đầu tiên định nghĩa một tuple t với ba phần tử: 1, 2 và 3\n",
    "\n",
    "Dòng thứ hai print(t[0]) in ra phần tử đầu tiên của tuple t, có giá trị là 1.\n",
    "\n",
    "Dòng thứ ba print(t[1]) in ra phần tử thứ hai của tuple t, có giá trị là 2.\n",
    "\n",
    "Dòng thứ tư print(t[2]) in ra phần tử thứ ba của tuple t, có giá trị là 3."
   ]
  },
  {
   "cell_type": "code",
   "execution_count": 1,
   "metadata": {},
   "outputs": [
    {
     "name": "stdout",
     "output_type": "stream",
     "text": [
      "(1, 2)\n",
      "<class 'tuple'>\n"
     ]
    }
   ],
   "source": [
    "t = 1, 2\n",
    "print(t)\n",
    "print(type(t))"
   ]
  },
  {
   "cell_type": "markdown",
   "metadata": {},
   "source": [
    "Dòng đầu tiên gán giá trị cho biến t là một tuple chứa hai phần tử, lần lượt là 1 và 2. Trong Python, bạn có thể khai báo một tuple mà không cần dùng dấu ngoặc đơn, chỉ cần các giá trị được phân cách bằng dấu phẩy.\n",
    "\n",
    "Dòng thứ hai in ra giá trị của biến t, tức là tuple chứa các phần tử 1 và 2.\n",
    "\n",
    "Dòng thứ ba in ra kiểu dữ liệu của biến t, đó là <class 'tuple'>."
   ]
  },
  {
   "cell_type": "markdown",
   "metadata": {},
   "source": [
    "Nếu bạn muốn tạo một tuple với một phần tử duy nhất, bạn phải sử dụng dấu phẩy:"
   ]
  },
  {
   "cell_type": "code",
   "execution_count": 5,
   "metadata": {},
   "outputs": [
    {
     "data": {
      "text/plain": [
       "(1,)"
      ]
     },
     "execution_count": 5,
     "metadata": {},
     "output_type": "execute_result"
    }
   ],
   "source": [
    "singleton = (1, )\n",
    "print(singleton)"
   ]
  },
  {
   "cell_type": "markdown",
   "metadata": {},
   "source": [
    "Trong Python, khi bạn muốn tạo một tuple chứa một phần tử duy nhất, bạn phải đặt dấu phẩy sau phần tử đó. Trong trường hợp này, biến singleton được gán giá trị (1,), có nghĩa là một tuple chứa một phần tử duy nhất là 1.\n",
    "\n",
    "Do đó, kết quả của lệnh print(singleton) là một tuple chứa số 1, được bao bọc bởi dấu ngoặc đơn và kết thúc bằng dấu phẩy để biểu thị rằng đây là một tuple với một phần tử duy nhất."
   ]
  },
  {
   "cell_type": "code",
   "execution_count": 6,
   "metadata": {},
   "outputs": [
    {
     "name": "stdout",
     "output_type": "stream",
     "text": [
      "<class 'int'>   15\n",
      "<class 'int'>   1\n",
      "<class 'tuple'>   (1,)\n"
     ]
    }
   ],
   "source": [
    "var1 = (1 + 2) * 5\n",
    "print(type(var1), ' ', var1)\n",
    "\n",
    "var2 = (1)\n",
    "print(type(var2), ' ', var2)\n",
    "\n",
    "var3 = (1,)\n",
    "print(type(var3), ' ', var3)"
   ]
  },
  {
   "cell_type": "markdown",
   "metadata": {},
   "source": [
    "Trong đoạn mã này, đang thử nghiệm việc khai báo các biến với các giá trị khác nhau và kiểm tra kiểu dữ liệu của chúng:\n",
    "\n",
    "Biến var1 được gán giá trị (1 + 2) * 5, tức là (3) * 5. Kết quả của biểu thức này là 15. Trong Python, biểu thức nằm trong cặp dấu ngoặc tròn được tính toán trước khi gán cho biến. Do đó, var1 nhận giá trị là 15.\n",
    "\n",
    "type(var1) trả về <class 'int'>, kiểu dữ liệu của biến var1 là integer.\n",
    "Giá trị của var1 là 15.\n",
    "Biến var2 được gán giá trị (1). Đối với Python, điều này được hiểu là biến var2 chứa một số nguyên với giá trị là 1, không phải là một tuple.\n",
    "\n",
    "type(var2) trả về <class 'int'>, kiểu dữ liệu của biến var2 là integer.\n",
    "Giá trị của var2 là 1.\n",
    "Biến var3 được gán giá trị (1,). Lưu ý rằng dấu phẩy sau phần tử đầu tiên làm cho Python hiểu đây là một tuple với một phần tử duy nhất.\n",
    "\n",
    "type(var3) trả về <class 'tuple'>, kiểu dữ liệu của biến var3 là tuple.\n",
    "Giá trị của var3 là một tuple chứa một phần tử có giá trị là 1."
   ]
  },
  {
   "cell_type": "markdown",
   "metadata": {},
   "source": [
    "Bạn có thể lặp lại một tuple bằng cách nhân một tuple với một số:"
   ]
  },
  {
   "cell_type": "code",
   "execution_count": 6,
   "metadata": {},
   "outputs": [
    {
     "name": "stdout",
     "output_type": "stream",
     "text": [
      "(1, 1, 1, 1, 1)\n"
     ]
    }
   ],
   "source": [
    "t = (1,) * 5\n",
    "print(t)"
   ]
  },
  {
   "cell_type": "markdown",
   "metadata": {},
   "source": [
    "Trong Python, khi bạn nhân một tuple với một số nguyên, Python sẽ tạo ra một tuple mới bằng cách lặp lại các phần tử của tuple ban đầu số lần tương ứng với số nguyên đó.\n",
    "\n",
    "Trong trường hợp này, (1,) là một tuple chứa một phần tử duy nhất là 1. Khi nhân nó với 5, ta được một tuple mới chứa 5 phần tử 1."
   ]
  },
  {
   "cell_type": "markdown",
   "metadata": {},
   "source": [
    "Lưu ý rằng bạn có thể nối các bộ dữ liệu và sử dụng phép gán tăng giá trị (* =, + =):"
   ]
  },
  {
   "cell_type": "code",
   "execution_count": 9,
   "metadata": {},
   "outputs": [
    {
     "name": "stdout",
     "output_type": "stream",
     "text": [
      "(1, 0)\n",
      "(1, 0, 2)\n"
     ]
    }
   ],
   "source": [
    "t1 = (1, 0)\n",
    "print(t1)\n",
    "\n",
    "t1 += (2,)\n",
    "print(t1)"
   ]
  },
  {
   "cell_type": "markdown",
   "metadata": {},
   "source": [
    "Trong đoạn mã này, bắt đầu với một tuple t1 có giá trị là (1, 0) và sau đó thực hiện phép cộng giữa t1 và một tuple khác (2,), và gán kết quả trở lại cho t1.\n",
    "\n",
    "Dòng đầu tiên in ra giá trị của t1, tức là (1, 0).\n",
    "Dòng thứ hai cộng thêm một phần tử vào t1 bằng cách thêm tuple (2,) vào t1. Kết quả là t1 sẽ trở thành (1, 0, 2)."
   ]
  },
  {
   "cell_type": "markdown",
   "metadata": {},
   "source": [
    "#### Tuple methods"
   ]
  },
  {
   "cell_type": "code",
   "execution_count": 13,
   "metadata": {},
   "outputs": [
    {
     "name": "stdout",
     "output_type": "stream",
     "text": [
      "2\n",
      "1\n"
     ]
    }
   ],
   "source": [
    "t = (1,2,3,1)\n",
    "count = t.count(1)\n",
    "index = t.index(2)\n",
    "\n",
    "print(count)\n",
    "print(index)"
   ]
  },
  {
   "cell_type": "markdown",
   "metadata": {},
   "source": [
    "Đoạn mã này sử dụng hai phương thức cơ bản của tuple:\n",
    "\n",
    "count(1): Phương thức này trả về số lần xuất hiện của phần tử có giá trị là 1 trong tuple t.\n",
    "\n",
    "index(2): Phương thức này trả về chỉ số (index) của phần tử có giá trị là 2 trong tuple t.\n",
    "Đối với tuple t = (1, 2, 3, 1):\n",
    "\n",
    "Số lần xuất hiện của phần tử 1 là 2.\n",
    "Chỉ số của phần tử 2 là 1 (chú ý rằng chỉ số bắt đầu từ 0)."
   ]
  },
  {
   "cell_type": "code",
   "execution_count": 9,
   "metadata": {},
   "outputs": [
    {
     "data": {
      "text/plain": [
       "1"
      ]
     },
     "execution_count": 9,
     "metadata": {},
     "output_type": "execute_result"
    }
   ],
   "source": [
    "l.index(2)"
   ]
  },
  {
   "cell_type": "code",
   "execution_count": null,
   "metadata": {},
   "outputs": [],
   "source": [
    "l = [1, 3, 4, 5]\n",
    "if 2 in l:\n",
    "    index = l.index(2)\n",
    "    print(\"Index của số 2 là:\", index)\n",
    "else:\n",
    "    print(\"Số 2 không tồn tại trong danh sách.\")\n"
   ]
  },
  {
   "cell_type": "markdown",
   "metadata": {},
   "source": [
    "Mã này làm hai việc chính:\n",
    "\n",
    "Kiểm tra xem số 2 có tồn tại trong danh sách l hay không bằng cách sử dụng toán tử in.\n",
    "Nếu số 2 tồn tại trong danh sách l, nó sẽ in ra chỉ số (index) đầu tiên của số 2 trong danh sách bằng cách sử dụng phương thức index() và in ra thông báo \"Index của số 2 là: \" cùng với chỉ số đó.\n",
    "Nếu số 2 không tồn tại trong danh sách l, nó sẽ in ra thông báo \"Số 2 không tồn tại trong danh sách"
   ]
  },
  {
   "cell_type": "markdown",
   "metadata": {},
   "source": [
    "####  Interests of tuples"
   ]
  },
  {
   "cell_type": "markdown",
   "metadata": {},
   "source": [
    "Tuples hữu ích vì có\n",
    ". Nhanh hơn list\n",
    "\n",
    ". Bảo vệ dữ liệu\n",
    "\n",
    ". Bộ dữ liệu có thể được sử dụng làm khóa trên dictionary\n",
    "\n",
    ". Ngoài ra, nó có thể được sử dụng theo những cách hữu ích khác nhau:"
   ]
  },
  {
   "cell_type": "markdown",
   "metadata": {},
   "source": [
    "#### Tuples cặp khóa / giá trị để xây dựng dictionary"
   ]
  },
  {
   "cell_type": "code",
   "execution_count": 15,
   "metadata": {},
   "outputs": [
    {
     "name": "stdout",
     "output_type": "stream",
     "text": [
      "1\n",
      "2\n",
      "3\n"
     ]
    }
   ],
   "source": [
    "d = dict([('jan', 1), ('feb', 2), ('march', 3)])\n",
    "\n",
    "print(d['jan'])\n",
    "print(d['feb'])\n",
    "print(d['march'])"
   ]
  },
  {
   "cell_type": "markdown",
   "metadata": {},
   "source": [
    "tạo một từ điển d từ một list chứa các cặp key-value. Mỗi cặp key-value trong list tương ứng với một phần tử của từ điển, trong đó key là phần tử đầu tiên của mỗi cặp và value là phần tử thứ hai của mỗi cặp.\n",
    "\n",
    "Khi truy cập các phần tử của từ điển d bằng cách sử dụng key, Python sẽ trả về giá trị tương ứng với key đó.\n",
    "\n",
    "d['jan'] sẽ trả về giá trị của key 'jan' trong từ điển d, tức là 1.\n",
    "\n",
    "d['feb'] sẽ trả về giá trị của key 'feb' trong từ điển d, tức là 2.\n",
    "\n",
    "d['march'] sẽ trả về giá trị của key 'march' trong từ điển d, tức là 3."
   ]
  },
  {
   "cell_type": "markdown",
   "metadata": {},
   "source": [
    "#### get multiple values"
   ]
  },
  {
   "cell_type": "code",
   "execution_count": 20,
   "metadata": {},
   "outputs": [
    {
     "name": "stdout",
     "output_type": "stream",
     "text": [
      "a\n",
      "a\n",
      "0\n"
     ]
    }
   ],
   "source": [
    "x1,y1,z1   = ('a','b','c')\n",
    "(x2,y2,z2) = ('a','b','c')\n",
    "(x3,y3,z3) = range(3)\n",
    "\n",
    "print(x1)\n",
    "print(x2)\n",
    "print(x3)"
   ]
  },
  {
   "cell_type": "markdown",
   "metadata": {},
   "source": [
    " thực hiện việc gán các giá trị từ các tuples khác vào các biến x1, y1, z1, x2, y2, z2, x3, y3, z3.\n",
    "\n",
    "x1, y1, z1 được gán lần lượt bởi các phần tử trong tuple ('a', 'b', 'c'). Điều này đồng nghĩa với việc x1 = 'a', y1 = 'b', z1 = 'c'.\n",
    "\n",
    "x2, y2, z2 cũng được gán lần lượt bởi các phần tử trong tuple ('a', 'b', 'c'). Quy tắc gán này tương tự như trên.\n",
    "\n",
    "x3, y3, z3 được gán lần lượt bởi các phần tử trong range(3), tức là 0, 1, 2.\n",
    "\n",
    "Sau khi thực hiện các phép gán này, các biến x1, x2, x3 sẽ có giá trị lần lượt là 'a', 'a', 0."
   ]
  },
  {
   "cell_type": "code",
   "execution_count": 10,
   "metadata": {},
   "outputs": [
    {
     "name": "stdout",
     "output_type": "stream",
     "text": [
      "a\n",
      "a\n"
     ]
    }
   ],
   "source": [
    "x1,y1,z1   = ('a','b','c')\n",
    "(x2,y2,z2) = ('a','b','c')\n",
    "print(x1)\n",
    "print(x2)"
   ]
  },
  {
   "cell_type": "markdown",
   "metadata": {},
   "source": [
    "thực hiện việc gán các giá trị từ hai tuples vào các biến x1, y1, z1, x2, y2, z2.\n",
    "\n",
    "(x1, y1, z1) được gán bởi các phần tử trong tuple ('a', 'b', 'c'). Điều này đồng nghĩa với việc x1 = 'a', y1 = 'b', z1 = 'c'.\n",
    "\n",
    "(x2, y2, z2) cũng được gán bởi các phần tử trong tuple ('a', 'b', 'c'). Quy tắc gán này tương tự như trên.\n",
    "\n",
    "Sau khi thực hiện các phép gán này, các biến x1, x2 sẽ có giá trị lần lượt là 'a', 'a'."
   ]
  },
  {
   "cell_type": "code",
   "execution_count": 1,
   "metadata": {},
   "outputs": [
    {
     "name": "stdout",
     "output_type": "stream",
     "text": [
      "0 1 2\n"
     ]
    }
   ],
   "source": [
    "(x,y,z) = range(3)\n",
    "print(x,y,z)"
   ]
  },
  {
   "cell_type": "markdown",
   "metadata": {},
   "source": [
    "thực hiện việc gán các giá trị từ range(3) vào các biến x, y, z.\n",
    "\n",
    "Hàm range(3) trả về một đối tượng dãy số từ 0 đến 2. Khi  gán range(3) vào một tuple có ba phần tử, Python sẽ lần lượt gán các giá trị từ dãy số này vào các biến tương ứng theo thứ tự.\n",
    "\n",
    "Sau khi thực hiện phép gán này, các biến x, y, z sẽ lần lượt có giá trị là 0, 1, 2."
   ]
  },
  {
   "cell_type": "code",
   "execution_count": 9,
   "metadata": {},
   "outputs": [
    {
     "name": "stdout",
     "output_type": "stream",
     "text": [
      "<class 'range'>\n"
     ]
    }
   ],
   "source": [
    "a = range(3)\n",
    "print(type(a))"
   ]
  },
  {
   "cell_type": "markdown",
   "metadata": {},
   "source": [
    "biến a là một đối tượng của lớp range. Đối tượng của lớp range đại diện cho một chuỗi các số nguyên liên tiếp. Trong trường hợp này, range(3) tạo ra một dãy số từ 0 đến 2 "
   ]
  },
  {
   "cell_type": "code",
   "execution_count": 15,
   "metadata": {},
   "outputs": [
    {
     "name": "stdout",
     "output_type": "stream",
     "text": [
      "first\n",
      "second\n"
     ]
    }
   ],
   "source": [
    "d = {'first':'string value', 'second':1}\n",
    "for a in d:\n",
    "    print(a)"
   ]
  },
  {
   "cell_type": "markdown",
   "metadata": {},
   "source": [
    "vòng lặp for được sử dụng để lặp qua các key trong từ điển d.\n",
    "\n",
    "Khi lặp qua một từ điển, mặc định là đang lặp qua các key của từ điển đó. Do đó, trong mỗi vòng lặp, biến a sẽ chứa một key của từ điển d.\n",
    "\n",
    "Do đó, kết quả của đoạn mã sẽ in ra các key của từ điển d, một key trên mỗi dòng."
   ]
  },
  {
   "cell_type": "code",
   "execution_count": null,
   "metadata": {},
   "outputs": [],
   "source": [
    "d = {'first':'string value', 'second':[1,2]}\n",
    "items = d.items()\n",
    "print('items:', items)\n",
    "for k,v in items:\n",
    "    print(k, v)"
   ]
  },
  {
   "cell_type": "markdown",
   "metadata": {},
   "source": [
    "items: dict_items([('first', 'string value'), ('second', [1, 2])])\n",
    "\n",
    "first string value\n",
    "\n",
    "second [1, 2]"
   ]
  },
  {
   "cell_type": "markdown",
   "metadata": {},
   "source": [
    "tạo một từ điển d có hai phần tử: một key là 'first' với giá trị là 'string value', và một key là 'second' với giá trị là một list [1, 2].\n",
    "\n",
    "Tiếp theo, sử dụng phương thức items() để trả về một danh sách các cặp (key, value) từ từ điển d, và lưu trữ nó trong biến items.\n",
    "\n",
    "Sau đó, lặp qua các cặp (key, value) trong items bằng cách sử dụng vòng lặp for. Trong mỗi vòng lặp, k sẽ chứa key và v sẽ chứa value tương ứng của từng cặp.\n",
    "\n",
    "Do đó, kết quả in ra sẽ là các cặp key-value của từ điển d, một cặp trên mỗi dòng."
   ]
  },
  {
   "cell_type": "markdown",
   "metadata": {},
   "source": [
    "#### Tuple Unpacking"
   ]
  },
  {
   "cell_type": "markdown",
   "metadata": {},
   "source": [
    "Tuple unpacking cho phép trích xuất các phần tử tuple tự động là danh sách các biến ở bên trái có cùng số phần tử với độ dài của tuple"
   ]
  },
  {
   "cell_type": "code",
   "execution_count": 3,
   "metadata": {},
   "outputs": [
    {
     "name": "stdout",
     "output_type": "stream",
     "text": [
      "1\n"
     ]
    }
   ],
   "source": [
    "data  = (1,2,3)\n",
    "x, y, z = data\n",
    "print(x)"
   ]
  },
  {
   "cell_type": "markdown",
   "metadata": {},
   "source": [
    "tạo một tuple data chứa ba phần tử là 1, 2 và 3.\n",
    "\n",
    "Sau đó, gán các phần tử của tuple data vào ba biến x, y, và z theo thứ tự.\n",
    "\n",
    "Kết quả in ra sẽ là giá trị của biến x"
   ]
  },
  {
   "cell_type": "markdown",
   "metadata": {},
   "source": [
    "#### Tuple can be use as swap function"
   ]
  },
  {
   "cell_type": "markdown",
   "metadata": {},
   "source": [
    "Mã này đảo ngược nội dung của 2 biến x và y:"
   ]
  },
  {
   "cell_type": "code",
   "execution_count": 23,
   "metadata": {},
   "outputs": [
    {
     "name": "stdout",
     "output_type": "stream",
     "text": [
      "4 5\n",
      "5 4\n"
     ]
    }
   ],
   "source": [
    "x = 4\n",
    "y = 5\n",
    "\n",
    "print(x, y)\n",
    "\n",
    "#(x,y) = (y,x)\n",
    "x,y = y,x\n",
    "print(x, y)\n"
   ]
  },
  {
   "cell_type": "markdown",
   "metadata": {},
   "source": [
    "ban đầu gán giá trị 4 cho biến x và giá trị 5 cho biến y, sau đó  in ra giá trị của x và y.\n",
    "\n",
    "Khi gán x, y = y, x, Python sẽ thực hiện việc hoán đổi giá trị của x và y một cách song song và an toàn. Điều này tương đương với việc gán y cho x và x cho y trong cùng một thời điểm.\n",
    "\n",
    "Do đó, sau khi thực hiện phép gán này, giá trị của x sẽ là 5 và giá trị của y sẽ là 4."
   ]
  },
  {
   "cell_type": "markdown",
   "metadata": {},
   "source": [
    "Các bạn quan tâm tới mã code phía dưới:\n",
    "    "
   ]
  },
  {
   "cell_type": "code",
   "execution_count": 11,
   "metadata": {},
   "outputs": [],
   "source": [
    "def swap(v1, v2):\n",
    "    (v2, v1) = (v1, v2)\n",
    "    return (v1, v2)"
   ]
  },
  {
   "cell_type": "code",
   "execution_count": 12,
   "metadata": {},
   "outputs": [
    {
     "name": "stdout",
     "output_type": "stream",
     "text": [
      "3\n",
      "2\n"
     ]
    }
   ],
   "source": [
    "v1 = 2\n",
    "v2 = 3\n",
    "(v1, v2) = swap(v1, v2)\n",
    "\n",
    "# print\n",
    "print(v1)\n",
    "print(v2)"
   ]
  },
  {
   "cell_type": "markdown",
   "metadata": {},
   "source": [
    "Trong hàm swap(v1, v2), đã thực hiện việc hoán đổi giá trị của hai biến v1 và v2 bằng cách sử dụng phép gán (v2, v1) = (v1, v2). Kết quả của hàm này là một tuple chứa giá trị của v1 và v2 sau khi hoán đổi.\n",
    "\n",
    "Sau đó, gán kết quả trả về của hàm swap() vào các biến v1 và v2.\n",
    "\n",
    "Do đó, sau khi thực hiện phép gán này, v1 sẽ chứa giá trị của v2 ban đầu và v2 sẽ chứa giá trị của v1 ban đầu.\n",
    "\n",
    "Kết quả in ra sẽ là giá trị của v1 và v2 sau khi hoán đổi"
   ]
  },
  {
   "cell_type": "markdown",
   "metadata": {},
   "source": [
    "### Misc"
   ]
  },
  {
   "cell_type": "markdown",
   "metadata": {},
   "source": [
    "Length\n",
    "Tìm chiều dài của một tuple, bạn dùng phương thức len():"
   ]
  },
  {
   "cell_type": "code",
   "execution_count": 25,
   "metadata": {},
   "outputs": [
    {
     "data": {
      "text/plain": [
       "4"
      ]
     },
     "execution_count": 25,
     "metadata": {},
     "output_type": "execute_result"
    }
   ],
   "source": [
    "t = (1, 2, 3, 4)\n",
    "len(t)"
   ]
  },
  {
   "cell_type": "markdown",
   "metadata": {},
   "source": [
    "Hàm len() được sử dụng để trả về số lượng phần tử trong một chuỗi hoặc một sequence.\n",
    "\n",
    "Trong trường hợp của tuple t, có tổng cộng 4 phần tử, nên kết quả khi sử dụng hàm len() trên t sẽ là 4."
   ]
  },
  {
   "cell_type": "markdown",
   "metadata": {},
   "source": [
    "Slicing (extracting a segment)"
   ]
  },
  {
   "cell_type": "code",
   "execution_count": 13,
   "metadata": {},
   "outputs": [
    {
     "name": "stdout",
     "output_type": "stream",
     "text": [
      "(3, 4, 5)\n",
      "(5, 4, 3, 2, 1)\n"
     ]
    }
   ],
   "source": [
    "data = (1, 2, 3, 4, 5)\n",
    "print(data[2:])\n",
    "print(data[::-1])"
   ]
  },
  {
   "cell_type": "markdown",
   "metadata": {},
   "source": [
    "Trong đoạn code:\n",
    "\n",
    "data[2:] trả về một tuple mới bắt đầu từ phần tử thứ 3 của data (vị trí 2 với index bắt đầu từ 0) cho đến phần tử cuối cùng của data. Do đó, kết quả là (3, 4, 5).\n",
    "\n",
    "data[::-1] trả về một tuple mới chứa tất cả các phần tử của data, nhưng được đảo ngược thứ tự. Dấu ::-1 được sử dụng để chỉ định bước của slicing là -1, từ đó đảo ngược thứ tự của chuỗi. Do đó, kết quả là (5, 4, 3, 2, 1)."
   ]
  },
  {
   "cell_type": "markdown",
   "metadata": {},
   "source": [
    "Copy a tuple"
   ]
  },
  {
   "cell_type": "code",
   "execution_count": 1,
   "metadata": {},
   "outputs": [
    {
     "ename": "AttributeError",
     "evalue": "'tuple' object has no attribute 'copy'",
     "output_type": "error",
     "traceback": [
      "\u001b[1;31m---------------------------------------------------------------------------\u001b[0m",
      "\u001b[1;31mAttributeError\u001b[0m                            Traceback (most recent call last)",
      "Input \u001b[1;32mIn [1]\u001b[0m, in \u001b[0;36m<cell line: 3>\u001b[1;34m()\u001b[0m\n\u001b[0;32m      1\u001b[0m t \u001b[38;5;241m=\u001b[39m (\u001b[38;5;241m1\u001b[39m, \u001b[38;5;241m2\u001b[39m, \u001b[38;5;241m3\u001b[39m, \u001b[38;5;241m4\u001b[39m, \u001b[38;5;241m5\u001b[39m)\n\u001b[1;32m----> 3\u001b[0m new_t \u001b[38;5;241m=\u001b[39m \u001b[43mt\u001b[49m\u001b[38;5;241;43m.\u001b[39;49m\u001b[43mcopy\u001b[49m()\n\u001b[0;32m      4\u001b[0m \u001b[38;5;28mprint\u001b[39m(new_t)\n",
      "\u001b[1;31mAttributeError\u001b[0m: 'tuple' object has no attribute 'copy'"
     ]
    }
   ],
   "source": [
    "t = (1, 2, 3, 4, 5)\n",
    "\n",
    "new_t = t.copy()\n",
    "print(new_t)"
   ]
  },
  {
   "cell_type": "code",
   "execution_count": null,
   "metadata": {},
   "outputs": [],
   "source": [
    "t = (1, 2, 3, 4, 5)\n",
    "new_t = t[:]\n",
    "print(new_t)\n"
   ]
  },
  {
   "cell_type": "markdown",
   "metadata": {},
   "source": [
    "(1, 2, 3, 4, 5)\n"
   ]
  },
  {
   "cell_type": "markdown",
   "metadata": {},
   "source": [
    "Trong đoạn code, t[:] là một cách để sao chép toàn bộ tuple t. Khi sử dụng cú pháp slicing [:] trên một sequence như tuple, nó sẽ tạo ra một bản sao của sequence đó.\n",
    "\n",
    "Vì vậy, new_t sẽ chứa toàn bộ các phần tử của tuple t."
   ]
  },
  {
   "cell_type": "markdown",
   "metadata": {},
   "source": [
    "Tuple are not fully immutable "
   ]
  },
  {
   "cell_type": "code",
   "execution_count": 29,
   "metadata": {},
   "outputs": [
    {
     "name": "stdout",
     "output_type": "stream",
     "text": [
      "(1, 2, [9, 10])\n"
     ]
    }
   ],
   "source": [
    "t = (1, 2, [3, 10])\n",
    "t[2][0] = 9\n",
    "print(t)"
   ]
  },
  {
   "cell_type": "markdown",
   "metadata": {},
   "source": [
    "Trong đoạn code, ta đang thay đổi phần tử đầu tiên của list nằm trong tuple t. Dù tuple là một kiểu dữ liệu bất biến, nhưng các đối tượng có thể thay đổi bên trong tuple có thể bị thay đổi.\n",
    "\n",
    "Khi thay đổi giá trị của phần tử trong list nằm trong tuple, thì phần tử đó vẫn giữ nguyên vị trí của nó trong tuple. Do đó, không có vấn đề gì khi thay đổi phần tử của list trong tuple."
   ]
  },
  {
   "cell_type": "code",
   "execution_count": 34,
   "metadata": {},
   "outputs": [
    {
     "name": "stdout",
     "output_type": "stream",
     "text": [
      "(1, 2, [3, 4])\n"
     ]
    }
   ],
   "source": [
    "t = (1, 2, [3, 10])\n",
    "t[2][1] = 4\n",
    "print(t)"
   ]
  },
  {
   "cell_type": "markdown",
   "metadata": {},
   "source": [
    "ta đang thay đổi phần tử thứ hai của list nằm trong tuple t từ giá trị 10 thành giá trị 4.nên phần tử 10 trong list thành 4"
   ]
  },
  {
   "cell_type": "code",
   "execution_count": 30,
   "metadata": {},
   "outputs": [
    {
     "ename": "TypeError",
     "evalue": "'tuple' object does not support item assignment",
     "output_type": "error",
     "traceback": [
      "\u001b[0;31m---------------------------------------------------------------------------\u001b[0m",
      "\u001b[0;31mTypeError\u001b[0m                                 Traceback (most recent call last)",
      "\u001b[0;32m<ipython-input-30-b1f85e7d332a>\u001b[0m in \u001b[0;36m<module>\u001b[0;34m\u001b[0m\n\u001b[1;32m      1\u001b[0m \u001b[0mt\u001b[0m \u001b[0;34m=\u001b[0m \u001b[0;34m(\u001b[0m\u001b[0;36m1\u001b[0m\u001b[0;34m,\u001b[0m \u001b[0;36m2\u001b[0m\u001b[0;34m,\u001b[0m \u001b[0;36m3\u001b[0m\u001b[0;34m,\u001b[0m \u001b[0;36m4\u001b[0m\u001b[0;34m,\u001b[0m \u001b[0;36m5\u001b[0m\u001b[0;34m)\u001b[0m\u001b[0;34m\u001b[0m\u001b[0;34m\u001b[0m\u001b[0m\n\u001b[0;32m----> 2\u001b[0;31m \u001b[0mt\u001b[0m\u001b[0;34m[\u001b[0m\u001b[0;36m2\u001b[0m\u001b[0;34m]\u001b[0m \u001b[0;34m=\u001b[0m \u001b[0;36m9\u001b[0m\u001b[0;34m\u001b[0m\u001b[0;34m\u001b[0m\u001b[0m\n\u001b[0m\u001b[1;32m      3\u001b[0m \u001b[0mprint\u001b[0m\u001b[0;34m(\u001b[0m\u001b[0mt\u001b[0m\u001b[0;34m)\u001b[0m\u001b[0;34m\u001b[0m\u001b[0;34m\u001b[0m\u001b[0m\n",
      "\u001b[0;31mTypeError\u001b[0m: 'tuple' object does not support item assignment"
     ]
    }
   ],
   "source": [
    "t = (1, 2, 3, 4, 5)\n",
    "t[2] = 9\n",
    "print(t)"
   ]
  },
  {
   "cell_type": "code",
   "execution_count": null,
   "metadata": {},
   "outputs": [],
   "source": [
    "t = (1, 2, 3, 4, 5)\n",
    "t_list = list(t)  \n",
    "t_list[2] = 9 \n",
    "t = tuple(t_list)  \n",
    "print(t)"
   ]
  },
  {
   "cell_type": "markdown",
   "metadata": {},
   "source": [
    "(1, 2, 9, 4, 5)\n"
   ]
  },
  {
   "cell_type": "markdown",
   "metadata": {},
   "source": [
    "Trong đoạn code, thực hiện các bước sau:\n",
    "\n",
    "Chuyển đổi tuple t thành một list t_list bằng cách sử dụng hàm list().\n",
    "Thay đổi phần tử thứ ba của t_list từ giá trị 3 thành giá trị 9.\n",
    "Chuyển đổi lại list t_list thành một tuple mới t bằng cách sử dụng hàm tuple().\n",
    "In ra tuple mới t"
   ]
  },
  {
   "cell_type": "markdown",
   "metadata": {},
   "source": [
    "Chuyển đổi một tuple thành một chuỗi"
   ]
  },
  {
   "cell_type": "markdown",
   "metadata": {},
   "source": [
    "Bạn có thể chuyển đổi một tuple thành một chuỗi với cách sau"
   ]
  },
  {
   "cell_type": "code",
   "execution_count": 15,
   "metadata": {},
   "outputs": [
    {
     "name": "stdout",
     "output_type": "stream",
     "text": [
      "(1, 2, 3, 4, 5)\n",
      "<class 'str'>\n"
     ]
    }
   ],
   "source": [
    "data = (1, 2, 3, 4, 5)\n",
    "data_str = str(data)\n",
    "print(data_str)\n",
    "print(type(data_str))"
   ]
  },
  {
   "cell_type": "markdown",
   "metadata": {},
   "source": [
    "Trong đoạn code, bạn đã chuyển đổi tuple data thành một chuỗi bằng cách sử dụng hàm str(). Kết quả là một chuỗi biểu diễn của tuple data.\n",
    "\n",
    "Khi in ra giá trị của data_str, nó sẽ hiển thị dưới dạng chuỗi, chứ không phải là một tuple nữa."
   ]
  },
  {
   "cell_type": "code",
   "execution_count": 16,
   "metadata": {},
   "outputs": [
    {
     "name": "stdout",
     "output_type": "stream",
     "text": [
      "(\n"
     ]
    }
   ],
   "source": [
    "print(data_str[0])"
   ]
  },
  {
   "cell_type": "markdown",
   "metadata": {},
   "source": [
    "khi truy cập vào các phần tử của chuỗi, các ký tự trong chuỗi sẽ được trả về, chứ không phải các phần tử của tuple.\n",
    "\n",
    "Vì vậy, data_str[0] sẽ trả về ký tự đầu tiên của chuỗi, chứ không phải là phần tử đầu tiên của tuple.   "
   ]
  },
  {
   "cell_type": "markdown",
   "metadata": {},
   "source": [
    "math and comparison"
   ]
  },
  {
   "cell_type": "markdown",
   "metadata": {},
   "source": [
    "Toán tử so sánh và các hàm toán học có thể được sử dụng trên các bộ dữ liệu. Dưới đây là một số ví dụ:"
   ]
  },
  {
   "cell_type": "code",
   "execution_count": 38,
   "metadata": {},
   "outputs": [
    {
     "name": "stdout",
     "output_type": "stream",
     "text": [
      "1\n",
      "5\n",
      "15\n"
     ]
    }
   ],
   "source": [
    "t = (1, 2, 3, 4, 5)\n",
    "\n",
    "print(min(t))\n",
    "print(max(t))\n",
    "print(sum(t))"
   ]
  },
  {
   "cell_type": "markdown",
   "metadata": {},
   "source": [
    "Trong đoạn mã này:\n",
    "\n",
    "Hàm min() được sử dụng để tìm ra giá trị nhỏ nhất trong tuple t, giá trị nhỏ nhất là 1, do đó kết quả của min(t) sẽ là 1.\n",
    "\n",
    "Hàm max() được sử dụng để tìm ra giá trị lớn nhất trong tuple t, giá trị lớn nhất là 5, do đó kết quả của max(t) sẽ là 5.\n",
    "\n",
    "Hàm sum() được sử dụng để tính tổng các phần tử trong tuple t, tổng của các phần tử từ 1 đến 5 là 15, do đó kết quả của sum(t) sẽ là 15."
   ]
  },
  {
   "cell_type": "code",
   "execution_count": 37,
   "metadata": {},
   "outputs": [
    {
     "name": "stdout",
     "output_type": "stream",
     "text": [
      "[3, 4, 6, 7, 9]\n"
     ]
    }
   ],
   "source": [
    "t = (4, 7, 3, 9, 6)\n",
    "t_s = sorted(t)\n",
    "print(t_s)"
   ]
  },
  {
   "cell_type": "markdown",
   "metadata": {},
   "source": [
    "Trong đoạn code, sử dụng hàm sorted() để sắp xếp các phần tử của tuple t theo thứ tự tăng dần và lưu kết quả vào biến t_s.\n",
    "\n",
    "Kết quả in ra sẽ là một list chứa các phần tử của tuple t đã được sắp xếp tăng dần"
   ]
  },
  {
   "cell_type": "code",
   "execution_count": 42,
   "metadata": {},
   "outputs": [
    {
     "name": "stdout",
     "output_type": "stream",
     "text": [
      "(1, 2, 3, 4, 5)\n",
      "('a', 'b', 'c', 'd', 'e')\n",
      "1 a\n",
      "2 b\n",
      "3 c\n",
      "4 d\n",
      "5 e\n"
     ]
    }
   ],
   "source": [
    "t1 = (1, 2, 3, 4, 5)\n",
    "t2 = ('a', 'b', 'c', 'd', 'e')\n",
    "\n",
    "print(t1)\n",
    "print(t2)\n",
    "\n",
    "t3 = zip(t1, t2)\n",
    "for x,y in t3:\n",
    "    print(x, y)"
   ]
  },
  {
   "cell_type": "markdown",
   "metadata": {},
   "source": [
    " tạo hai tuple t1 và t2, mỗi tuple chứa một chuỗi số và một chuỗi ký tự tương ứng\n",
    " \n",
    "Sau đó, in ra hai chuỗi \n",
    "\n",
    "sử dụng hàm zip() để kết hợp hai tuple t1 và t2 thành một iterator chứa các cặp giá trị từ các tuple tương ứng.\n",
    "\n",
    "Trong vòng lặp for, bạn lặp qua mỗi cặp giá trị từ iterator t3 và in ra từng phần tử của các cặp."
   ]
  },
  {
   "cell_type": "code",
   "execution_count": 16,
   "metadata": {},
   "outputs": [],
   "source": [
    "import math\n",
    "\n",
    "def quadratic_equation(a, b, c):\n",
    "    '''\n",
    "    This function aims at solving the quadratic equation\n",
    "    a, b, c --- three parameters and a =! 0\n",
    "    '''\n",
    "    \n",
    "    # compute delta\n",
    "    delta = b*b - 4*a*c\n",
    "\n",
    "    if delta < 0:\n",
    "        return ()\n",
    "    elif delta == 0:\n",
    "        x = (-b+math.sqrt(delta))/2*a\n",
    "        return (x,)\n",
    "    else:\n",
    "        x1 = (-b+math.sqrt(delta))/(2*a)\n",
    "        x2 = (-b-math.sqrt(delta))/(2*a)\n",
    "        return (x1,x2)\n"
   ]
  },
  {
   "cell_type": "code",
   "execution_count": 18,
   "metadata": {},
   "outputs": [
    {
     "name": "stdout",
     "output_type": "stream",
     "text": [
      "<class 'tuple'>\n",
      "0\n",
      "()\n"
     ]
    }
   ],
   "source": [
    "result = quadratic_equation(a=5, b=0, c=1)\n",
    "print(type(result))\n",
    "print(len(result))\n",
    "print(result)"
   ]
  },
  {
   "cell_type": "markdown",
   "metadata": {},
   "source": [
    "hàm quadratic_equation(a=5, b=0, c=1) để giải phương trình bậc hai với a = 5, b = 0, c = 1\n",
    "\n",
    "sau đó, tính delta \n",
    "\n",
    "in ra loại result \n",
    "\n",
    "in ra độ dài result \n",
    "\n",
    "in ra result"
   ]
  },
  {
   "cell_type": "code",
   "execution_count": 19,
   "metadata": {},
   "outputs": [
    {
     "name": "stdout",
     "output_type": "stream",
     "text": [
      "<class 'tuple'>\n",
      "2\n",
      "(-0.276393202250021, -0.7236067977499789)\n"
     ]
    }
   ],
   "source": [
    "result = quadratic_equation(a=5, b=5, c=1)\n",
    "print(type(result))\n",
    "print(len(result))\n",
    "print(result)"
   ]
  },
  {
   "cell_type": "markdown",
   "metadata": {},
   "source": [
    "hàm quadratic_equation(a=5, b=5, c=1) để giải phương trình bậc hai với a = 5, b = 5, c = 1"
   ]
  },
  {
   "cell_type": "code",
   "execution_count": 20,
   "metadata": {},
   "outputs": [
    {
     "name": "stdout",
     "output_type": "stream",
     "text": [
      "<class 'tuple'>\n",
      "1\n",
      "(-8.0,)\n"
     ]
    }
   ],
   "source": [
    "result = quadratic_equation(a=4, b=4, c=1)\n",
    "print(type(result))\n",
    "print(len(result))\n",
    "print(result)"
   ]
  },
  {
   "cell_type": "markdown",
   "metadata": {},
   "source": [
    " hàm quadratic_equation(a=4, b=4, c=1) để giải phương trình bậc hai với a = 4, b = 4, c = 1"
   ]
  },
  {
   "cell_type": "code",
   "execution_count": 21,
   "metadata": {},
   "outputs": [
    {
     "ename": "TypeError",
     "evalue": "'tuple' object does not support item assignment",
     "output_type": "error",
     "traceback": [
      "\u001b[1;31m---------------------------------------------------------------------------\u001b[0m",
      "\u001b[1;31mTypeError\u001b[0m                                 Traceback (most recent call last)",
      "\u001b[1;32m<ipython-input-21-55f394e5ddc8>\u001b[0m in \u001b[0;36m<module>\u001b[1;34m\u001b[0m\n\u001b[0;32m      1\u001b[0m \u001b[0mresult\u001b[0m \u001b[1;33m=\u001b[0m \u001b[0mquadratic_equation\u001b[0m\u001b[1;33m(\u001b[0m\u001b[0ma\u001b[0m\u001b[1;33m=\u001b[0m\u001b[1;36m4\u001b[0m\u001b[1;33m,\u001b[0m \u001b[0mb\u001b[0m\u001b[1;33m=\u001b[0m\u001b[1;36m4\u001b[0m\u001b[1;33m,\u001b[0m \u001b[0mc\u001b[0m\u001b[1;33m=\u001b[0m\u001b[1;36m1\u001b[0m\u001b[1;33m)\u001b[0m\u001b[1;33m\u001b[0m\u001b[1;33m\u001b[0m\u001b[0m\n\u001b[1;32m----> 2\u001b[1;33m \u001b[0mresult\u001b[0m\u001b[1;33m[\u001b[0m\u001b[1;36m0\u001b[0m\u001b[1;33m]\u001b[0m \u001b[1;33m=\u001b[0m \u001b[1;36m1\u001b[0m\u001b[1;33m\u001b[0m\u001b[1;33m\u001b[0m\u001b[0m\n\u001b[0m",
      "\u001b[1;31mTypeError\u001b[0m: 'tuple' object does not support item assignment"
     ]
    }
   ],
   "source": [
    "result = quadratic_equation(a=4, b=4, c=1)\n",
    "result[0] = 1"
   ]
  },
  {
   "cell_type": "code",
   "execution_count": null,
   "metadata": {},
   "outputs": [],
   "source": [
    "result = quadratic_equation(a=4, b=4, c=1)\n",
    "result_list = list(result)\n",
    "result_list[0] = 1 \n",
    "result = tuple(result_list)\n",
    "print(result)"
   ]
  },
  {
   "cell_type": "markdown",
   "metadata": {},
   "source": [
    "(1,)"
   ]
  },
  {
   "cell_type": "markdown",
   "metadata": {},
   "source": [
    " hàm quadratic_equation(a=4, b=4, c=1) để giải phương trình bậc hai với a = 4, b = 4, c = 1\n",
    "\n",
    " chuyển đổi tuple result thành một danh sách bằng cách sử dụng hàm list()\n",
    "\n",
    " thay đổi giá trị của phần tử đầu tiên trong danh sách thành 1\n",
    "\n",
    " chuyển đổi danh sách đã được sửa đổi lại thành một tuple bằng cách sử dụng hàm tuple(), và gán kết quả này lại cho biến result\n",
    "\n",
    "in kết quả này ra màn hình"
   ]
  },
  {
   "cell_type": "code",
   "execution_count": 10,
   "metadata": {},
   "outputs": [
    {
     "name": "stdout",
     "output_type": "stream",
     "text": [
      "(1, 5)\n",
      "<class 'tuple'>\n",
      "(2, 6)\n",
      "<class 'tuple'>\n",
      "(3, 7)\n",
      "<class 'tuple'>\n"
     ]
    }
   ],
   "source": [
    "# tuple and zip\n",
    "\n",
    "x_data = [1, 2, 3]\n",
    "y_data = [5, 6, 7]\n",
    "data = zip(x_data, y_data)\n",
    "\n",
    "# print\n",
    "for d in data:\n",
    "    print(d)\n",
    "    print(type(d))"
   ]
  },
  {
   "cell_type": "markdown",
   "metadata": {},
   "source": [
    "code thực hiện các bước sau:\n",
    "\n",
    "Khởi tạo dữ liệu:\n",
    "\n",
    "Hai danh sách x_data và y_data được khởi tạo, mỗi danh sách chứa một loạt các số nguyên.\n",
    "\n",
    "Sử dụng hàm zip:\n",
    "\n",
    "Hàm zip() được sử dụng để kết hợp các phần tử tương ứng từ hai danh sách x_data và y_data lại với nhau để tạo thành các cặp. Cụ thể, nó sẽ tạo ra một iterator chứa các tuple, trong đó mỗi tuple chứa một phần tử từ x_data và một phần tử từ y_data tương ứng\n",
    "\n",
    "Trong trường hợp này, khi gọi zip(x_data, y_data), sẽ tạo ra các cặp (1, 5), (2, 6), và (3, 7).\n",
    "\n",
    "Vòng lặp for để in ra kết quả:\n",
    "\n",
    "Vòng lặp for được sử dụng để lặp qua các phần tử của iterator được tạo ra bởi hàm zip().\n",
    "\n",
    "Mỗi phần tử d trong iterator là một tuple chứa một cặp giá trị từ x_data và y_data.\n",
    "\n",
    "Trong mỗi lần lặp, in ra giá trị của tuple d và kiểu dữ liệu của nó bằng cách sử dụng hàm type(). Điều này giúp chúng ta xác định rằng các phần tử trong iterator được trả về là các tuple.\n",
    "\n",
    "\n",
    "\n",
    "\n"
   ]
  },
  {
   "cell_type": "markdown",
   "metadata": {},
   "source": [
    "## Tuple and List"
   ]
  },
  {
   "cell_type": "code",
   "execution_count": 25,
   "metadata": {},
   "outputs": [
    {
     "name": "stdout",
     "output_type": "stream",
     "text": [
      "120\n",
      "80\n"
     ]
    }
   ],
   "source": [
    "# memory comparison\n",
    "import sys\n",
    "\n",
    "aList  = [3, 4, 5, 6, 7]\n",
    "aTuple = (3, 4, 5, 6, 7)\n",
    "\n",
    "print(sys.getsizeof(aList))\n",
    "print(sys.getsizeof(aTuple))"
   ]
  },
  {
   "cell_type": "markdown",
   "metadata": {},
   "source": [
    "code trên so sánh kích thước bộ nhớ được sử dụng bởi một danh sách (aList) và một tuple (aTuple) chứa cùng một tập hợp các số nguyên. Kết quả in ra sẽ hiển thị kích thước bộ nhớ (theo byte) mà mỗi cấu trúc dữ liệu chiếm giữ trên máy tính. Điều này giúp so sánh khả năng tiêu tốn bộ nhớ của danh sách và tuple, và cho thấy tuple thường nhỏ hơn danh sách với cùng một tập hợp các phần tử"
   ]
  },
  {
   "cell_type": "code",
   "execution_count": 26,
   "metadata": {},
   "outputs": [
    {
     "name": "stdout",
     "output_type": "stream",
     "text": [
      "(3, 4, 5, 6, 7)\n",
      "<class 'tuple'>\n"
     ]
    }
   ],
   "source": [
    "# convert from list to tuple\n",
    "aList  = [3, 4, 5, 6, 7]\n",
    "aTuple = tuple(aList)\n",
    "\n",
    "print(aTuple)\n",
    "print(type(aTuple))"
   ]
  },
  {
   "cell_type": "markdown",
   "metadata": {},
   "source": [
    "code trên chuyển đổi một danh sách (aList) thành một tuple (aTuple) bằng cách sử dụng hàm tuple(). Kết quả của việc này là một tuple chứa các phần tử từ danh sách ban đầu. Sau đó, mã in ra giá trị của tuple và kiểu dữ liệu của nó để xác nhận rằng chuyển đổi đã được thực hiện thành công."
   ]
  },
  {
   "cell_type": "code",
   "execution_count": 27,
   "metadata": {},
   "outputs": [
    {
     "name": "stdout",
     "output_type": "stream",
     "text": [
      "[3, 4, 5, 6, 7]\n",
      "<class 'list'>\n"
     ]
    }
   ],
   "source": [
    "# convert from tuple to list\n",
    "aTuple  = (3, 4, 5, 6, 7)\n",
    "aList = list(aList)\n",
    "\n",
    "print(aList)\n",
    "print(type(aList))"
   ]
  },
  {
   "cell_type": "markdown",
   "metadata": {},
   "source": [
    "code trên chuyển đổi một tuple (aTuple) thành một danh sách (aList) bằng cách sử dụng hàm list(). Kết quả của việc này là một danh sách chứa các phần tử từ tuple ban đầu. Sau đó, mã in ra giá trị của danh sách và kiểu dữ liệu của nó để xác nhận rằng chuyển đổi đã được thực hiện thành công. Tuy nhiên, lưu ý rằng trong câu lệnh in ra, biến aList được sử dụng thay vì aTuple"
   ]
  }
 ],
 "metadata": {
  "kernelspec": {
   "display_name": "Python 3 (ipykernel)",
   "language": "python",
   "name": "python3"
  },
  "language_info": {
   "codemirror_mode": {
    "name": "ipython",
    "version": 3
   },
   "file_extension": ".py",
   "mimetype": "text/x-python",
   "name": "python",
   "nbconvert_exporter": "python",
   "pygments_lexer": "ipython3",
   "version": "3.12.1"
  }
 },
 "nbformat": 4,
 "nbformat_minor": 2
}
