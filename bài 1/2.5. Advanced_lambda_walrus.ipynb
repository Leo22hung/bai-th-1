{
 "cells": [
  {
   "cell_type": "markdown",
   "id": "1bf0441c",
   "metadata": {},
   "source": [
    "## Walrus"
   ]
  },
  {
   "cell_type": "code",
   "execution_count": 1,
   "id": "334804f8",
   "metadata": {},
   "outputs": [
    {
     "name": "stdout",
     "output_type": "stream",
     "text": [
      "True\n"
     ]
    }
   ],
   "source": [
    "# walrus operator creates an assignment expression\n",
    "\n",
    "is_new = True\n",
    "print(is_new)"
   ]
  },
  {
   "cell_type": "markdown",
   "id": "cd9cd1c3",
   "metadata": {},
   "source": [
    "in giá trị của biến is_new"
   ]
  },
  {
   "cell_type": "code",
   "execution_count": 2,
   "id": "bd0b659a",
   "metadata": {},
   "outputs": [
    {
     "name": "stdout",
     "output_type": "stream",
     "text": [
      "True\n"
     ]
    }
   ],
   "source": [
    "print(is_new := True)"
   ]
  },
  {
   "cell_type": "markdown",
   "id": "9750ba87",
   "metadata": {},
   "source": [
    "Dòng này sử dụng toán tử walrus để gán giá trị True cho biến is_new, và sau đó in ra giá trị của biến đó. "
   ]
  },
  {
   "cell_type": "code",
   "execution_count": 3,
   "id": "023f33b5",
   "metadata": {},
   "outputs": [
    {
     "name": "stdout",
     "output_type": "stream",
     "text": [
      "warning, the word ab has 2 characters\n",
      "warning, the word a has 1 characters\n"
     ]
    }
   ],
   "source": [
    "words = ['falcon', 'sky', 'ab', 'water', 'a', 'forest']\n",
    "\n",
    "for word in words:\n",
    "    if ((n := len(word)) < 3):\n",
    "        print(f'warning, the word {word} has {n} characters')"
   ]
  },
  {
   "cell_type": "markdown",
   "id": "f0d926de",
   "metadata": {},
   "source": [
    "Code này sử dụng toán tử walrus trong một vòng lặp for để kiểm tra độ dài của mỗi từ trong danh sách words.\n",
    "\n",
    "Toán tử walrus (:=) được sử dụng để gán giá trị của len(word) cho biến n và đồng thời kiểm tra xem độ dài của từ đó có nhỏ hơn 3 không.\n",
    "Nếu độ dài của từ đó nhỏ hơn 3, câu cảnh báo sẽ được in ra với thông tin về từ và số ký tự của nó."
   ]
  },
  {
   "cell_type": "markdown",
   "id": "334902a3",
   "metadata": {},
   "source": [
    "## type hints"
   ]
  },
  {
   "cell_type": "code",
   "execution_count": 4,
   "id": "32bf979f",
   "metadata": {},
   "outputs": [
    {
     "name": "stdout",
     "output_type": "stream",
     "text": [
      "Hi John\n"
     ]
    }
   ],
   "source": [
    "def say_hi(name):\n",
    "    return f'Hi {name}'\n",
    "\n",
    "greeting = say_hi('John')\n",
    "print(greeting)"
   ]
  },
  {
   "cell_type": "markdown",
   "id": "d0a3e0c4",
   "metadata": {},
   "source": [
    "Đoạn code trên định nghĩa một hàm có tên là say_hi nhận một tham số name, và trả về một chuỗi chào mừng dưới dạng \"Hi {name}\".\n",
    "\n",
    "Sau đó, hàm say_hi được gọi với tham số 'John', kết quả trả về được lưu vào biến greeting.\n",
    "\n",
    "Cuối cùng, giá trị của greeting được in ra, cho kết quả là chuỗi \"Hi John\""
   ]
  },
  {
   "cell_type": "code",
   "execution_count": 8,
   "id": "e80b2300",
   "metadata": {},
   "outputs": [
    {
     "name": "stdout",
     "output_type": "stream",
     "text": [
      "<class 'str'>\n",
      "Hi John\n",
      "<class 'int'>\n",
      "Hi 123\n"
     ]
    }
   ],
   "source": [
    "def say_hi(name: str) -> str:\n",
    "    print(type(name))\n",
    "    return f'Hi {name}'\n",
    "\n",
    "greeting = say_hi('John')\n",
    "print(greeting)\n",
    "\n",
    "greeting = say_hi(123)\n",
    "print(greeting)"
   ]
  },
  {
   "cell_type": "markdown",
   "id": "599f7d39",
   "metadata": {},
   "source": [
    "Trong hàm say_hi, ta đã đặt kiểu dữ liệu cho tham số name và kiểu trả về của hàm là str. Khi hàm được gọi với name là một chuỗi, nó hoạt động như dự kiến và trả về một chuỗi chào mừng.\n",
    "\n",
    "Tuy nhiên, khi gọi say_hi với một số nguyên, hàm sẽ in ra kiểu dữ liệu của tham số name và trả về một chuỗi chào mừng với số nguyên đó được chuyển đổi thành chuỗi. Điều này chỉ ra rằng có thể gọi hàm say_hi với các loại dữ liệu khác nhau cho tham số name, và nó sẽ cố gắng chuyển đổi chúng thành chuỗi trước khi trả về kết quả."
   ]
  },
  {
   "cell_type": "markdown",
   "id": "bb46c203",
   "metadata": {},
   "source": [
    "## Lambda"
   ]
  },
  {
   "cell_type": "code",
   "execution_count": 9,
   "id": "4d0c366d",
   "metadata": {},
   "outputs": [
    {
     "name": "stdout",
     "output_type": "stream",
     "text": [
      "15\n"
     ]
    }
   ],
   "source": [
    "# lambda arguments : expression\n",
    "\n",
    "x = lambda a : a + 10\n",
    "print(x(5))"
   ]
  },
  {
   "cell_type": "markdown",
   "id": "8b6a23b9",
   "metadata": {},
   "source": [
    "Hàm lambda này nhận một đối số a và trả về giá trị của biểu thức a + 10 khi được gọi. Trong trường hợp này, nó được gọi với a = 5, do đó kết quả là 5 + 10 = 15."
   ]
  },
  {
   "cell_type": "code",
   "execution_count": 10,
   "id": "f095b201",
   "metadata": {},
   "outputs": [
    {
     "name": "stdout",
     "output_type": "stream",
     "text": [
      "30\n"
     ]
    }
   ],
   "source": [
    "x = lambda a, b : a * b\n",
    "print(x(5, 6))"
   ]
  },
  {
   "cell_type": "markdown",
   "id": "c0da5878",
   "metadata": {},
   "source": [
    "\n",
    "Hàm lambda này nhận hai đối số a và b, và trả về tích của chúng khi được gọi. Khi gọi x(5, 6), a được gán giá trị 5 và b được gán giá trị 6, do đó kết quả là 5 * 6 = 30."
   ]
  },
  {
   "cell_type": "code",
   "execution_count": 11,
   "id": "b6bcc55f",
   "metadata": {},
   "outputs": [
    {
     "name": "stdout",
     "output_type": "stream",
     "text": [
      "22\n"
     ]
    }
   ],
   "source": [
    "def myfunc(n):\n",
    "  return lambda a : a * n\n",
    "\n",
    "mydoubler = myfunc(2)\n",
    "\n",
    "print(mydoubler(11))"
   ]
  },
  {
   "cell_type": "markdown",
   "id": "b7a8e952",
   "metadata": {},
   "source": [
    "Hàm myfunc(n) trả về một hàm lambda mà nhân đối số a với n. Trong ví dụ này, mydoubler là một hàm được tạo ra từ myfunc(2), có nghĩa là nó nhân đối số a với 2. Khi mydoubler(11) được gọi, a được gán giá trị 11, do đó kết quả là 11 * 2 = 22."
   ]
  },
  {
   "cell_type": "code",
   "execution_count": 15,
   "id": "d76c4778",
   "metadata": {},
   "outputs": [
    {
     "data": {
      "text/plain": [
       "[0, 1, 4, 9, 16, 25, 36, 49, 64, 81]"
      ]
     },
     "execution_count": 15,
     "metadata": {},
     "output_type": "execute_result"
    }
   ],
   "source": [
    "def square(x): \n",
    "    return x*x\n",
    "[square(x) for x in range(10)]"
   ]
  },
  {
   "cell_type": "markdown",
   "id": "226516d3",
   "metadata": {},
   "source": [
    "Đoạn code này tạo ra một danh sách các bình phương của các số từ 0 đến 9 bằng cách sử dụng list comprehension. Hàm square(x) định nghĩa cách tính bình phương của một số x. Sau đó, list comprehension được sử dụng để áp dụng hàm này cho mỗi giá trị trong phạm vi từ 0 đến 9, tạo ra một danh sách các bình phương tương ứng.\n",
    "\n",
    "Kết quả sẽ là [0, 1, 4, 9, 16, 25, 36, 49, 64, 81]"
   ]
  },
  {
   "cell_type": "code",
   "execution_count": 12,
   "id": "8ccd30cc",
   "metadata": {},
   "outputs": [
    {
     "data": {
      "text/plain": [
       "[0, 1, 4, 9, 16, 25, 36, 49, 64, 81]"
      ]
     },
     "execution_count": 12,
     "metadata": {},
     "output_type": "execute_result"
    }
   ],
   "source": [
    "f = lambda x: x*x\n",
    "[f(x) for x in range(10)]"
   ]
  },
  {
   "cell_type": "markdown",
   "id": "9514753d",
   "metadata": {},
   "source": [
    "Đoạn code này sử dụng lambda function để định nghĩa hàm bình phương f(x) = x*x. Sau đó, sử dụng list comprehension để tạo ra một danh sách chứa bình phương của các số từ 0 đến 9 bằng cách áp dụng hàm lambda cho mỗi giá trị trong phạm vi từ 0 đến 9.\n",
    "\n",
    "Kết quả sẽ là [0, 1, 4, 9, 16, 25, 36, 49, 64, 81]."
   ]
  },
  {
   "cell_type": "code",
   "execution_count": 14,
   "id": "960c1ac7",
   "metadata": {},
   "outputs": [
    {
     "data": {
      "text/plain": [
       "[0, 1, 4, 9, 16, 25, 36, 49, 64, 81]"
      ]
     },
     "execution_count": 14,
     "metadata": {},
     "output_type": "execute_result"
    }
   ],
   "source": [
    "[(lambda x: x*x)(x) for x in range(10)]"
   ]
  },
  {
   "cell_type": "markdown",
   "id": "db2191ca",
   "metadata": {},
   "source": [
    "Đoạn mã này sử dụng một lambda function để tính bình phương của mỗi số từ 0 đến 9 bằng cách sử dụng list comprehension. Lambda function được gọi với giá trị x được chạy từ 0 đến 9 trong phạm vi range(10), và kết quả trả về là một danh sách chứa bình phương của các số này. Kết quả sẽ giống như trước: [0, 1, 4, 9, 16, 25, 36, 49, 64, 81]."
   ]
  },
  {
   "cell_type": "code",
   "execution_count": 1,
   "id": "475b0818",
   "metadata": {},
   "outputs": [
    {
     "data": {
      "text/plain": [
       "[<function __main__.<lambda>(x)>,\n",
       " <function __main__.<lambda>(x)>,\n",
       " <function __main__.<lambda>(x)>,\n",
       " <function __main__.<lambda>(x)>,\n",
       " <function __main__.<lambda>(x)>,\n",
       " <function __main__.<lambda>(x)>,\n",
       " <function __main__.<lambda>(x)>,\n",
       " <function __main__.<lambda>(x)>,\n",
       " <function __main__.<lambda>(x)>,\n",
       " <function __main__.<lambda>(x)>]"
      ]
     },
     "execution_count": 1,
     "metadata": {},
     "output_type": "execute_result"
    }
   ],
   "source": [
    "[lambda x: x*x for x in range(10)]"
   ]
  },
  {
   "cell_type": "markdown",
   "id": "6b298ddf",
   "metadata": {},
   "source": [
    "Đoạn code này tạo ra một danh sách chứa các hàm lambda, mỗi hàm lambda nhận một đối số x và trả về bình phương của x. Tuy nhiên, không có gì được gọi khi chúng được tạo ra, vì vậy chúng không thực sự tính toán bất kỳ giá trị nào. Kết quả sẽ là một danh sách các hàm lambda, không phải các giá trị bình phương của các số từ 0 đến 9."
   ]
  },
  {
   "cell_type": "code",
   "execution_count": null,
   "id": "226a15b3",
   "metadata": {},
   "outputs": [],
   "source": []
  },
  {
   "cell_type": "markdown",
   "id": "f78873a0",
   "metadata": {},
   "source": [
    "## Iterator"
   ]
  },
  {
   "cell_type": "code",
   "execution_count": null,
   "id": "91f08289",
   "metadata": {},
   "outputs": [],
   "source": []
  },
  {
   "cell_type": "code",
   "execution_count": null,
   "id": "b3a35842",
   "metadata": {},
   "outputs": [],
   "source": []
  },
  {
   "cell_type": "code",
   "execution_count": null,
   "id": "67454646",
   "metadata": {},
   "outputs": [],
   "source": []
  },
  {
   "cell_type": "code",
   "execution_count": null,
   "id": "3c86a552",
   "metadata": {},
   "outputs": [],
   "source": []
  },
  {
   "cell_type": "code",
   "execution_count": null,
   "id": "b2b6a9f3",
   "metadata": {},
   "outputs": [],
   "source": []
  }
 ],
 "metadata": {
  "kernelspec": {
   "display_name": "Python 3 (ipykernel)",
   "language": "python",
   "name": "python3"
  },
  "language_info": {
   "codemirror_mode": {
    "name": "ipython",
    "version": 3
   },
   "file_extension": ".py",
   "mimetype": "text/x-python",
   "name": "python",
   "nbconvert_exporter": "python",
   "pygments_lexer": "ipython3",
   "version": "3.12.1"
  }
 },
 "nbformat": 4,
 "nbformat_minor": 5
}
