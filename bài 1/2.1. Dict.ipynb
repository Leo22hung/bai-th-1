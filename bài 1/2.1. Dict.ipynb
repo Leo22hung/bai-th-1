{
 "cells": [
  {
   "cell_type": "markdown",
   "metadata": {},
   "source": [
    "### Dicts"
   ]
  },
  {
   "cell_type": "markdown",
   "metadata": {},
   "source": [
    "##### Quick example"
   ]
  },
  {
   "cell_type": "markdown",
   "metadata": {},
   "source": [
    "Dictionary là một chuỗi các mục. Mỗi mục là một cặp được định nghĩa bằng chìa key và value.\n",
    "\n",
    "Dictionary không được sắp xếp. Bạn có thể truy cập vào danh sách các value hoặc key một cách độc lập."
   ]
  },
  {
   "cell_type": "code",
   "execution_count": 20,
   "metadata": {},
   "outputs": [
    {
     "name": "stdout",
     "output_type": "stream",
     "text": [
      "{('a', 1), ('c', 3), ('b', 2)}\n",
      "<class 'set'>\n"
     ]
    }
   ],
   "source": [
    "keys   = ['a', 'b', 'c']\n",
    "values = [1, 2, 3]\n",
    "\n",
    "a_dictionary = {(k,v) for (k,v) in zip(keys,values)}\n",
    "print(a_dictionary)\n",
    "print(type(a_dictionary))"
   ]
  },
  {
   "cell_type": "markdown",
   "metadata": {},
   "source": [
    "tạo hai danh sách:\n",
    "keys chứa các chuỗi: ['a', 'b', 'c']\n",
    "values chứa các số nguyên: [1, 2, 3]\n",
    "sử dụng hàm zip() để ghép các phần tử từ cả hai danh sách:\n",
    "zip(keys, values) tạo ra một vòng lặp có thể lặp qua các bộ, trong đó mỗi bộ chứa một phần tử từ keys và một phần tử từ values. Nó có dạng như sau: ('a', 1), ('b', 2), ('c', 3).\n",
    "Sau đó, sử dụng biểu thức tạo từ điển để tạo ra từ điển:\n",
    "{k: v for (k, v) in zip(keys, values)} lặp qua mỗi bộ được tạo ra bởi zip(keys, values) và tạo ra một cặp khóa-giá trị trong từ điển cho mỗi bộ.\n",
    "Đối với mỗi bộ (k, v), trong đó k là một khóa từ danh sách keys và v là một giá trị từ danh sách values, nó tạo ra một cặp khóa-giá trị trong từ điển.\n",
    "Do đó, từ điển cuối cùng sẽ là {'a': 1, 'b': 2, 'c': 3} trong đó mỗi cặp khóa-giá trị tương ứng với các phần tử được ghép từ keys và values tương ứng.\n",
    "Cuối cùng, chúng ta in từ điển và kiểu của nó bằng cách sử dụng print(a_dictionary) và print(type(a_dictionary)) tương ứng.\n",
    "code tạo ra một từ điển trong đó các khóa được lấy từ danh sách keys và các giá trị được lấy từ danh sách values, bằng cách sử dụng biểu thức tạo từ điển."
   ]
  },
  {
   "cell_type": "code",
   "execution_count": 2,
   "metadata": {},
   "outputs": [
    {
     "name": "stdout",
     "output_type": "stream",
     "text": [
      "{'learning_rate': 0.1, 'optimizer': 'Adam', 'metric': 'Accuracy'}\n",
      "<class 'dict'>\n"
     ]
    }
   ],
   "source": [
    "parameters = {'learning_rate': 0.1,\n",
    "              'optimizer': 'Adam',\n",
    "              'metric': 'Accuracy'}\n",
    "\n",
    "print(parameters)\n",
    "print(type(parameters))"
   ]
  },
  {
   "cell_type": "markdown",
   "metadata": {},
   "source": [
    "Khởi tạo một từ điển có tên là parameters với các thông số cho một mô hình học máy. Cụ thể:\n",
    "'learning_rate': 0.1 - Đây là tốc độ học của mô hình, một thông số quan trọng trong việc cập nhật trọng số của mô hình trong quá trình huấn luyện. Ở đây, giá trị là 0.1.\n",
    "'optimizer': 'Adam' - Đây là thuật toán tối ưu hóa được sử dụng để cập nhật trọng số. Adam là một trong những thuật toán phổ biến cho mục đích này.\n",
    "'metric': 'Accuracy' - Đây là phương pháp đánh giá hiệu suất của mô hình. Trong trường hợp này, độ chính xác được sử dụng làm phương pháp đánh giá.\n",
    "In ra nội dung của từ điển parameters bằng câu lệnh print(parameters). Điều này sẽ hiển thị các thông số của mô hình học máy.\n",
    "In ra kiểu dữ liệu của biến parameters bằng cách sử dụng câu lệnh print(type(parameters)). Kết quả sẽ là kiểu dữ liệu của parameters, trong trường hợp này là <class 'dict'>, cho biết rằng parameters là một từ điển"
   ]
  },
  {
   "cell_type": "code",
   "execution_count": 7,
   "metadata": {},
   "outputs": [
    {
     "name": "stdout",
     "output_type": "stream",
     "text": [
      "dict_keys(['learning_rate', 'optimizer', 'metric'])\n",
      "learning_rate\n",
      "optimizer\n",
      "metric\n"
     ]
    }
   ],
   "source": [
    "parameters = {'learning_rate': 0.1,\n",
    "              'optimizer': 'Adam',\n",
    "              'metric': 'Accuracy'}\n",
    "\n",
    "keys   = parameters.keys()\n",
    "print(keys)\n",
    "\n",
    "for key in keys:\n",
    "    print(key)"
   ]
  },
  {
   "cell_type": "markdown",
   "metadata": {},
   "source": [
    "đọan code này thực hiện các bước sau:\n",
    "\n",
    "Đầu tiên, ta khởi tạo một từ điển có tên là parameters, chứa các thông số cho một mô hình học máy. Từ điển này bao gồm các khóa và giá trị tương ứng:\n",
    "'learning_rate': 0.1: Đây là tốc độ học của mô hình.\n",
    "'optimizer': 'Adam': Đây là thuật toán tối ưu hóa được sử dụng trong quá trình huấn luyện.\n",
    "'metric': 'Accuracy': Đây là phương pháp đánh giá hiệu suất của mô hình.\n",
    "Tiếp theo, ta sử dụng phương thức keys() của từ điển để lấy ra tất cả các khóa trong từ điển parameters và lưu chúng vào biến keys.\n",
    "ta in ra danh sách các khóa của từ điển parameters bằng cách sử dụng print(keys). Kết quả là danh sách các khóa của từ điển.\n",
    "Tiếp theo, ta sử dụng một vòng lặp for để lặp qua từng khóa trong danh sách keys:\n",
    "Trong mỗi lần lặp, ta in ra giá trị của khóa đó bằng cách sử dụng câu lệnh print(key).\n",
    "Điều này sẽ in ra mỗi khóa trong từ điển parameters, mỗi khóa trên một dòng riêng biệt."
   ]
  },
  {
   "cell_type": "code",
   "execution_count": 10,
   "metadata": {},
   "outputs": [
    {
     "name": "stdout",
     "output_type": "stream",
     "text": [
      "learning_rate\n",
      "optimizer\n",
      "metric\n"
     ]
    }
   ],
   "source": [
    "keys = parameters.keys()\n",
    "for key in keys:\n",
    "    print(key)"
   ]
  },
  {
   "cell_type": "markdown",
   "metadata": {},
   "source": [
    "Code này truy cập các khóa trong từ điển parameters bằng cách sử dụng phương thức keys(), sau đó in ra từng khóa một. Điều này giúp lặp qua tất cả các khóa trong từ điển để thực hiện các thao tác xử lý hoặc in ra thông tin."
   ]
  },
  {
   "cell_type": "code",
   "execution_count": 11,
   "metadata": {},
   "outputs": [
    {
     "name": "stdout",
     "output_type": "stream",
     "text": [
      "0.1\n",
      "Adam\n",
      "Accuracy\n"
     ]
    }
   ],
   "source": [
    "values = parameters.values()\n",
    "for value in values:\n",
    "    print(value)"
   ]
  },
  {
   "cell_type": "markdown",
   "metadata": {},
   "source": [
    "đọan code này đơn giản là lặp qua tất cả các khóa trong từ điển parameters và in ra mỗi khóa trên một dòng riêng biệt.\n",
    "\n",
    "Cụ thể:\n",
    "\n",
    "keys = parameters.keys() - Đây là cách để lấy ra tất cả các khóa từ từ điển parameters và lưu chúng vào biến keys.\n",
    "for key in keys: - Dòng này bắt đầu một vòng lặp, lặp qua tất cả các phần tử trong biến keys.\n",
    "print(key) - Trong mỗi lần lặp, giá trị của key (tức là một khóa trong từ điển parameters) được in ra màn hình."
   ]
  },
  {
   "cell_type": "code",
   "execution_count": null,
   "metadata": {},
   "outputs": [],
   "source": [
    "parameters = {'learning_rate': 0.1,\n",
    "              'optimizer': 'Adam',\n",
    "              'metric': 'Accuracy'}\n",
    "\n",
    "items = parameters.items()\n",
    "for key, value in items:\n",
    "    print(key, value)"
   ]
  },
  {
   "cell_type": "markdown",
   "metadata": {},
   "source": [
    "code này cũng rất đơn giản. Nó thực hiện các bước sau:\n",
    "\n",
    "Đầu tiên, ta có một từ điển có tên là parameters, chứa các thông số cho một mô hình học máy.\n",
    "ta sử dụng phương thức items() của từ điển parameters để lấy ra tất cả các cặp khóa-giá trị trong từ điển và lưu chúng vào biến items.\n",
    "Tiếp theo, ta sử dụng một vòng lặp for để lặp qua từng cặp khóa-giá trị trong biến items. Trong mỗi lần lặp:\n",
    "Biến key sẽ nhận giá trị của khóa trong cặp khóa-giá trị đó.\n",
    "Biến value sẽ nhận giá trị của giá trị tương ứng với khóa đó.\n",
    "Sử dụng câu lệnh print(key, value) để in ra cặp khóa và giá trị tương ứng trên cùng một dòng."
   ]
  },
  {
   "cell_type": "code",
   "execution_count": 14,
   "metadata": {},
   "outputs": [
    {
     "name": "stdout",
     "output_type": "stream",
     "text": [
      "learning_rate\n",
      "optimizer\n",
      "metric\n"
     ]
    }
   ],
   "source": [
    "parameters = {'learning_rate': 0.1,\n",
    "              'optimizer': 'Adam',\n",
    "              'metric': 'Accuracy'}\n",
    "\n",
    "for key in parameters:\n",
    "    print(key)"
   ]
  },
  {
   "cell_type": "markdown",
   "metadata": {},
   "source": [
    "đoạn code lặp lại qua từng từ khóa trong từ điển parameters và in ra mỗi khóa trên một dòng riêng biệt.\n",
    "\n",
    "Cụ thể:\n",
    "\n",
    "Chúng ta có một từ điển parameters chứa các thông số cho một mô hình học máy.\n",
    "Sử dụng vòng lặp for, với cú pháp for key in parameters:, đoạn code lặp qua từng khóa trong từ điển parameters.\n",
    "Trong mỗi lần lặp, giá trị của key sẽ là một khóa trong từ điển parameters.\n",
    "Sử dụng câu lệnh print(key) để in ra mỗi khóa trên một dòng."
   ]
  },
  {
   "cell_type": "code",
   "execution_count": 17,
   "metadata": {},
   "outputs": [
    {
     "name": "stdout",
     "output_type": "stream",
     "text": [
      "0.1\n",
      "\n",
      "After using get() function\n",
      "{'learning_rate': 0.1, 'optimizer': 'Adam', 'metric': 'Accuracy'}\n"
     ]
    }
   ],
   "source": [
    "parameters = {'learning_rate': 0.1,\n",
    "              'optimizer': 'Adam',\n",
    "              'metric': 'Accuracy'}\n",
    "\n",
    "value = parameters.get('learning_rate')\n",
    "print(value)\n",
    "\n",
    "print('\\nAfter using get() function')\n",
    "print(parameters)"
   ]
  },
  {
   "cell_type": "markdown",
   "metadata": {},
   "source": [
    "đoạn code này thực hiện các bước sau:\n",
    "\n",
    "Đầu tiên, ta có một từ điển parameters chứa các thông số cho một mô hình học máy.\n",
    "ta sử dụng phương thức get() của từ điển để lấy giá trị tương ứng với một khóa cụ thể. Trong trường hợp này, ta muốn lấy giá trị của khóa 'learning_rate'.\n",
    "Biến value sẽ nhận giá trị được trả về từ phương thức get(), tức là giá trị của khóa 'learning_rate'.\n",
    "ta in ra giá trị value, mà trong trường hợp này là tốc độ học (learning_rate).\n",
    "Sau đó, ta in ra từ điển parameters để xem liệu phương thức get() có ảnh hưởng đến từ điển ban đầu hay không."
   ]
  },
  {
   "cell_type": "code",
   "execution_count": 33,
   "metadata": {},
   "outputs": [
    {
     "name": "stdout",
     "output_type": "stream",
     "text": [
      "0.1\n",
      "\n",
      "After using pop() function\n",
      "{'optimizer': 'Adam', 'metric': 'Accuracy'}\n"
     ]
    }
   ],
   "source": [
    "parameters = {'learning_rate': 0.1,\n",
    "              'optimizer': 'Adam',\n",
    "              'metric': 'Accuracy'}\n",
    "\n",
    "value = parameters.pop('learning_rate')\n",
    "print(value)\n",
    "\n",
    "print('\\nAfter using pop() function')\n",
    "print(parameters)"
   ]
  },
  {
   "cell_type": "markdown",
   "metadata": {},
   "source": [
    "đoạn code này thực hiện các bước sau:\n",
    "\n",
    "Đầu tiên, ta có một từ điển parameters chứa các thông số cho một mô hình học máy.\n",
    "ta sử dụng phương thức pop() của từ điển để loại bỏ một phần tử cụ thể từ từ điển bằng cách chỉ định khóa của nó. Trong trường hợp này, ta muốn loại bỏ phần tử có khóa là 'learning_rate'.\n",
    "Phương thức pop() sẽ trả về giá trị của phần tử đã loại bỏ, tức là giá trị của khóa 'learning_rate'.\n",
    "Biến value sẽ nhận giá trị này.\n",
    "ta in ra giá trị value, tức là giá trị của 'learning_rate'.\n",
    "Tiếp theo, ta in ra từ điển parameters để xem liệu phương thức pop() đã loại bỏ phần tử 'learning_rate' khỏi từ điển hay không."
   ]
  },
  {
   "cell_type": "code",
   "execution_count": 36,
   "metadata": {},
   "outputs": [
    {
     "name": "stdout",
     "output_type": "stream",
     "text": [
      "None\n"
     ]
    }
   ],
   "source": [
    "parameters = {'learning_rate': 0.1,\n",
    "              'optimizer': 'Adam',\n",
    "              'metric': 'Accuracy'}\n",
    "\n",
    "value = parameters.get('algorithm')\n",
    "print(value)"
   ]
  },
  {
   "cell_type": "markdown",
   "metadata": {},
   "source": [
    "Trong đoạn code này, ta đang cố gắng lấy giá trị của một khóa không tồn tại trong từ điển parameters. Khi sử dụng phương thức get() với một khóa không tồn tại, nó sẽ trả về None thay vì gây ra lỗi.\n",
    "\n",
    "Vì algorithm không phải là một khóa trong từ điển parameters, value sẽ nhận giá trị None. Điều này không gây ra lỗi và chương trình vẫn sẽ tiếp tục chạy.\n",
    "\n",
    "Kết quả sẽ là None, do không có khóa algorithm trong từ điển parameters."
   ]
  },
  {
   "cell_type": "code",
   "execution_count": 35,
   "metadata": {},
   "outputs": [
    {
     "ename": "KeyError",
     "evalue": "'algorithm'",
     "output_type": "error",
     "traceback": [
      "\u001b[1;31m---------------------------------------------------------------------------\u001b[0m",
      "\u001b[1;31mKeyError\u001b[0m                                  Traceback (most recent call last)",
      "\u001b[1;32m<ipython-input-35-8310550c04f4>\u001b[0m in \u001b[0;36m<module>\u001b[1;34m\u001b[0m\n\u001b[0;32m      3\u001b[0m               'metric': 'Accuracy'}\n\u001b[0;32m      4\u001b[0m \u001b[1;33m\u001b[0m\u001b[0m\n\u001b[1;32m----> 5\u001b[1;33m \u001b[0mvalue\u001b[0m \u001b[1;33m=\u001b[0m \u001b[0mparameters\u001b[0m\u001b[1;33m.\u001b[0m\u001b[0mpop\u001b[0m\u001b[1;33m(\u001b[0m\u001b[1;34m'algorithm'\u001b[0m\u001b[1;33m)\u001b[0m\u001b[1;33m\u001b[0m\u001b[1;33m\u001b[0m\u001b[0m\n\u001b[0m",
      "\u001b[1;31mKeyError\u001b[0m: 'algorithm'"
     ]
    }
   ],
   "source": [
    "parameters = {'learning_rate': 0.1,\n",
    "              'optimizer': 'Adam',\n",
    "              'metric': 'Accuracy'}\n",
    "\n",
    "value = parameters.pop('algorithm')"
   ]
  },
  {
   "cell_type": "code",
   "execution_count": 1,
   "metadata": {},
   "outputs": [
    {
     "name": "stdout",
     "output_type": "stream",
     "text": [
      "Khóa 'algorithm' không tồn tại trong từ điển.\n"
     ]
    }
   ],
   "source": [
    "parameters = {'learning_rate': 0.1,\n",
    "              'optimizer': 'Adam',\n",
    "              'metric': 'Accuracy'}\n",
    "\n",
    "if 'algorithm' in parameters:\n",
    "    value = parameters.pop('algorithm')\n",
    "    print(\"Giá trị của khóa 'algorithm':\", value)\n",
    "else:\n",
    "    print(\"Khóa 'algorithm' không tồn tại trong từ điển.\")\n"
   ]
  },
  {
   "cell_type": "markdown",
   "metadata": {},
   "source": [
    "Code trước hết kiểm tra xem khóa 'algorithm' có tồn tại trong từ điển parameters không. Nếu tồn tại, nó sẽ lấy giá trị của khóa đó bằng cách sử dụng phương thức pop(), loại bỏ nó khỏi từ điển và in ra giá trị đã lấy. Nếu không, nó sẽ in ra thông báo \"Khóa 'algorithm' không tồn tại trong từ điển.\" Điều này giúp kiểm tra xem một khóa có tồn tại trong từ điển không trước khi cố gắng truy cập nó"
   ]
  },
  {
   "cell_type": "code",
   "execution_count": 2,
   "metadata": {},
   "outputs": [
    {
     "name": "stdout",
     "output_type": "stream",
     "text": [
      "('metric', 'Accuracy')\n",
      "{'learning_rate': 0.1, 'optimizer': 'Adam'}\n"
     ]
    }
   ],
   "source": [
    "parameters = {'learning_rate': 0.1,\n",
    "              'optimizer': 'Adam',\n",
    "              'metric': 'Accuracy'}\n",
    "\n",
    "item = parameters.popitem()\n",
    "\n",
    "print(item)\n",
    "print(parameters)"
   ]
  },
  {
   "cell_type": "markdown",
   "metadata": {},
   "source": [
    "Code này sử dụng phương thức popitem() để loại bỏ một cặp khóa-giá trị từ từ điển parameters. Phương thức này loại bỏ và trả về một cặp khóa-giá trị ngẫu nhiên từ từ điển. Kết quả của phương thức popitem() được in ra, cùng với từ điển parameters sau khi loại bỏ cặp khóa-giá trị đó. Điều này có nghĩa là một phần tử ngẫu nhiên đã bị loại bỏ khỏi từ điển."
   ]
  },
  {
   "cell_type": "code",
   "execution_count": 3,
   "metadata": {},
   "outputs": [
    {
     "name": "stdout",
     "output_type": "stream",
     "text": [
      "Before using clear() function\n",
      "{'learning_rate': 0.1, 'metric': 'Accuracy'}\n",
      "\n",
      "After using clear() function\n",
      "{}\n"
     ]
    }
   ],
   "source": [
    "parameters = {'learning_rate': 0.1,\n",
    "              'metric': 'Accuracy'}\n",
    "\n",
    "print('Before using clear() function')\n",
    "print(parameters)\n",
    "\n",
    "parameters.clear()\n",
    "\n",
    "print('\\nAfter using clear() function')\n",
    "print(parameters)"
   ]
  },
  {
   "cell_type": "markdown",
   "metadata": {},
   "source": [
    "Code này sử dụng phương thức clear() để xóa tất cả các cặp khóa-giá trị khỏi từ điển parameters. Kết quả được in ra trước và sau khi sử dụng phương thức clear() để minh họa rằng tất cả các mục đã bị xóa khỏi từ điển. Điều này làm cho từ điển trở thành rỗng."
   ]
  },
  {
   "cell_type": "code",
   "execution_count": 4,
   "metadata": {},
   "outputs": [
    {
     "ename": "KeyError",
     "evalue": "'algorithm'",
     "output_type": "error",
     "traceback": [
      "\u001b[1;31m---------------------------------------------------------------------------\u001b[0m",
      "\u001b[1;31mKeyError\u001b[0m                                  Traceback (most recent call last)",
      "Cell \u001b[1;32mIn[4], line 4\u001b[0m\n\u001b[0;32m      1\u001b[0m parameters \u001b[38;5;241m=\u001b[39m {\u001b[38;5;124m'\u001b[39m\u001b[38;5;124mlearning_rate\u001b[39m\u001b[38;5;124m'\u001b[39m: \u001b[38;5;241m0.1\u001b[39m,\n\u001b[0;32m      2\u001b[0m               \u001b[38;5;124m'\u001b[39m\u001b[38;5;124mmetric\u001b[39m\u001b[38;5;124m'\u001b[39m: \u001b[38;5;124m'\u001b[39m\u001b[38;5;124mAccuracy\u001b[39m\u001b[38;5;124m'\u001b[39m}\n\u001b[1;32m----> 4\u001b[0m \u001b[38;5;28;01mdel\u001b[39;00m \u001b[43mparameters\u001b[49m\u001b[43m[\u001b[49m\u001b[38;5;124;43m'\u001b[39;49m\u001b[38;5;124;43malgorithm\u001b[39;49m\u001b[38;5;124;43m'\u001b[39;49m\u001b[43m]\u001b[49m\n",
      "\u001b[1;31mKeyError\u001b[0m: 'algorithm'"
     ]
    }
   ],
   "source": [
    "parameters = {'learning_rate': 0.1,\n",
    "              'metric': 'Accuracy'}\n",
    "\n",
    "del parameters['algorithm']"
   ]
  },
  {
   "cell_type": "code",
   "execution_count": 5,
   "metadata": {},
   "outputs": [
    {
     "name": "stdout",
     "output_type": "stream",
     "text": [
      "Khóa 'algorithm' không tồn tại trong từ điển.\n"
     ]
    }
   ],
   "source": [
    "parameters = {'learning_rate': 0.1,\n",
    "              'metric': 'Accuracy'}\n",
    "\n",
    "if 'algorithm' in parameters:\n",
    "    del parameters['algorithm']\n",
    "    print(\"Đã xóa khóa 'algorithm' thành công.\")\n",
    "else:\n",
    "    print(\"Khóa 'algorithm' không tồn tại trong từ điển.\")\n"
   ]
  },
  {
   "cell_type": "markdown",
   "metadata": {},
   "source": [
    "Code này kiểm tra xem khóa 'algorithm' có tồn tại trong từ điển parameters hay không. Nếu tồn tại, nó sẽ xóa khóa 'algorithm' bằng cách sử dụng lệnh del và in ra thông báo \"Đã xóa khóa 'algorithm' thành công.\". Nếu không tồn tại, nó sẽ in ra thông báo \"Khóa 'algorithm' không tồn tại trong từ điển.\". Điều này giúp đảm bảo rằng chỉ có các khóa tồn tại sẽ được xóa khỏi từ điển."
   ]
  },
  {
   "cell_type": "code",
   "execution_count": 6,
   "metadata": {},
   "outputs": [
    {
     "name": "stdout",
     "output_type": "stream",
     "text": [
      "{'learning_rate': 0.1, 'metric': 'Accuracy'}\n",
      "{'learning_rate': 0.2, 'metric': 'Accuracy'}\n"
     ]
    }
   ],
   "source": [
    "parameters = {'learning_rate': 0.1,\n",
    "              'metric': 'Accuracy'}\n",
    "\n",
    "a_copy = parameters.copy()\n",
    "a_copy['learning_rate'] = 0.2\n",
    "\n",
    "print(parameters)\n",
    "print(a_copy)"
   ]
  },
  {
   "cell_type": "markdown",
   "metadata": {},
   "source": [
    "Code này tạo một bản sao của từ điển parameters bằng cách sử dụng phương thức copy(), và gán bản sao này vào biến a_copy. Sau đó, nó thay đổi giá trị của khóa 'learning_rate' trong bản sao a_copy thành 0.2. Kết quả in ra màn hình là từ điển ban đầu parameters và bản sao đã được thay đổi a_copy. Điều này minh họa rằng việc thay đổi một bản sao của từ điển không ảnh hưởng đến từ điển gốc"
   ]
  },
  {
   "cell_type": "code",
   "execution_count": 7,
   "metadata": {},
   "outputs": [
    {
     "name": "stdout",
     "output_type": "stream",
     "text": [
      "{'learning_rate': 0.2, 'metric': 'Accuracy'}\n"
     ]
    }
   ],
   "source": [
    "parameters = {'learning_rate': 0.1,\n",
    "              'metric': 'Accuracy'}\n",
    "\n",
    "parameters['learning_rate'] = 0.2\n",
    "print(parameters)"
   ]
  },
  {
   "cell_type": "markdown",
   "metadata": {},
   "source": [
    "Code này thay đổi giá trị của khóa 'learning_rate' trong từ điển parameters từ 0.1 thành 0.2. Sau đó, nó in ra từ điển parameters để hiển thị sự thay đổi."
   ]
  },
  {
   "cell_type": "code",
   "execution_count": 8,
   "metadata": {},
   "outputs": [
    {
     "name": "stdout",
     "output_type": "stream",
     "text": [
      "learning_rate 0.2\n",
      "metric Accuracy\n"
     ]
    }
   ],
   "source": [
    "\n",
    "\n",
    "for key in parameters:\n",
    "    print(key, parameters.get(key))"
   ]
  },
  {
   "cell_type": "markdown",
   "metadata": {},
   "source": [
    "đoạn code lặp qua các cặp key-value trong từ điển parameters và in ra màn hình cả key và value của mỗi cặp. Điều này giúp hiển thị toàn bộ nội dung của từ điển parameters, bao gồm giá trị mới của learning_rate."
   ]
  },
  {
   "cell_type": "code",
   "execution_count": 9,
   "metadata": {},
   "outputs": [
    {
     "name": "stdout",
     "output_type": "stream",
     "text": [
      "dict_keys(['first', 'second'])\n",
      "dict_values(['string value', [1, 2]])\n"
     ]
    }
   ],
   "source": [
    "d = {'first':'string value', 'second':[1,2]}\n",
    "keys = d.keys()\n",
    "values = d.values()\n",
    "\n",
    "print(keys)\n",
    "print(values)"
   ]
  },
  {
   "cell_type": "markdown",
   "metadata": {},
   "source": [
    "code này truy xuất tất cả các khóa và giá trị từ từ điển d và lưu chúng trong các biến keys và values tương ứng. Sau đó, nó in ra màn hình các khóa và giá trị đó. Điều này giúp hiển thị tất cả các khóa và giá trị có trong từ điển d."
   ]
  },
  {
   "cell_type": "code",
   "execution_count": 10,
   "metadata": {},
   "outputs": [
    {
     "data": {
      "text/plain": [
       "dict_values(['string value', [1, 2]])"
      ]
     },
     "execution_count": 10,
     "metadata": {},
     "output_type": "execute_result"
    }
   ],
   "source": [
    "d = {'first':'string value', 'second':[1,2]}\n",
    "d.values()"
   ]
  },
  {
   "cell_type": "markdown",
   "metadata": {},
   "source": [
    "Câu lệnh d.values() trả về một đối tượng dạng \"view\" của các giá trị trong từ điển d. Đối tượng này không phải là một danh sách thực sự mà là một \"view object\", tức là một cách nhìn trừu tượng của các giá trị trong từ điển. Để hiển thị các giá trị, bạn có thể chuyển đổi chúng thành một danh sách hoặc sử dụng chúng như một vòng lặp hoặc áp dụng các phương thức hoặc toán tử phù hợp"
   ]
  },
  {
   "cell_type": "markdown",
   "metadata": {},
   "source": [
    "Bạn có thể truy cập vào giá trị của một khóa đã cho như sau"
   ]
  },
  {
   "cell_type": "code",
   "execution_count": 11,
   "metadata": {},
   "outputs": [
    {
     "name": "stdout",
     "output_type": "stream",
     "text": [
      "string value\n",
      "[1, 2]\n"
     ]
    }
   ],
   "source": [
    "d = {'first':'string value', 'second':[1,2]}\n",
    "print(d['first'])\n",
    "print(d['second'])"
   ]
  },
  {
   "cell_type": "markdown",
   "metadata": {},
   "source": [
    "Khi sử dụng cú pháp d['key'],ta truy cập giá trị tương ứng với key đó trong từ điển. Trong trường hợp này, d['first'] trả về \"string value\" và d['second'] trả về [1, 2]"
   ]
  },
  {
   "cell_type": "markdown",
   "metadata": {},
   "source": [
    "#### Phương pháp truy vấn thông tin"
   ]
  },
  {
   "cell_type": "markdown",
   "metadata": {},
   "source": [
    "Ngoài các phương thức key và value, còn có phương thức trả về danh sách các mục có dạng (key, value). \n",
    "Những phương thức khác không return theo bất kỳ thứ tự cụ thể nào:"
   ]
  },
  {
   "cell_type": "code",
   "execution_count": 12,
   "metadata": {},
   "outputs": [
    {
     "name": "stdout",
     "output_type": "stream",
     "text": [
      "items: dict_items([('first', 'string value'), ('second', [1, 2])])\n",
      "first string value\n",
      "second [1, 2]\n"
     ]
    }
   ],
   "source": [
    "d = {'first':'string value', 'second':[1,2]}\n",
    "items = d.items()\n",
    "\n",
    "print('items:', items)\n",
    "for k,v in items:\n",
    "    print(k, v)"
   ]
  },
  {
   "cell_type": "markdown",
   "metadata": {},
   "source": [
    "Khi gọi phương thức items() trên từ điển d, nó trả về một đối tượng dict_items, chứa tất cả các cặp khóa-giá trị của từ điển dưới dạng các bộ. Trong trường hợp này, items chứa các cặp ('first', 'string value') và ('second', [1, 2]).\n",
    "\n",
    "Khi vòng lặp qua items, ta có thể gán từng phần tử của mỗi bộ cho các biến k và v, tương ứng với khóa và giá trị của từng cặp trong từ điển. Điều này giúp ta truy cập và hiển thị cả khóa và giá trị của từng mục trong từ điển."
   ]
  },
  {
   "cell_type": "code",
   "execution_count": 13,
   "metadata": {},
   "outputs": [
    {
     "ename": "AttributeError",
     "evalue": "'dict' object has no attribute '_contain_'",
     "output_type": "error",
     "traceback": [
      "\u001b[1;31m---------------------------------------------------------------------------\u001b[0m",
      "\u001b[1;31mAttributeError\u001b[0m                            Traceback (most recent call last)",
      "Cell \u001b[1;32mIn[13], line 2\u001b[0m\n\u001b[0;32m      1\u001b[0m d \u001b[38;5;241m=\u001b[39m {\u001b[38;5;124m'\u001b[39m\u001b[38;5;124mfirst\u001b[39m\u001b[38;5;124m'\u001b[39m:\u001b[38;5;124m'\u001b[39m\u001b[38;5;124mstring value\u001b[39m\u001b[38;5;124m'\u001b[39m, \u001b[38;5;124m'\u001b[39m\u001b[38;5;124msecond\u001b[39m\u001b[38;5;124m'\u001b[39m:[\u001b[38;5;241m1\u001b[39m,\u001b[38;5;241m2\u001b[39m]}\n\u001b[1;32m----> 2\u001b[0m \u001b[43md\u001b[49m\u001b[38;5;241;43m.\u001b[39;49m\u001b[43m_contain_\u001b[49m(\u001b[38;5;124m'\u001b[39m\u001b[38;5;124mfirst\u001b[39m\u001b[38;5;124m'\u001b[39m)\n",
      "\u001b[1;31mAttributeError\u001b[0m: 'dict' object has no attribute '_contain_'"
     ]
    }
   ],
   "source": [
    "d = {'first':'string value', 'second':[1,2]}\n",
    "d._contain_('first')"
   ]
  },
  {
   "cell_type": "code",
   "execution_count": null,
   "metadata": {},
   "outputs": [],
   "source": [
    "d = {'first': 'string value', 'second': [1, 2]}\n",
    "if 'first' in d:\n",
    "    print(\"Khóa 'first' tồn tại trong từ điển.\")\n",
    "else:\n",
    "    print(\"Khóa 'first' không tồn tại trong từ điển.\")"
   ]
  },
  {
   "cell_type": "markdown",
   "metadata": {},
   "source": [
    "Đoạn code kiểm tra xem khóa 'first' có tồn tại trong từ điển không. Nếu tồn tại, nó in ra thông báo \"Khóa 'first' tồn tại trong từ điển.\", ngược lại nó sẽ in ra thông báo \"Khóa 'first' không tồn tại trong từ điển.\". Điều này giúp kiểm tra sự tồn tại của một khóa trước khi thực hiện các thao tác trên từ điển."
   ]
  },
  {
   "cell_type": "markdown",
   "metadata": {},
   "source": [
    "Phương thức iteritems hoạt động theo cách tương tự, nhưng trả về một trình vòng lặp thay vì danh sách.\n",
    "Để hiểu thêm các bạn xem phần ví dụ:\n",
    "\n",
    "Bạn có thể kiểm tra sự tồn tại của một khóa cụ thể bằng has_key:"
   ]
  },
  {
   "cell_type": "markdown",
   "metadata": {},
   "source": [
    "d.has_key('first')"
   ]
  },
  {
   "cell_type": "markdown",
   "metadata": {},
   "source": [
    "Biểu thức d.has_key (k) tương đương với k trong d. Để nhận được giá trị tương ứng với một khóa cụ thể, hãy sử dụng get hoặc pop:"
   ]
  },
  {
   "cell_type": "code",
   "execution_count": null,
   "metadata": {},
   "outputs": [
    {
     "name": "stdout",
     "output_type": "stream",
     "text": [
      "string value\n",
      "{'first': 'string value', 'second': [1, 2]}\n"
     ]
    }
   ],
   "source": [
    "d = {'first':'string value', 'second':[1,2]}\n",
    "value = d.get('first')\n",
    "\n",
    "print(value)\n",
    "print(d)"
   ]
  },
  {
   "cell_type": "markdown",
   "metadata": {},
   "source": [
    "\n",
    "Đoạn code này sử dụng phương thức .get() để lấy giá trị tương ứng với khóa 'first' trong từ điển d. Nếu khóa 'first' tồn tại, phương thức .get() sẽ trả về giá trị của khóa 'first', ngược lại nó sẽ trả về None. Kết quả được gán vào biến value, và sau đó in ra giá trị của value và từ điển d"
   ]
  },
  {
   "cell_type": "markdown",
   "metadata": {},
   "source": [
    "Rất hữu ích cho những việc như thêm số:"
   ]
  },
  {
   "cell_type": "markdown",
   "metadata": {},
   "source": [
    "sum[value] = sum.get(value, 0) + 1"
   ]
  },
  {
   "cell_type": "markdown",
   "metadata": {},
   "source": [
    "Sự khác biệt giữa get và pop là pop cũng loại bỏ mục tương ứng trong từ điển:"
   ]
  },
  {
   "cell_type": "code",
   "execution_count": null,
   "metadata": {},
   "outputs": [
    {
     "name": "stdout",
     "output_type": "stream",
     "text": [
      "string value\n",
      "{'second': [1, 2]}\n"
     ]
    }
   ],
   "source": [
    "d = {'first':'string value', 'second':[1,2]}\n",
    "value = d.pop('first')\n",
    "\n",
    "print(value)\n",
    "print(d)"
   ]
  },
  {
   "cell_type": "markdown",
   "metadata": {},
   "source": [
    "Đoạn code này sử dụng phương thức .pop() để loại bỏ mục có khóa 'first' khỏi từ điển d và trả về giá trị của mục đó. Kết quả được gán vào biến value, và sau đó in ra giá trị của value và từ điển d"
   ]
  },
  {
   "cell_type": "code",
   "execution_count": null,
   "metadata": {},
   "outputs": [
    {
     "name": "stdout",
     "output_type": "stream",
     "text": [
      "{'second': [1, 2]}\n"
     ]
    }
   ],
   "source": [
    "print(d)"
   ]
  },
  {
   "cell_type": "markdown",
   "metadata": {},
   "source": [
    "Cuối cùng, popitem loại bỏ và trả về một cặp (key, vule); \n",
    "bạn không chọn cái nào vì từ điển không được sắp xếp"
   ]
  },
  {
   "cell_type": "code",
   "execution_count": null,
   "metadata": {},
   "outputs": [
    {
     "name": "stdout",
     "output_type": "stream",
     "text": [
      "('4', 'value4')\n",
      "{'1': 'value1', '2': 'value2', '3': 'value3'}\n"
     ]
    }
   ],
   "source": [
    "d = {'1':'value1', '2':'value2', '3':'value3', '4':'value4'}\n",
    "item = d.popitem()\n",
    "\n",
    "print(item)\n",
    "print(d)"
   ]
  },
  {
   "cell_type": "markdown",
   "metadata": {},
   "source": [
    "Hàm popitem() được sử dụng để loại bỏ một cặp key-value ngẫu nhiên từ từ điển và trả về cặp đó dưới dạng một tuple. Trong trường hợp này, một cặp key-value được loại bỏ từ từ điển d và gán cho biến item, sau đó cặp đó được in ra, cùng với từ điển sau khi loại bỏ cặp đó. Điều này là do phương thức popitem() không nhận bất kỳ đối số nào và loại bỏ một cặp key-value ngẫu nhiên.\n",
    "\n",
    "Hàm popitem() được sử dụng để loại bỏ một cặp key-value ngẫu nhiên từ từ điển và trả về cặp đó dưới dạng một tuple. Trong trường hợp này, một cặp key-value được loại bỏ từ từ điển d và gán cho biến item, sau đó cặp đó được in ra, cùng với từ điển sau khi loại bỏ cặp đó. Điều này là do phương thức popitem() không nhận bất kỳ đối số nào và loại bỏ một cặp key-value ngẫu nhiên."
   ]
  },
  {
   "cell_type": "code",
   "execution_count": null,
   "metadata": {},
   "outputs": [
    {
     "data": {
      "text/plain": [
       "{}"
      ]
     },
     "execution_count": 24,
     "metadata": {},
     "output_type": "execute_result"
    }
   ],
   "source": [
    "d #kiểm tra các phần tử trong d"
   ]
  },
  {
   "cell_type": "markdown",
   "metadata": {},
   "source": [
    "####  Methods to create new dictionary"
   ]
  },
  {
   "cell_type": "markdown",
   "metadata": {},
   "source": [
    "Vì dictionary (giống như các chuỗi khác) là các đối tượng, bạn nên cẩn thận khi sử dụng dấu hiệu ảnh hưởng:"
   ]
  },
  {
   "cell_type": "code",
   "execution_count": null,
   "metadata": {},
   "outputs": [
    {
     "ename": "SyntaxError",
     "evalue": "EOL while scanning string literal (<ipython-input-26-636f4351c78a>, line 4)",
     "output_type": "error",
     "traceback": [
      "\u001b[1;36m  File \u001b[1;32m\"<ipython-input-26-636f4351c78a>\"\u001b[1;36m, line \u001b[1;32m4\u001b[0m\n\u001b[1;33m    d1['a]\u001b[0m\n\u001b[1;37m          ^\u001b[0m\n\u001b[1;31mSyntaxError\u001b[0m\u001b[1;31m:\u001b[0m EOL while scanning string literal\n"
     ]
    }
   ],
   "source": [
    "d1 = {'a': [1,2]}\n",
    "d2 = d1\n",
    "d2['a'] = [1,2,3,4]\n",
    "d1['a]"
   ]
  },
  {
   "cell_type": "code",
   "execution_count": null,
   "metadata": {},
   "outputs": [],
   "source": [
    "d1 = {'a': [1,2]}\n",
    "d2 = d1\n",
    "d2['a'] = [1,2,3,4]\n",
    "print(d1['a'])"
   ]
  },
  {
   "cell_type": "markdown",
   "metadata": {},
   "source": [
    "Khi gán d2 = d1, cả d1 và d2 đều trỏ đến cùng một vùng bộ nhớ, nên khi thay đổi d2, d1 cũng sẽ bị ảnh hưởng. Điều này dẫn đến việc giá trị của d1['a'] cũng thay đổi khi thay đổi d2['a']. Đây là một ví dụ về việc tham chiếu đến cùng một đối tượng trong Python."
   ]
  },
  {
   "cell_type": "markdown",
   "metadata": {},
   "source": [
    "Để tạo một đối tượng mới, sử dụng phương thức sao chép (shallow copy):"
   ]
  },
  {
   "cell_type": "code",
   "execution_count": null,
   "metadata": {},
   "outputs": [
    {
     "name": "stdout",
     "output_type": "stream",
     "text": [
      "d1: {'a': [1, 2]}\n",
      "d2: {'a': [1, 2]}\n"
     ]
    }
   ],
   "source": [
    "d1 = {'a': [1,2]}\n",
    "d2 = d1.copy()\n",
    "\n",
    "print('d1:', d1)\n",
    "print('d2:', d2)"
   ]
  },
  {
   "cell_type": "markdown",
   "metadata": {},
   "source": [
    "Đúng, khi sử dụng phương thức copy(), Python tạo ra một bản sao của từ điển d1, vì vậy d2 không tham chiếu đến cùng một vùng bộ nhớ với d1. Điều này có nghĩa là thay đổi d2 sẽ không ảnh hưởng đến d1, và ngược lại."
   ]
  },
  {
   "cell_type": "code",
   "execution_count": null,
   "metadata": {},
   "outputs": [
    {
     "name": "stdout",
     "output_type": "stream",
     "text": [
      "d1: {'a': [3, 4], 'b': 5}\n",
      "d2: {'a': [3, 4], 'b': 5}\n"
     ]
    }
   ],
   "source": [
    "d1 = {'a': [1,2], 'b': 5}\n",
    "d2 = d1.copy()\n",
    "\n",
    "# thay đổi giá trị d2 sẽ ảnh hưởng đến d1\n",
    "d2['a'][0] = 3\n",
    "d2['a'][1] = 4\n",
    "\n",
    "print('d1:', d1)\n",
    "print('d2:', d2)"
   ]
  },
  {
   "cell_type": "markdown",
   "metadata": {},
   "source": [
    "phương thức copy(), Python tạo ra một bản sao của từ điển d1, nhưng các đối tượng con bên trong (như danh sách) vẫn được tham chiếu chung. Điều này có nghĩa là thay đổi các đối tượng con trong d2 (như danh sách) cũng sẽ ảnh hưởng đến d1. Điều này là do các đối tượng con được tham chiếu chung, không được sao chép."
   ]
  },
  {
   "cell_type": "code",
   "execution_count": null,
   "metadata": {},
   "outputs": [
    {
     "name": "stdout",
     "output_type": "stream",
     "text": [
      "d1: {'a': [1, 2], 'b': 5}\n",
      "d2: {'a': [3, 4], 'b': 5}\n"
     ]
    }
   ],
   "source": [
    "import copy\n",
    "\n",
    "d1 = {'a': [1,2], 'b': 5}\n",
    "d2 = copy.deepcopy(d1)\n",
    "\n",
    "# thay đổi giá trị d2 \n",
    "d2['a'][0] = 3\n",
    "d2['a'][1] = 4\n",
    "\n",
    "print('d1:', d1)\n",
    "print('d2:', d2)"
   ]
  },
  {
   "cell_type": "markdown",
   "metadata": {},
   "source": [
    "khi sử dụng copy.deepcopy(d1), bạn tạo một bản sao độc lập của từ điển d1 với tất cả các đối tượng con của nó. Điều này bao gồm việc sao chép các danh sách hoặc bất kỳ đối tượng có tham chiếu đến các đối tượng khác trong bộ nhớ. Do đó, khi bạn thay đổi một trong những đối tượng con trong d2, như danh sách d2['a'], các thay đổi không ảnh hưởng đến d1. Điều này là do deepcopy tạo ra một bản sao hoàn toàn mới, không chia sẻ tham chiếu với các đối tượng trong bộ nhớ với từ điển ban đầu."
   ]
  },
  {
   "cell_type": "markdown",
   "metadata": {},
   "source": [
    "Bạn có thể xóa một từ điển (nghĩa là xóa tất cả các mục của nó) bằng phương thức clear ():"
   ]
  },
  {
   "cell_type": "code",
   "execution_count": null,
   "metadata": {},
   "outputs": [
    {
     "name": "stdout",
     "output_type": "stream",
     "text": [
      "{'a': [1, 2], 'b': 5}\n",
      "{}\n"
     ]
    }
   ],
   "source": [
    "d = {'a': [1,2], 'b': 5}\n",
    "print(d)\n",
    "\n",
    "d.clear()\n",
    "print(d)"
   ]
  },
  {
   "cell_type": "markdown",
   "metadata": {},
   "source": [
    "Phương thức clear() được sử dụng để xóa tất cả các cặp khóa-giá trị từ từ điển. Khi bạn gọi d.clear(), tất cả các phần tử trong từ điển d sẽ bị xóa đi, làm cho từ điển trở thành rỗng. Đây là kết quả bạn nhận được khi in d sau khi gọi clear()."
   ]
  },
  {
   "cell_type": "code",
   "execution_count": null,
   "metadata": {},
   "outputs": [
    {
     "name": "stdout",
     "output_type": "stream",
     "text": [
      "{'a': [1, 2], 'b': 5}\n",
      "{'b': 5}\n"
     ]
    }
   ],
   "source": [
    "d = {'a': [1,2], 'b': 5}\n",
    "print(d)\n",
    "\n",
    "del d['a']\n",
    "print(d)"
   ]
  },
  {
   "cell_type": "markdown",
   "metadata": {},
   "source": [
    "\n",
    "Khi bạn sử dụng del d['a'], bạn đang xóa phần tử có khóa là 'a' khỏi từ điển d. Sau đó, bạn in lại từ điển d và kết quả cho thấy rằng phần tử có khóa 'a' đã được xóa. Đây là cách del hoạt động với từ điển trong Python."
   ]
  },
  {
   "cell_type": "code",
   "execution_count": null,
   "metadata": {},
   "outputs": [
    {
     "name": "stdout",
     "output_type": "stream",
     "text": [
      "{'a': [1, 2], 'b': 5}\n"
     ]
    },
    {
     "ename": "NameError",
     "evalue": "name 'd' is not defined",
     "output_type": "error",
     "traceback": [
      "\u001b[0;31m---------------------------------------------------------------------------\u001b[0m",
      "\u001b[0;31mNameError\u001b[0m                                 Traceback (most recent call last)",
      "\u001b[0;32m<ipython-input-45-75b31475aad4>\u001b[0m in \u001b[0;36m<module>\u001b[0;34m\u001b[0m\n\u001b[1;32m      3\u001b[0m \u001b[0;34m\u001b[0m\u001b[0m\n\u001b[1;32m      4\u001b[0m \u001b[0;32mdel\u001b[0m \u001b[0md\u001b[0m\u001b[0;34m\u001b[0m\u001b[0;34m\u001b[0m\u001b[0m\n\u001b[0;32m----> 5\u001b[0;31m \u001b[0mprint\u001b[0m\u001b[0;34m(\u001b[0m\u001b[0md\u001b[0m\u001b[0;34m)\u001b[0m\u001b[0;34m\u001b[0m\u001b[0;34m\u001b[0m\u001b[0m\n\u001b[0m",
      "\u001b[0;31mNameError\u001b[0m: name 'd' is not defined"
     ]
    }
   ],
   "source": [
    "d = {'a': [1,2], 'b': 5}\n",
    "print(d)\n",
    "\n",
    "del d\n",
    "print(d)"
   ]
  },
  {
   "cell_type": "code",
   "execution_count": 15,
   "metadata": {},
   "outputs": [
    {
     "name": "stdout",
     "output_type": "stream",
     "text": [
      "{'a': [1, 2], 'b': 5}\n",
      "Biến 'd' đã bị xóa.\n"
     ]
    }
   ],
   "source": [
    "d = {'a': [1,2], 'b': 5}\n",
    "print(d)\n",
    "\n",
    "del d\n",
    "\n",
    "# Chỉ in nếu biến vẫn tồn tại\n",
    "if 'd' in locals():\n",
    "    print(d)\n",
    "else:\n",
    "    print(\"Biến 'd' đã bị xóa.\")\n"
   ]
  },
  {
   "cell_type": "markdown",
   "metadata": {},
   "source": [
    "\n",
    "Code của bạn xóa biến d bằng cách sử dụng del d, sau đó kiểm tra xem biến d còn tồn tại trong không gian tên của chương trình bằng cách sử dụng if 'd' in locals():. Tuy nhiên, sau khi bạn đã xóa biến d, biến d sẽ không còn tồn tại trong không gian tên nữa, do đó điều kiện if sẽ không được thỏa mãn và chương trình sẽ in ra thông báo \"Biến 'd' đã bị xóa.\"."
   ]
  },
  {
   "cell_type": "markdown",
   "metadata": {},
   "source": [
    "Phương thức clear () xóa tất cả các mục trong khi del () xóa chỉ một:"
   ]
  },
  {
   "cell_type": "code",
   "execution_count": 16,
   "metadata": {},
   "outputs": [
    {
     "name": "stdout",
     "output_type": "stream",
     "text": [
      "{'b': 2, 'c': 3}\n"
     ]
    }
   ],
   "source": [
    "d = {'a':1, 'b':2, 'c':3}\n",
    "del d['a']\n",
    "print(d)"
   ]
  },
  {
   "cell_type": "markdown",
   "metadata": {},
   "source": [
    "\n",
    "Đoạn mã này xóa phần tử có khóa là 'a' khỏi từ điển d bằng cách sử dụng del d['a']. Sau đó, nó in ra từ điển d mới, không chứa phần tử nào có khóa là 'a'."
   ]
  },
  {
   "cell_type": "markdown",
   "metadata": {},
   "source": [
    "Tạo một mục mới với giá trị mặc định (nếu không được cung cấp, Không có gì là mặc định):"
   ]
  },
  {
   "cell_type": "code",
   "execution_count": 17,
   "metadata": {},
   "outputs": [
    {
     "name": "stdout",
     "output_type": "stream",
     "text": [
      "{'a': [1, 2], 'third': ''}\n"
     ]
    }
   ],
   "source": [
    "d1 = {'a': [1,2]}\n",
    "d2 = d1.copy()\n",
    "d2.setdefault('third', '')\n",
    "d2['third']\n",
    "print(d2)"
   ]
  },
  {
   "cell_type": "markdown",
   "metadata": {},
   "source": [
    "Đoạn mã này sao chép từ điển d1 vào d2 bằng cách sử dụng phương thức copy(). Sau đó, nó sử dụng phương thức setdefault() để thiết lập giá trị cho khóa 'third' thành '' trong d2. Tiếp theo, nó truy cập giá trị của khóa 'third' bằng cách sử dụng d2['third']. Cuối cùng, nó in ra từ điển d2, đã được cập nhật với khóa 'third' có giá trị là ''"
   ]
  },
  {
   "cell_type": "code",
   "execution_count": 18,
   "metadata": {},
   "outputs": [
    {
     "data": {
      "text/plain": [
       "''"
      ]
     },
     "execution_count": 18,
     "metadata": {},
     "output_type": "execute_result"
    }
   ],
   "source": [
    "d = {'a':1, 'b':2, 'c':3}\n",
    "\n",
    "d2.setdefault('third', '')"
   ]
  },
  {
   "cell_type": "markdown",
   "metadata": {},
   "source": [
    "Trong đoạn mã này, bạn đang cố gắng sử dụng phương thức setdefault() trên d2, nhưng d2 không được định nghĩa ở đâu trước đó. Có thể bạn muốn sử dụng d thay vì d2? Phương thức setdefault() sẽ tạo ra một khóa mới trong từ điển nếu nó không tồn tại, và gán giá trị mặc định cho khóa đó nếu không có giá trị nào được cung cấp."
   ]
  },
  {
   "cell_type": "markdown",
   "metadata": {},
   "source": [
    "Tạo một từ điển cho một bộ khóa (key):"
   ]
  },
  {
   "cell_type": "code",
   "execution_count": 19,
   "metadata": {},
   "outputs": [
    {
     "data": {
      "text/plain": [
       "{'first': None, 'second': None}"
      ]
     },
     "execution_count": 19,
     "metadata": {},
     "output_type": "execute_result"
    }
   ],
   "source": [
    "d1 = {'a': [1,2]}\n",
    "d2 = d1.copy()\n",
    "d2.fromkeys(['first', 'second'])"
   ]
  },
  {
   "cell_type": "markdown",
   "metadata": {},
   "source": [
    "Phương thức fromkeys() tạo một từ điển mới từ danh sách các khóa được chỉ định và thiết lập giá trị của tất cả các khóa đó thành None (hoặc giá trị được chỉ định nếu có). Ở đây, d2.fromkeys(['first', 'second']) sẽ tạo ra một từ điển mới với các khóa là 'first' và 'second', và giá trị của mỗi khóa sẽ được thiết lập thành None."
   ]
  },
  {
   "cell_type": "markdown",
   "metadata": {},
   "source": [
    "Một cú pháp khác là bắt đầu từ một từ điển trống:"
   ]
  },
  {
   "cell_type": "code",
   "execution_count": 20,
   "metadata": {},
   "outputs": [
    {
     "data": {
      "text/plain": [
       "{'first': None, 'second': None}"
      ]
     },
     "execution_count": 20,
     "metadata": {},
     "output_type": "execute_result"
    }
   ],
   "source": [
    "{}.fromkeys(['first', 'second'])"
   ]
  },
  {
   "cell_type": "markdown",
   "metadata": {},
   "source": [
    "\n",
    "Phương thức fromkeys() tạo một từ điển mới từ danh sách các khóa được chỉ định và thiết lập giá trị của tất cả các khóa đó thành None. Trong trường hợp này, {}.fromkeys(['first', 'second']) tạo ra một từ điển mới với các khóa là 'first' và 'second', và giá trị của mỗi khóa sẽ được thiết lập thành None."
   ]
  },
  {
   "cell_type": "markdown",
   "metadata": {},
   "source": [
    "Chỉ cần lưu ý rằng phương thức fromkeys () tạo ra một từ điển mới với các khóa đã cho,\n",
    "mỗi khóa có giá trị tương ứng mặc định là Không có."
   ]
  },
  {
   "cell_type": "markdown",
   "metadata": {},
   "source": [
    "####  Combining dictionaries"
   ]
  },
  {
   "cell_type": "markdown",
   "metadata": {},
   "source": [
    "Cho 2 từ điển d1 và d2, bạn có thể thêm tất cả các cặp key/ value từ d2 vào d1 bằng cách sử dụng phương thức cập nhật (thay vì lặp và tự gán từng cặp:"
   ]
  },
  {
   "cell_type": "code",
   "execution_count": 21,
   "metadata": {},
   "outputs": [
    {
     "ename": "SyntaxError",
     "evalue": "invalid syntax (878166216.py, line 2)",
     "output_type": "error",
     "traceback": [
      "\u001b[1;36m  Cell \u001b[1;32mIn[21], line 2\u001b[1;36m\u001b[0m\n\u001b[1;33m    d2 = {'a':2; 'b':2}\u001b[0m\n\u001b[1;37m               ^\u001b[0m\n\u001b[1;31mSyntaxError\u001b[0m\u001b[1;31m:\u001b[0m invalid syntax\n"
     ]
    }
   ],
   "source": [
    "\n",
    "d1 = {'a':1}\n",
    "d2 = {'a':2; 'b':2}\n",
    "d1.update(d2)\n",
    "d1['a']\n",
    "d2['b']"
   ]
  },
  {
   "cell_type": "code",
   "execution_count": 22,
   "metadata": {},
   "outputs": [
    {
     "name": "stdout",
     "output_type": "stream",
     "text": [
      "2\n",
      "2\n"
     ]
    }
   ],
   "source": [
    "d1 = {'a': 1}\n",
    "d2 = {'a': 2, 'b': 2}  # Sử dụng dấu phẩy (,) thay vì dấu chấm phẩy (;) ở đây\n",
    "d1.update(d2)\n",
    "print(d1['a'])\n",
    "print(d2['b'])\n"
   ]
  },
  {
   "cell_type": "markdown",
   "metadata": {},
   "source": [
    "Code này sử dụng phương thức update() để cập nhật hoặc thêm các cặp khóa-giá trị từ d2 vào d1. Kết quả của code sẽ là giá trị của khóa 'a' trong d1 sau khi cập nhật, cũng như giá trị của khóa 'b' trong d2.\n",
    "\n",
    "d1.update(d2): Thực hiện cập nhật d1 với các cặp khóa-giá trị từ d2.\n",
    "print(d1['a']): In ra giá trị của khóa 'a' trong d1 sau khi cập nhật.\n",
    "print(d2['b']): In ra giá trị của khóa 'b' trong d2."
   ]
  },
  {
   "cell_type": "code",
   "execution_count": 23,
   "metadata": {},
   "outputs": [
    {
     "name": "stdout",
     "output_type": "stream",
     "text": [
      "d1: {'a': 1}\n",
      "d2: {'b': 2, 'c': 3}\n",
      "d1 sau khi update: {'a': 1, 'b': 2, 'c': 3}\n"
     ]
    }
   ],
   "source": [
    "d1 = {'a':1}\n",
    "d2 = {'b':2, 'c':3}\n",
    "\n",
    "print('d1:', d1)\n",
    "print('d2:', d2)\n",
    "\n",
    "d1.update(d2)\n",
    "print('d1 sau khi update:', d1)"
   ]
  },
  {
   "cell_type": "markdown",
   "metadata": {},
   "source": [
    "Code này thực hiện việc cập nhật từ điển d1 bằng các cặp khóa-giá trị từ từ điển d2. Kết quả cuối cùng sẽ là từ điển d1 sau khi đã được cập nhật.\n",
    "\n",
    "d1.update(d2): Thực hiện cập nhật từ điển d1 bằng các cặp khóa-giá trị từ từ điển d2.\n",
    "print('d1 sau khi update:', d1): In ra từ điển d1 sau khi đã được cập nhật."
   ]
  },
  {
   "cell_type": "markdown",
   "metadata": {},
   "source": [
    "Các mục trong từ điển được cung cấp được thêm vào từ cũ, ghi đè bất kỳ mục nào có cùng khóa"
   ]
  },
  {
   "cell_type": "markdown",
   "metadata": {},
   "source": [
    "####  iterators"
   ]
  },
  {
   "cell_type": "markdown",
   "metadata": {},
   "source": [
    "Từ điển cung cấp các trình vòng lặp trên các giá trị, khóa hoặc các mục:"
   ]
  },
  {
   "cell_type": "code",
   "execution_count": 24,
   "metadata": {},
   "outputs": [
    {
     "ename": "NameError",
     "evalue": "name 't' is not defined",
     "output_type": "error",
     "traceback": [
      "\u001b[1;31m---------------------------------------------------------------------------\u001b[0m",
      "\u001b[1;31mNameError\u001b[0m                                 Traceback (most recent call last)",
      "Cell \u001b[1;32mIn[24], line 1\u001b[0m\n\u001b[1;32m----> 1\u001b[0m [x \u001b[38;5;28;01mfor\u001b[39;00m x \u001b[38;5;129;01min\u001b[39;00m \u001b[43mt\u001b[49m\u001b[38;5;241m.\u001b[39mitervalues()]\n\u001b[0;32m      2\u001b[0m [x \u001b[38;5;28;01mfor\u001b[39;00m x \u001b[38;5;129;01min\u001b[39;00m t\u001b[38;5;241m.\u001b[39miterkeys()]\n\u001b[0;32m      3\u001b[0m [x \u001b[38;5;28;01mfor\u001b[39;00m x \u001b[38;5;129;01min\u001b[39;00m t\u001b[38;5;241m.\u001b[39miteritems()]\n",
      "\u001b[1;31mNameError\u001b[0m: name 't' is not defined"
     ]
    }
   ],
   "source": [
    "[x for x in t.itervalues()]\n",
    "[x for x in t.iterkeys()]\n",
    "[x for x in t.iteritems()]\n"
   ]
  },
  {
   "cell_type": "code",
   "execution_count": 25,
   "metadata": {},
   "outputs": [
    {
     "name": "stdout",
     "output_type": "stream",
     "text": [
      "[1, 2, 3]\n",
      "['a', 'b', 'c']\n",
      "[('a', 1), ('b', 2), ('c', 3)]\n"
     ]
    }
   ],
   "source": [
    "t = {'a': 1, 'b': 2, 'c': 3}\n",
    "\n",
    "values = [x for x in t.values()]\n",
    "print(values)\n",
    "\n",
    "keys = [x for x in t.keys()]\n",
    "print(keys)\n",
    "\n",
    "items = [x for x in t.items()]\n",
    "print(items)\n"
   ]
  },
  {
   "cell_type": "markdown",
   "metadata": {},
   "source": [
    "Code này thực hiện việc cập nhật từ điển d1 bằng các cặp khóa-giá trị từ từ điển d2. Kết quả cuối cùng sẽ là từ điển d1 sau khi đã được cập nhật.\n",
    "\n",
    "d1.update(d2): Thực hiện cập nhật từ điển d1 bằng các cặp khóa-giá trị từ từ điển d2.\n",
    "print('d1 sau khi update:', d1): In ra từ điển d1 sau khi đã được cập nhật."
   ]
  },
  {
   "cell_type": "code",
   "execution_count": 26,
   "metadata": {},
   "outputs": [
    {
     "name": "stdout",
     "output_type": "stream",
     "text": [
      "{('b', 2), ('e', 5), ('d', 4), ('a', 1), ('c', 3)}\n"
     ]
    }
   ],
   "source": [
    "l_keys   = ['a', 'b', 'c', 'd', 'e']\n",
    "l_values = [1, 2, 3, 4, 5]\n",
    "\n",
    "d = {(k,v) for (k,v) in zip(l_keys,l_values)}\n",
    "print(d)"
   ]
  },
  {
   "cell_type": "markdown",
   "metadata": {},
   "source": [
    "\n",
    "Code này tạo ra một từ điển d bằng cách sử dụng comprehension để kết hợp các phần tử từ hai danh sách l_keys và l_values. Mỗi cặp khóa-giá trị được tạo thành từ các phần tử tương ứng từ hai danh sách. Điều này tạo ra một từ điển với các khóa là các phần tử từ l_keys và các giá trị là các phần tử tương ứng từ l_values.\n",
    "\n",
    "Kết quả cuối cùng sẽ là một từ điển d chứa các cặp khóa-giá trị được tạo ra từ hai danh sách."
   ]
  },
  {
   "cell_type": "markdown",
   "metadata": {},
   "source": [
    "#### Views"
   ]
  },
  {
   "cell_type": "markdown",
   "metadata": {},
   "source": [
    "viewkey, viewvalues, viewitems là các đối tượng giống như tập hợp cung cấp chế độ xem trên các key, value của D."
   ]
  },
  {
   "cell_type": "markdown",
   "metadata": {},
   "source": [
    "#### comparison"
   ]
  },
  {
   "cell_type": "markdown",
   "metadata": {},
   "source": [
    "Bạn có thể so sánh Dictionary! Trước tiên Python so sánh các cặp khóa-giá trị được sắp xếp. \n",
    "Đầu tiên, sắp xếp từ điển theo khóa và hoàn thành các mục ban đầu của chúng.\n",
    "Nếu các mục mang các giá trị khác nhau, Python chỉ ra sự so sánh giữa chúng.\n",
    "Mặt khác, các mục thứ hai được so sánh."
   ]
  },
  {
   "cell_type": "code",
   "execution_count": null,
   "metadata": {},
   "outputs": [],
   "source": []
  },
  {
   "cell_type": "code",
   "execution_count": 27,
   "metadata": {},
   "outputs": [
    {
     "name": "stdout",
     "output_type": "stream",
     "text": [
      "{'0': 0, '1': 1, '2': 2, '3': 3, '4': 4}\n"
     ]
    }
   ],
   "source": [
    "# dic comprehension\n",
    "\n",
    "aDict = {str(i):i for i in range(5)}\n",
    "print(aDict)"
   ]
  },
  {
   "cell_type": "markdown",
   "metadata": {},
   "source": [
    "Đoạn code này sử dụng dictionary comprehension để tạo một từ điển aDict. Trong comprehension, mỗi cặp khóa-giá trị được tạo ra bằng cách lặp qua các giá trị từ 0 đến 4 (được biểu diễn bởi range(5)). Mỗi khóa là một chuỗi được chuyển đổi từ giá trị của biến i thành một chuỗi bằng cách sử dụng hàm str(i), và mỗi giá trị là giá trị của i tương ứng. Kết quả là một từ điển với các khóa là chuỗi các số từ '0' đến '4' và các giá trị là các số từ 0 đến 4 tương ứng."
   ]
  },
  {
   "cell_type": "code",
   "execution_count": 28,
   "metadata": {},
   "outputs": [
    {
     "name": "stdout",
     "output_type": "stream",
     "text": [
      "<class 'dict'>\n",
      "{1: 4, 2: 5, 3: 6}\n"
     ]
    }
   ],
   "source": [
    "# from zip\n",
    "\n",
    "tuple1 = (1, 2, 3)\n",
    "tuple2 = (4, 5, 6)\n",
    "\n",
    "a_dict = dict(zip(tuple1, tuple2))\n",
    "print(type(a_dict))\n",
    "print(a_dict)"
   ]
  },
  {
   "cell_type": "markdown",
   "metadata": {},
   "source": [
    "Đoạn code này sử dụng hàm zip để kết hợp hai tuple tuple1 và tuple2 thành một danh sách các cặp. Sau đó, hàm dict() được sử dụng để tạo một từ điển từ danh sách các cặp này. Trong từ điển này, các phần tử đầu tiên của mỗi cặp từ tuple1 được sử dụng làm khóa, và các phần tử tương ứng từ tuple2 được sử dụng làm giá trị. Kết quả là một từ điển với các khóa là các phần tử của tuple1 và các giá trị tương ứng từ tuple2."
   ]
  },
  {
   "cell_type": "code",
   "execution_count": 29,
   "metadata": {},
   "outputs": [
    {
     "name": "stdout",
     "output_type": "stream",
     "text": [
      "<class 'dict'>\n",
      "{1: 4, 2: 5, 3: 6}\n"
     ]
    }
   ],
   "source": [
    "# from zip\n",
    "\n",
    "set1 = {1, 2, 3}\n",
    "set2 = {4, 5, 6}\n",
    "\n",
    "a_dict = dict(zip(set1, set2))\n",
    "print(type(a_dict))\n",
    "print(a_dict)"
   ]
  },
  {
   "cell_type": "markdown",
   "metadata": {},
   "source": [
    "\n",
    "Trong đoạn cpde này, hàm zip() được sử dụng để kết hợp hai tập hợp set1 và set2 lại với nhau thành một danh sách các cặp. Sau đó, hàm dict() được sử dụng để tạo một từ điển từ danh sách các cặp này. Trong từ điển này, các phần tử từ set1 được sử dụng làm khóa và các phần tử tương ứng từ set2 được sử dụng làm giá trị. Kết quả là một từ điển với các khóa là các phần tử của set1 và các giá trị tương ứng từ set2."
   ]
  },
  {
   "cell_type": "code",
   "execution_count": 30,
   "metadata": {},
   "outputs": [
    {
     "name": "stdout",
     "output_type": "stream",
     "text": [
      "<class 'dict'>\n",
      "{1: 4, 2: 5, 3: 6}\n"
     ]
    }
   ],
   "source": [
    "# from zip\n",
    "\n",
    "list1 = [1, 2, 3]\n",
    "list2 = [4, 5, 6]\n",
    "\n",
    "a_dict = dict(zip(list1, list2))\n",
    "print(type(a_dict))\n",
    "print(a_dict)"
   ]
  },
  {
   "cell_type": "markdown",
   "metadata": {},
   "source": [
    "\n",
    "Trong đoạn code này, hàm zip() được sử dụng để kết hợp hai danh sách list1 và list2 lại với nhau thành một danh sách các cặp. Sau đó, hàm dict() được sử dụng để tạo một từ điển từ danh sách các cặp này. Trong từ điển này, các phần tử từ list1 được sử dụng làm khóa và các phần tử tương ứng từ list2 được sử dụng làm giá trị. Kết quả là một từ điển với các khóa là các phần tử của list1 và các giá trị tương ứng từ list2."
   ]
  },
  {
   "cell_type": "code",
   "execution_count": null,
   "metadata": {},
   "outputs": [],
   "source": []
  },
  {
   "cell_type": "code",
   "execution_count": 31,
   "metadata": {},
   "outputs": [
    {
     "name": "stdout",
     "output_type": "stream",
     "text": [
      "{'banana': 2, 'apple': 0}\n"
     ]
    }
   ],
   "source": [
    "# setdefault()\n",
    "\n",
    "fruits = {'banana': 2}\n",
    "fruits.setdefault('apple', 0)\n",
    "\n",
    "print(fruits)"
   ]
  },
  {
   "cell_type": "markdown",
   "metadata": {},
   "source": [
    "Trong đoạn mã này, setdefault() được sử dụng để đặt giá trị mặc định cho một khóa trong từ điển. Nếu khóa không tồn tại, nó sẽ thêm một cặp khóa-giá trị vào từ điển với giá trị được chỉ định. Trong trường hợp này, nếu khóa 'apple' không tồn tại trong từ điển fruits, nó sẽ thêm khóa 'apple' với giá trị mặc định là 0. Kết quả là fruits sẽ là {'banana': 2, 'apple': 0}."
   ]
  },
  {
   "cell_type": "code",
   "execution_count": 32,
   "metadata": {},
   "outputs": [
    {
     "name": "stdout",
     "output_type": "stream",
     "text": [
      "{'banana': 2, 'apple': 4}\n"
     ]
    }
   ],
   "source": [
    "# setdefault()\n",
    "\n",
    "fruits = {'banana': 2, 'apple': 4}\n",
    "fruits.setdefault('apple', 0)\n",
    "\n",
    "print(fruits)"
   ]
  },
  {
   "cell_type": "markdown",
   "metadata": {},
   "source": [
    "\n",
    "Dòng fruits.setdefault('apple', 0) thực hiện việc kiểm tra xem khóa 'apple' đã tồn tại trong từ điển fruits hay chưa. Nếu 'apple' đã tồn tại, phương thức sẽ không làm gì cả và chỉ trả về giá trị tương ứng với khóa 'apple'. Trong trường hợp này, vì 'apple' đã có giá trị là 4, nên phương thức sẽ không thực hiện thêm bất kỳ thay đổi nào và trả về 4.\n",
    "\n",
    "Do đó, kết quả in ra sẽ là {'banana': 2, 'apple': 4}."
   ]
  },
  {
   "cell_type": "code",
   "execution_count": 33,
   "metadata": {},
   "outputs": [
    {
     "name": "stdout",
     "output_type": "stream",
     "text": [
      "{'banana': 2, 'apple': 10}\n"
     ]
    }
   ],
   "source": [
    "# setdefault()\n",
    "\n",
    "fruits = {'banana': 2}\n",
    "fruits.setdefault('apple', 0)\n",
    "\n",
    "fruits['apple'] += 10\n",
    "print(fruits)"
   ]
  },
  {
   "cell_type": "markdown",
   "metadata": {},
   "source": [
    "Dòng fruits.setdefault('apple', 0) thêm một cặp khóa - giá trị mới vào từ điển fruits nếu khóa 'apple' chưa tồn tại. Trong trường hợp này, vì khóa 'apple' chưa tồn tại, nên một cặp khóa - giá trị mới được thêm vào với giá trị là 0.\n",
    "\n",
    "Sau đó, dòng fruits['apple'] += 10 tăng giá trị của khóa 'apple' lên 10. Kết quả là giá trị của khóa 'apple' sau khi tăng là 10.\n",
    "\n",
    "Do đó, kết quả in ra sẽ là {'banana': 2, 'apple': 10}."
   ]
  },
  {
   "cell_type": "code",
   "execution_count": 34,
   "metadata": {},
   "outputs": [
    {
     "ename": "KeyError",
     "evalue": "'apple'",
     "output_type": "error",
     "traceback": [
      "\u001b[1;31m---------------------------------------------------------------------------\u001b[0m",
      "\u001b[1;31mKeyError\u001b[0m                                  Traceback (most recent call last)",
      "Cell \u001b[1;32mIn[34], line 5\u001b[0m\n\u001b[0;32m      1\u001b[0m \u001b[38;5;66;03m# setdefault()\u001b[39;00m\n\u001b[0;32m      3\u001b[0m fruits \u001b[38;5;241m=\u001b[39m {\u001b[38;5;124m'\u001b[39m\u001b[38;5;124mbanana\u001b[39m\u001b[38;5;124m'\u001b[39m: \u001b[38;5;241m2\u001b[39m}\n\u001b[1;32m----> 5\u001b[0m \u001b[43mfruits\u001b[49m\u001b[43m[\u001b[49m\u001b[38;5;124;43m'\u001b[39;49m\u001b[38;5;124;43mapple\u001b[39;49m\u001b[38;5;124;43m'\u001b[39;49m\u001b[43m]\u001b[49m \u001b[38;5;241m+\u001b[39m\u001b[38;5;241m=\u001b[39m \u001b[38;5;241m10\u001b[39m\n\u001b[0;32m      6\u001b[0m \u001b[38;5;28mprint\u001b[39m(fruits)\n",
      "\u001b[1;31mKeyError\u001b[0m: 'apple'"
     ]
    }
   ],
   "source": [
    "# setdefault()\n",
    "\n",
    "fruits = {'banana': 2}\n",
    "\n",
    "fruits['apple'] += 10\n",
    "print(fruits)"
   ]
  },
  {
   "cell_type": "code",
   "execution_count": 35,
   "metadata": {},
   "outputs": [
    {
     "name": "stdout",
     "output_type": "stream",
     "text": [
      "{'banana': 2, 'apple': 10}\n"
     ]
    }
   ],
   "source": [
    "fruits = {'banana': 2}\n",
    "\n",
    "fruits.setdefault('apple', 0)\n",
    "\n",
    "fruits['apple'] += 10\n",
    "\n",
    "print(fruits)\n"
   ]
  },
  {
   "cell_type": "markdown",
   "metadata": {},
   "source": [
    "\n",
    "Code trên sử dụng phương thức setdefault() để thiết lập giá trị mặc định cho khóa 'apple' là 0 nếu nó chưa tồn tại trong từ điển fruits. Sau đó, nó tăng giá trị của khóa 'apple' lên 10. Kết quả là từ điển fruits có cặp khóa-giá trị là {'banana': 2, 'apple': 10}."
   ]
  },
  {
   "cell_type": "code",
   "execution_count": null,
   "metadata": {},
   "outputs": [
    {
     "name": "stdout",
     "output_type": "stream",
     "text": [
      "banana apple\n"
     ]
    },
    {
     "ename": "TypeError",
     "evalue": "'banana' is an invalid keyword argument for print()",
     "output_type": "error",
     "traceback": [
      "\u001b[1;31m---------------------------------------------------------------------------\u001b[0m",
      "\u001b[1;31mTypeError\u001b[0m                                 Traceback (most recent call last)",
      "\u001b[1;32m<ipython-input-1-bd6d5ddfc560>\u001b[0m in \u001b[0;36m<module>\u001b[1;34m\u001b[0m\n\u001b[0;32m      3\u001b[0m \u001b[0mfruits\u001b[0m \u001b[1;33m=\u001b[0m \u001b[1;33m{\u001b[0m\u001b[1;34m'banana'\u001b[0m\u001b[1;33m:\u001b[0m \u001b[1;36m2\u001b[0m\u001b[1;33m,\u001b[0m \u001b[1;34m'apple'\u001b[0m\u001b[1;33m:\u001b[0m \u001b[1;36m4\u001b[0m\u001b[1;33m}\u001b[0m\u001b[1;33m\u001b[0m\u001b[1;33m\u001b[0m\u001b[0m\n\u001b[0;32m      4\u001b[0m \u001b[0mprint\u001b[0m\u001b[1;33m(\u001b[0m\u001b[1;33m*\u001b[0m\u001b[0mfruits\u001b[0m\u001b[1;33m)\u001b[0m\u001b[1;33m\u001b[0m\u001b[1;33m\u001b[0m\u001b[0m\n\u001b[1;32m----> 5\u001b[1;33m \u001b[0mprint\u001b[0m\u001b[1;33m(\u001b[0m\u001b[1;33m**\u001b[0m\u001b[0mfruits\u001b[0m\u001b[1;33m)\u001b[0m\u001b[1;33m\u001b[0m\u001b[1;33m\u001b[0m\u001b[0m\n\u001b[0m",
      "\u001b[1;31mTypeError\u001b[0m: 'banana' is an invalid keyword argument for print()"
     ]
    }
   ],
   "source": [
    "# merge two dicts\n",
    "\n",
    "fruits = {'banana': 2, 'apple': 4}\n",
    "result = {**fruits, **cereal}\n",
    "print(**fruits)"
   ]
  },
  {
   "cell_type": "code",
   "execution_count": 38,
   "metadata": {},
   "outputs": [
    {
     "name": "stdout",
     "output_type": "stream",
     "text": [
      "{'banana': 2, 'apple': 4, 'rice': 3, 'oats': 5}\n"
     ]
    }
   ],
   "source": [
    "fruits = {'banana': 2, 'apple': 4}\n",
    "cereal = {'rice': 3, 'oats': 5}\n",
    "\n",
    "result = {**fruits, **cereal}\n",
    "print(result)\n"
   ]
  },
  {
   "cell_type": "markdown",
   "metadata": {},
   "source": [
    "Đoạn code trên kết hợp hai từ điển fruits và cereal bằng cách sử dụng cú pháp {**fruits, **cereal}, tạo ra một từ điển mới có tên result. Kết quả là một từ điển mới chứa tất cả các cặp khóa-giá trị từ cả hai từ điển gốc."
   ]
  },
  {
   "cell_type": "code",
   "execution_count": 39,
   "metadata": {},
   "outputs": [
    {
     "name": "stdout",
     "output_type": "stream",
     "text": [
      "{'banana': 2, 'apple': 4, 'rice': 3, 'corn': 7}\n"
     ]
    }
   ],
   "source": [
    "# merge two dicts\n",
    "\n",
    "fruits = {'banana': 2, 'apple': 4}\n",
    "cereal = {'rice': 3, 'corn': 7}\n",
    "\n",
    "result = {**fruits, **cereal}\n",
    "print(result)"
   ]
  },
  {
   "cell_type": "markdown",
   "metadata": {},
   "source": [
    "\n",
    "Đoạn code trên kết hợp hai từ điển fruits và cereal bằng cách sử dụng cú pháp {**fruits, **cereal}, tạo ra một từ điển mới có tên result. Kết quả là một từ điển mới chứa tất cả các cặp khóa-giá trị từ cả hai từ điển gốc."
   ]
  },
  {
   "cell_type": "code",
   "execution_count": 40,
   "metadata": {},
   "outputs": [
    {
     "name": "stdout",
     "output_type": "stream",
     "text": [
      "True\n",
      "False\n"
     ]
    }
   ],
   "source": [
    "# check if a key exists\n",
    "\n",
    "fruits = {'banana': 2, 'apple': 4}\n",
    "\n",
    "print('apple' in fruits)\n",
    "print('corn' in fruits)"
   ]
  },
  {
   "cell_type": "markdown",
   "metadata": {},
   "source": [
    "Chương trình này kiểm tra xem các khóa 'apple' và 'corn' có tồn tại trong từ điển fruits hay không. Kết quả sẽ in ra True nếu khóa tồn tại và False nếu không tồn tại."
   ]
  },
  {
   "cell_type": "code",
   "execution_count": 41,
   "metadata": {},
   "outputs": [
    {
     "name": "stdout",
     "output_type": "stream",
     "text": [
      "{'banana': 2}\n"
     ]
    }
   ],
   "source": [
    "# remove empty items\n",
    "\n",
    "fruits = {'banana': 2, 'apple': None}\n",
    "\n",
    "dict1 = {key:value for (key, value) \n",
    "                     in fruits.items() \n",
    "                     if value is not None}\n",
    "print(dict1)"
   ]
  },
  {
   "cell_type": "markdown",
   "metadata": {},
   "source": [
    "\n",
    "Chương trình này loại bỏ các mục trong từ điển fruits mà có giá trị là None. Nó sử dụng biểu thức từ điển (dictionary comprehension) để tạo một từ điển mới chỉ chứa các mục có giá trị khác None"
   ]
  },
  {
   "cell_type": "code",
   "execution_count": null,
   "metadata": {},
   "outputs": [],
   "source": []
  },
  {
   "cell_type": "code",
   "execution_count": 42,
   "metadata": {},
   "outputs": [
    {
     "name": "stdout",
     "output_type": "stream",
     "text": [
      "4\n",
      "None\n"
     ]
    }
   ],
   "source": [
    "# access value via key\n",
    "\n",
    "fruits = {'banana': 2, 'apple': 4}\n",
    "print(fruits.get('apple'))\n",
    "print(fruits.get('corn'))"
   ]
  },
  {
   "cell_type": "markdown",
   "metadata": {},
   "source": [
    "Chương trình này truy cập giá trị tương ứng với các khóa 'apple' và 'corn' trong từ điển fruits bằng cách sử dụng phương thức get(). Nếu khóa không tồn tại trong từ điển, phương thức get() trả về None."
   ]
  },
  {
   "cell_type": "code",
   "execution_count": 43,
   "metadata": {},
   "outputs": [
    {
     "name": "stdout",
     "output_type": "stream",
     "text": [
      "4\n"
     ]
    },
    {
     "ename": "KeyError",
     "evalue": "'corn'",
     "output_type": "error",
     "traceback": [
      "\u001b[1;31m---------------------------------------------------------------------------\u001b[0m",
      "\u001b[1;31mKeyError\u001b[0m                                  Traceback (most recent call last)",
      "Cell \u001b[1;32mIn[43], line 5\u001b[0m\n\u001b[0;32m      3\u001b[0m fruits \u001b[38;5;241m=\u001b[39m {\u001b[38;5;124m'\u001b[39m\u001b[38;5;124mbanana\u001b[39m\u001b[38;5;124m'\u001b[39m: \u001b[38;5;241m2\u001b[39m, \u001b[38;5;124m'\u001b[39m\u001b[38;5;124mapple\u001b[39m\u001b[38;5;124m'\u001b[39m: \u001b[38;5;241m4\u001b[39m}\n\u001b[0;32m      4\u001b[0m \u001b[38;5;28mprint\u001b[39m(fruits[\u001b[38;5;124m'\u001b[39m\u001b[38;5;124mapple\u001b[39m\u001b[38;5;124m'\u001b[39m])\n\u001b[1;32m----> 5\u001b[0m \u001b[38;5;28mprint\u001b[39m(\u001b[43mfruits\u001b[49m\u001b[43m[\u001b[49m\u001b[38;5;124;43m'\u001b[39;49m\u001b[38;5;124;43mcorn\u001b[39;49m\u001b[38;5;124;43m'\u001b[39;49m\u001b[43m]\u001b[49m)\n",
      "\u001b[1;31mKeyError\u001b[0m: 'corn'"
     ]
    }
   ],
   "source": [
    "# access value via key\n",
    "\n",
    "fruits = {'banana': 2, 'apple': 4}\n",
    "print(fruits['apple'])\n",
    "print(fruits['corn'])"
   ]
  },
  {
   "cell_type": "code",
   "execution_count": 44,
   "metadata": {},
   "outputs": [
    {
     "name": "stdout",
     "output_type": "stream",
     "text": [
      "4\n",
      "Khóa 'corn' không tồn tại trong từ điển.\n"
     ]
    }
   ],
   "source": [
    "fruits = {'banana': 2, 'apple': 4}\n",
    "\n",
    "print(fruits['apple'])\n",
    "\n",
    "if 'corn' in fruits:\n",
    "    print(fruits['corn'])\n",
    "else:\n",
    "    print(\"Khóa 'corn' không tồn tại trong từ điển.\")\n"
   ]
  },
  {
   "cell_type": "markdown",
   "metadata": {},
   "source": [
    "hai lệnh print được sử dụng để truy cập giá trị của hai khóa 'apple' và 'corn' trong từ điển fruits. Khi truy cập khóa 'apple', giá trị 4 được trả về. sử dụng lệnh điều kiện để kiểm tra xem khóa 'corn' có tồn tại trong từ điển không trước khi truy cập là một cách an toàn để tránh lỗi KeyError."
   ]
  },
  {
   "cell_type": "markdown",
   "metadata": {},
   "source": [
    "## Dictionary and File"
   ]
  },
  {
   "cell_type": "code",
   "execution_count": 45,
   "metadata": {},
   "outputs": [],
   "source": [
    "import json\n",
    "\n",
    "parameters = {'learning_rate': 0.1,\n",
    "              'optimizer': 'Adam',\n",
    "              'metric': 'Accuracy'}\n",
    "\n",
    "with open('data.json', 'w') as fp:\n",
    "    json.dump(parameters, fp)"
   ]
  },
  {
   "cell_type": "markdown",
   "metadata": {},
   "source": [
    "tọa thư viện json để lưu một từ điển Python vào một tệp JSON. Cụ thể:\n",
    "\n",
    "parameters: Là một từ điển chứa các thông số cần lưu trữ.\n",
    "with open('data.json', 'w') as fp: Mở tệp data.json để ghi dữ liệu. Câu lệnh này sẽ tự động đóng tệp sau khi kết thúc phạm vi của khối with.\n",
    "json.dump(parameters, fp): Sử dụng hàm dump từ thư viện json để ghi nội dung của từ điển parameters vào tệp được mở (fp) dưới dạng định dạng JSON."
   ]
  },
  {
   "cell_type": "code",
   "execution_count": 46,
   "metadata": {},
   "outputs": [
    {
     "name": "stdout",
     "output_type": "stream",
     "text": [
      "{'learning_rate': 0.1, 'optimizer': 'Adam', 'metric': 'Accuracy'}\n"
     ]
    }
   ],
   "source": [
    "with open('data.json', 'r') as fp:\n",
    "    data = json.load(fp)\n",
    "    print(data)"
   ]
  },
  {
   "cell_type": "markdown",
   "metadata": {},
   "source": [
    "Đoạn code này mở tệp data.json để đọc và sau đó sử dụng hàm json.load() để tải dữ liệu từ tệp JSON vào một biến Python. Cuối cùng, nó in ra dữ liệu đã tải."
   ]
  },
  {
   "cell_type": "code",
   "execution_count": 47,
   "metadata": {},
   "outputs": [
    {
     "name": "stdout",
     "output_type": "stream",
     "text": [
      "0.1\n"
     ]
    }
   ],
   "source": [
    "print(data['learning_rate'])"
   ]
  },
  {
   "cell_type": "markdown",
   "metadata": {},
   "source": [
    "Điều này sẽ in ra giá trị của khóa \"learning_rate\" trong dữ liệu được tải từ tệp JSON."
   ]
  },
  {
   "cell_type": "code",
   "execution_count": null,
   "metadata": {},
   "outputs": [],
   "source": []
  },
  {
   "cell_type": "markdown",
   "metadata": {},
   "source": [
    "## Iterables and Sorting"
   ]
  },
  {
   "cell_type": "code",
   "execution_count": 48,
   "metadata": {},
   "outputs": [
    {
     "name": "stdout",
     "output_type": "stream",
     "text": [
      "[1, 5, 3, 7, 4]\n",
      "[1, 3, 4, 5, 7]\n"
     ]
    }
   ],
   "source": [
    "# create a list\n",
    "aList = [1, 5, 3, 7, 4]\n",
    "print(aList)\n",
    "\n",
    "# sort\n",
    "sortedList = sorted(aList)\n",
    "print(sortedList)"
   ]
  },
  {
   "cell_type": "markdown",
   "metadata": {},
   "source": [
    "Đoạn mã này tạo một danh sách aList và sau đó sắp xếp nó theo thứ tự tăng dần bằng cách sử dụng hàm sorted(). Kết quả sắp xếp được lưu vào sortedList, và cả hai danh sách ban đầu và danh sách đã sắp xếp được in ra màn hình."
   ]
  },
  {
   "cell_type": "code",
   "execution_count": null,
   "metadata": {},
   "outputs": [],
   "source": []
  },
  {
   "cell_type": "code",
   "execution_count": 49,
   "metadata": {},
   "outputs": [
    {
     "name": "stdout",
     "output_type": "stream",
     "text": [
      "[1, 5, 3, 7, 4]\n",
      "[1, 3, 4, 5, 7]\n"
     ]
    }
   ],
   "source": [
    "# create a list\n",
    "aList = [1, 5, 3, 7, 4]\n",
    "print(aList)\n",
    "\n",
    "# function for sorting\n",
    "def compare(item):\n",
    "    return item\n",
    "\n",
    "# sort\n",
    "sortedList = sorted(aList, key=compare)\n",
    "print(sortedList)"
   ]
  },
  {
   "cell_type": "markdown",
   "metadata": {},
   "source": [
    "Đoạn code này tạo một danh sách aList và sau đó sử dụng hàm sorted() để sắp xếp danh sách này. Trong trường hợp này, hàm compare được sử dụng làm hàm so sánh để sắp xếp các phần tử trong danh sách. Trong trường hợp này, hàm compare chỉ đơn giản là trả về chính giá trị của phần tử, vì vậy danh sách sẽ được sắp xếp theo thứ tự tăng dần."
   ]
  },
  {
   "cell_type": "code",
   "execution_count": null,
   "metadata": {},
   "outputs": [],
   "source": []
  },
  {
   "cell_type": "code",
   "execution_count": 50,
   "metadata": {},
   "outputs": [
    {
     "name": "stdout",
     "output_type": "stream",
     "text": [
      "{1: 16, 5: 13, 3: 18, 7: 11, 4: 15}\n"
     ]
    }
   ],
   "source": [
    "# data\n",
    "list1 = [1, 5, 3, 7, 4]\n",
    "list2 = [16, 13, 18, 11, 15]\n",
    "\n",
    "# create a dictionary\n",
    "dictionary = dict(zip(list1, list2))\n",
    "print(dictionary)"
   ]
  },
  {
   "cell_type": "markdown",
   "metadata": {},
   "source": [
    "Đoạn code này tạo một từ điển dictionary bằng cách sử dụng hàm zip() để kết hợp các phần tử từ list1 và list2 thành các cặp key-value, sau đó sử dụng hàm dict() để tạo từ điển từ các cặp key-value này. Cuối cùng, nó in ra từ điển đã tạo."
   ]
  },
  {
   "cell_type": "code",
   "execution_count": 51,
   "metadata": {},
   "outputs": [
    {
     "name": "stdout",
     "output_type": "stream",
     "text": [
      "[1, 3, 4, 5, 7]\n"
     ]
    }
   ],
   "source": [
    "sortedDict = sorted(dictionary)\n",
    "print(sortedDict)"
   ]
  },
  {
   "cell_type": "markdown",
   "metadata": {},
   "source": [
    "Hàm sorted() được sử dụng để sắp xếp các khóa trong từ điển dictionary. Khi bạn sắp xếp một từ điển, mặc định là sắp xếp theo các khóa của từ điển. Do đó, kết quả là một danh sách các khóa đã được sắp xếp theo thứ tự tăng dần."
   ]
  },
  {
   "cell_type": "code",
   "execution_count": null,
   "metadata": {},
   "outputs": [],
   "source": []
  },
  {
   "cell_type": "code",
   "execution_count": 52,
   "metadata": {},
   "outputs": [
    {
     "name": "stdout",
     "output_type": "stream",
     "text": [
      "[('a', 16), ('g', 13), ('e', 18), ('h', 11), ('b', 15)]\n"
     ]
    }
   ],
   "source": [
    "# data\n",
    "list1 = ['a', 'g', 'e', 'h', 'b']\n",
    "list2 = [16, 13, 18, 11, 15]\n",
    "\n",
    "# create a dictionary\n",
    "list3 = list(zip(list1, list2))\n",
    "print(list3)"
   ]
  },
  {
   "cell_type": "markdown",
   "metadata": {},
   "source": [
    "Dòng code list(zip(list1, list2)) tạo ra một danh sách các bộ giá trị, mỗi bộ gồm một phần tử từ list1 và một phần tử từ list2 tương ứng theo vị trí. Sau đó, print(list3) in ra danh sách các bộ giá trị này."
   ]
  },
  {
   "cell_type": "code",
   "execution_count": 53,
   "metadata": {},
   "outputs": [
    {
     "name": "stdout",
     "output_type": "stream",
     "text": [
      "[('a', 16), ('b', 15), ('e', 18), ('g', 13), ('h', 11)]\n"
     ]
    }
   ],
   "source": [
    "list4 = sorted(list3)\n",
    "print(list4)"
   ]
  },
  {
   "cell_type": "markdown",
   "metadata": {},
   "source": [
    "Hàm sorted() được sử dụng để sắp xếp danh sách các bộ giá trị list3 theo thứ tự tăng dần của phần tử đầu tiên trong mỗi bộ. Do phần tử đầu tiên trong mỗi bộ là các ký tự 'a', 'g', 'e', 'h', 'b', nên danh sách list4 sẽ được sắp xếp theo thứ tự bảng chữ cái của các ký tự này."
   ]
  },
  {
   "cell_type": "code",
   "execution_count": null,
   "metadata": {},
   "outputs": [],
   "source": []
  },
  {
   "cell_type": "code",
   "execution_count": 54,
   "metadata": {},
   "outputs": [
    {
     "name": "stdout",
     "output_type": "stream",
     "text": [
      "[('a', 16), ('g', 13), ('e', 18), ('h', 11), ('b', 15)]\n"
     ]
    }
   ],
   "source": [
    "# data\n",
    "list1 = ['a', 'g', 'e', 'h', 'b']\n",
    "list2 = [16, 13, 18, 11, 15]\n",
    "\n",
    "# function for sorting\n",
    "def compare(item):\n",
    "    return item[0]\n",
    "\n",
    "# create a dictionary\n",
    "list3 = list(zip(list1, list2))\n",
    "print(list3)"
   ]
  },
  {
   "cell_type": "markdown",
   "metadata": {},
   "source": [
    "Sau khi bạn đã tạo danh sách list3 bằng cách kết hợp list1 và list2 theo cặp phần tử, bạn đã sử dụng hàm sorted() để sắp xếp danh sách này theo một hàm so sánh tùy chỉnh được định nghĩa bởi hàm compare(item). Hàm compare(item) trả về phần tử đầu tiên của mỗi cặp, tức là chỉ số 0 của item.\n",
    "\n",
    "Do đó, danh sách list3 được sắp xếp dựa trên các ký tự trong list1 theo thứ tự bảng chữ cái"
   ]
  },
  {
   "cell_type": "code",
   "execution_count": 55,
   "metadata": {},
   "outputs": [
    {
     "name": "stdout",
     "output_type": "stream",
     "text": [
      "[('a', 16), ('b', 15), ('e', 18), ('g', 13), ('h', 11)]\n"
     ]
    }
   ],
   "source": [
    "list4 = sorted(list3, key=compare)\n",
    "print(list4)"
   ]
  },
  {
   "cell_type": "markdown",
   "metadata": {},
   "source": [
    "Dòng code này sử dụng hàm sorted() để sắp xếp list3 dựa trên hàm so sánh tùy chỉnh được định nghĩa bởi hàm compare(item). Hàm compare(item) trả về phần tử đầu tiên của mỗi cặp, tức là chỉ số 0 của item.\n",
    "\n",
    "Vì vậy, list4 sẽ chứa các cặp phần tử đã được sắp xếp theo thứ tự bảng chữ cái của ký tự đầu tiên trong list1."
   ]
  },
  {
   "cell_type": "code",
   "execution_count": null,
   "metadata": {},
   "outputs": [],
   "source": []
  },
  {
   "cell_type": "code",
   "execution_count": 56,
   "metadata": {},
   "outputs": [
    {
     "name": "stdout",
     "output_type": "stream",
     "text": [
      "[('a', 16), ('g', 13), ('e', 18), ('h', 11), ('b', 15)]\n"
     ]
    }
   ],
   "source": [
    "# data\n",
    "list1 = ['a', 'g', 'e', 'h', 'b']\n",
    "list2 = [16, 13, 18, 11, 15]\n",
    "\n",
    "# function for sorting\n",
    "def compare(item):\n",
    "    return item[1]\n",
    "\n",
    "# create a dictionary\n",
    "list3 = list(zip(list1, list2))\n",
    "print(list3)"
   ]
  },
  {
   "cell_type": "markdown",
   "metadata": {},
   "source": [
    "hàm compare(item) sẽ trả về phần tử thứ hai của mỗi cặp, tức là chỉ số 1 của item. Do đó, list4 sẽ chứa các cặp phần tử đã được sắp xếp theo giá trị số trong list2."
   ]
  },
  {
   "cell_type": "code",
   "execution_count": 57,
   "metadata": {},
   "outputs": [
    {
     "name": "stdout",
     "output_type": "stream",
     "text": [
      "[('h', 11), ('g', 13), ('b', 15), ('a', 16), ('e', 18)]\n"
     ]
    }
   ],
   "source": [
    "list4 = sorted(list3, key=compare)\n",
    "print(list4)"
   ]
  },
  {
   "cell_type": "markdown",
   "metadata": {},
   "source": [
    "list4 chứa các cặp phần tử đã được sắp xếp theo giá trị số trong list2."
   ]
  },
  {
   "cell_type": "code",
   "execution_count": null,
   "metadata": {},
   "outputs": [],
   "source": []
  },
  {
   "cell_type": "code",
   "execution_count": 58,
   "metadata": {},
   "outputs": [
    {
     "name": "stdout",
     "output_type": "stream",
     "text": [
      "[('a', 16), ('g', 13), ('e', 18), ('h', 11), ('b', 15)]\n"
     ]
    }
   ],
   "source": [
    "# data\n",
    "list1 = ['a', 'g', 'e', 'h', 'b']\n",
    "list2 = [16, 13, 18, 11, 15]\n",
    "\n",
    "# create a dictionary\n",
    "list3 = list(zip(list1, list2))\n",
    "print(list3)"
   ]
  },
  {
   "cell_type": "markdown",
   "metadata": {},
   "source": [
    "Dòng đầu tiên tạo một danh sách list1 chứa các chuỗi và dòng thứ hai tạo một danh sách list2 chứa các số nguyên. Tiếp theo, zip() được sử dụng để ghép các phần tử tương ứng từ list1 và list2 thành các cặp phần tử. Kết quả của phép ghép này là một danh sách các tuples, trong đó mỗi tuple chứa một phần tử từ list1 và một phần tử tương ứng từ list2. Kết quả cuối cùng được gán cho list3 và in ra màn hình, hiển thị các cặp phần tử tương ứng từ list1 và list2."
   ]
  },
  {
   "cell_type": "code",
   "execution_count": 59,
   "metadata": {},
   "outputs": [
    {
     "name": "stdout",
     "output_type": "stream",
     "text": [
      "[('h', 11), ('g', 13), ('b', 15), ('a', 16), ('e', 18)]\n"
     ]
    }
   ],
   "source": [
    "list4 = sorted(list3, key=lambda item: item[1])\n",
    "print(list4)"
   ]
  },
  {
   "cell_type": "markdown",
   "metadata": {},
   "source": [
    "Dòng code này sắp xếp danh sách list3 dựa trên giá trị thứ hai của mỗi tuple trong danh sách, sử dụng hàm lambda item[1] làm hàm so sánh. Kết quả được gán cho list4 và in ra màn hình, hiển thị danh sách đã được sắp xếp theo giá trị tăng dần của các phần tử thứ hai trong mỗi tuple."
   ]
  },
  {
   "cell_type": "code",
   "execution_count": null,
   "metadata": {},
   "outputs": [],
   "source": []
  }
 ],
 "metadata": {
  "kernelspec": {
   "display_name": "Python 3 (ipykernel)",
   "language": "python",
   "name": "python3"
  },
  "language_info": {
   "codemirror_mode": {
    "name": "ipython",
    "version": 3
   },
   "file_extension": ".py",
   "mimetype": "text/x-python",
   "name": "python",
   "nbconvert_exporter": "python",
   "pygments_lexer": "ipython3",
   "version": "3.12.1"
  }
 },
 "nbformat": 4,
 "nbformat_minor": 2
}
